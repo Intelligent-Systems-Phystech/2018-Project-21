{
 "cells": [
  {
   "cell_type": "markdown",
   "metadata": {},
   "source": [
    "# Literature"
   ]
  },
  {
   "cell_type": "markdown",
   "metadata": {},
   "source": [
    "$[1]$ --- Implementable tensor methods in unconstrained convex optimization, https://alfresco.uclouvain.be/alfresco/service/guest/streamDownload/workspace/SpacesStore/aabc2323-0bc1-40d4-9653-1c29971e7bd8/coredp2018_05web.pdf?guest=true.\n",
    "\n",
    "$[2]$ ---  Cubic regularization of Newton method and its global performance, http://lab7.ipu.ru/files/polyak/Nest_Pol-MathProg'06.pdf.\n",
    "\n",
    "$[3]$ --- Acelerating the cubic regularization of Newton’s method on convex\n",
    "problems, http://webdoc.sub.gwdg.de/ebook/serien/e/CORE/dp2005_68.pdf.\n",
    "\n",
    "$[4]$ --- A.R. Conn, N.I. M. Gould, and Ph.L. Toint. Trust Region Methods. SIAM, Philadelphia, 2000.\n",
    "\n",
    "$[5]$ --- Анализ быстрого градиентного метода Нестерова для задач машинного обучения с $L_1$-регуляризацией, http://www.machinelearning.ru/wiki/images/0/03/Rodomanov_FGM.pdf."
   ]
  },
  {
   "cell_type": "code",
   "execution_count": 1,
   "metadata": {},
   "outputs": [],
   "source": [
    "#import numpy as np\n",
    "import matplotlib.pyplot as plt\n",
    "%matplotlib inline\n",
    "from scipy.optimize import minimize_scalar, minimize\n",
    "import autograd.numpy as np  # Thinly-wrapped numpy\n",
    "from autograd.numpy import linalg\n",
    "from numpy import linalg\n",
    "import math\n",
    "import autograd.scipy as scipy\n",
    "from scipy import optimize\n",
    "import copy"
   ]
  },
  {
   "cell_type": "markdown",
   "metadata": {},
   "source": [
    "##### Generation matrix $A_k$ for function $f_k(x)$ in $[1]$.$[4.3]$ by Yu. Nesterov (2018)."
   ]
  },
  {
   "cell_type": "code",
   "execution_count": 2,
   "metadata": {},
   "outputs": [],
   "source": [
    "def generateAUI(k, n):\n",
    "    U = np.zeros((k, k))\n",
    "    I = np.eye(n - k)\n",
    "    for i in range(k):\n",
    "        U[i][i] = 1\n",
    "        if (i + 1 < k):\n",
    "            U[i][i + 1] = -1\n",
    "    Ak = np.block([[U, np.zeros((k, n - k))], [np.zeros((n - k, k)), I]])        \n",
    "    return Ak    "
   ]
  },
  {
   "cell_type": "markdown",
   "metadata": {},
   "source": [
    "##### $f_k$ in $[1]$.$[4.3]$, its minimum and gradient, hessian and third derivative using autograd and closed-form expressions."
   ]
  },
  {
   "cell_type": "code",
   "execution_count": 3,
   "metadata": {},
   "outputs": [],
   "source": [
    "from autograd import grad    \n",
    "from autograd import jacobian\n",
    "\n",
    "def f(x, *args):\n",
    "    k, n, p = args\n",
    "    Ak = generateAUI(k, n)\n",
    "\n",
    "    # Universal bad function\n",
    "    Axn = np.dot(Ak, x)\n",
    "    sum_Axn = np.sum(np.power(np.abs(Axn), p + 1))/(p + 1)\n",
    "    return sum_Axn - x[0]\n",
    "\n",
    "def x_opt_f(*args):\n",
    "    k, n, p = args\n",
    "    x_opt = np.zeros(n)\n",
    "    for i in range(1, k + 1):\n",
    "        x_opt[i - 1] = k - i + 1\n",
    "    return x_opt\n",
    "\n",
    "def f_opt(*args):\n",
    "    k, n, p = args\n",
    "    return -k*p/(p + 1)\n",
    "\n",
    "grad_f = grad(f)       # Obtain its gradient function      \n",
    "\n",
    "hess_f = jacobian(grad_f) # Obtain its hessian function \n",
    "\n",
    "tensor3_f = jacobian(hess_f) # Obtain its third derivative function \n",
    "\n",
    "def grad_f_true(x, *args):\n",
    "    k, n, p = args\n",
    "    Ak = generateAUI(k, n)\n",
    "    arg_eta = np.dot(Ak, x)\n",
    "    arg_eta_abs = (np.abs(arg_eta)**(p - 1))*arg_eta\n",
    "    grad_ans = np.dot(Ak.T, arg_eta_abs)\n",
    "    grad_ans[0] -= 1\n",
    "    return grad_ans\n",
    "\n",
    "def hess_f_true(x, *args):\n",
    "    k, n, p = args\n",
    "    Ak = generateAUI(k, n)\n",
    "    arg_eta = np.dot(Ak, x)\n",
    "    arg_eta_abs = p*(np.abs(arg_eta)**(p - 1))\n",
    "    return np.dot(arg_eta_abs * Ak.T, Ak)\n",
    "\n",
    "def tensor3_f_true(x, *args):\n",
    "    k, n, p = args\n",
    "    Ak = generateAUI(k, n)\n",
    "    arg_eta = np.dot(Ak, x)\n",
    "    arg_eta_abs = p*(p - 1)*(np.abs(arg_eta)**(p - 3))*arg_eta\n",
    "    return np.einsum(\"i,im,il,it->mlt\", arg_eta_abs, Ak, Ak, Ak)\n",
    "\n",
    "def dot_tensor3_vect_vect_f_true(x, h, *args):\n",
    "    k, n, p = args\n",
    "    Ak = generateAUI(k, n)\n",
    "    arg_eta = np.dot(Ak, x)\n",
    "    arg_eta_abs = p*(p - 1)*(np.abs(arg_eta)**(p - 3))*arg_eta\n",
    "    return sum([arg_eta_abs[i]*((np.dot(Ak[i], h))**2)*Ak[i] for i in range(n)])"
   ]
  },
  {
   "cell_type": "markdown",
   "metadata": {},
   "source": [
    "##### Upper bounds on $L_p(f_k)$ for $f_k$ in $[1]$.$[4.3]$."
   ]
  },
  {
   "cell_type": "code",
   "execution_count": 4,
   "metadata": {},
   "outputs": [],
   "source": [
    "def generateU(k):\n",
    "    U = np.zeros((k, k))\n",
    "    for i in range(k):\n",
    "        U[i][i] = 1\n",
    "        if (i + 1 < k):\n",
    "            U[i][i + 1] = -1\n",
    "    return U\n",
    "\n",
    "def Ak_2_norm(k, n):\n",
    "    Uk = generateU(k)\n",
    "    Uk_singular = np.dot(Uk.T, Uk)\n",
    "    E, V = linalg.eigh(Uk_singular) \n",
    "    lambda_max = max(E)\n",
    "    Uk_2_norm = lambda_max**0.5\n",
    "    if (n - k > 0):\n",
    "        return max(1, Uk_2_norm)\n",
    "    else:\n",
    "        return Uk_2_norm\n",
    "    \n",
    "def Lp_2_norm_real(*args):\n",
    "    k, n, p = args\n",
    "    return math.factorial(p)*((Ak_2_norm(k, n))**(p + 1))\n",
    "\n",
    "def Lp_2_norm_upper_bound_real(*args):\n",
    "    k, n, p = args\n",
    "    return math.factorial(p)*(2**(p + 1))\n",
    "\n",
    "def Lp_2_norm_Nesterov(*args):\n",
    "    k, n, p = args\n",
    "    return math.factorial(p)*((Ak_2_norm(k, n))**p)\n",
    "\n",
    "def Lp_2_norm_upper_bound_Nesterov(*args):\n",
    "    k, n, p = args\n",
    "    return math.factorial(p)*(2**p)\n",
    "\n",
    "def Lp_2_norm_stupid(*args):\n",
    "    k, n, p = args\n",
    "    return math.factorial(p)*2\n",
    "\n",
    "def L2_upper_bound(L3, x0, *args):\n",
    "    return L3 * 2*linalg.norm(x0 - x_opt_f(*args))\n",
    "\n",
    "#k = 3\n",
    "#Uk = generateU(k)\n",
    "#Uk_singular = np.dot(Uk.T, Uk)\n",
    "#E,V = linalg.eigh(Uk_singular) \n",
    "#lambda_max = max(E)\n",
    "#Ak_norm = Ak_2_norm(5, 6)\n",
    "\n",
    "#print(Uk_singular)\n",
    "#print(E)\n",
    "#print(Ak_norm)\n",
    "#p = 3\n",
    "#k = 50\n",
    "#n = 100\n",
    "#print(L3_2_norm(k, n, p))"
   ]
  },
  {
   "cell_type": "markdown",
   "metadata": {},
   "source": [
    "##### Calculation parameters $c, A \\succeq 0, \\gamma > 0$ for auxiliary minimization problem $[1]$.$[5.8]$ in terms of problem \n",
    "$$\n",
    "\\langle c, h \\rangle + \\frac{1}{2}\\langle Ah, h \\rangle + \\frac{\\gamma}{4}||h||_2^4 \\rightarrow \\min\\limits_{h \\in \\mathbb{R}^n}\n",
    "$$ "
   ]
  },
  {
   "cell_type": "code",
   "execution_count": 5,
   "metadata": {},
   "outputs": [],
   "source": [
    "def calc_cur_params(grad_f_cur, hessian_f_cur, tensor3_f_cur_vect, hk, tau, L):\n",
    "    grad_d = np.dot(hk, hk.T)*hk\n",
    "    c = (grad_f_cur - 1/tau*np.dot(hessian_f_cur, hk.T) + 0.5*tensor3_f_cur_vect \n",
    "                                                                        - tau*(tau + 1)/2*L*grad_d) + tau*tau*L/2*grad_d\n",
    "    \n",
    "    A = (tau + 1) / tau * hessian_f_cur\n",
    "    \n",
    "    gamma = tau*(tau + 1)/2*L\n",
    "    return c, A, gamma"
   ]
  },
  {
   "cell_type": "markdown",
   "metadata": {},
   "source": [
    "##### Objective function $f_{c, A, \\gamma}(h) = \\langle c, h \\rangle + \\frac{1}{2}\\langle Ah, h \\rangle + \\frac{\\gamma}{4}||h||_2^4$ for auxiliary minimization problem $[1]$.$[5.8]$ and its univariate dual function $g_{c, A, \\gamma}(\\tau) = \\frac{1}{2}\\tau^2 + \\frac{1}{2}\\Bigl\\langle \\bigl(\\sqrt{2\\gamma}\\tau B + A\\bigr)^{-1}c, c \\Bigr\\rangle$ with $B = I_{n \\times n}$ for Euclid 2-norm."
   ]
  },
  {
   "cell_type": "code",
   "execution_count": 6,
   "metadata": {},
   "outputs": [],
   "source": [
    "def aux_problem_func(h, *args):\n",
    "    c, A, gamma = args\n",
    "    d = linalg.norm(h)\n",
    "    d4 = d*d*d*d\n",
    "    return np.dot(c, h) + 0.5 * np.dot(np.dot(A, h), h) + 0.25*gamma*d4 \n",
    "\n",
    "def aux_problem_onedim_func(tau, *args):\n",
    "    c, A, B, gamma = args\n",
    "    sgam = math.sqrt(2*gamma)\n",
    "    S = sgam*tau*B + A\n",
    "    invS = linalg.inv(S)\n",
    "    f = 0.5*tau*tau + 0.5 * np.dot(np.dot(invS, c), c)\n",
    "    \n",
    "    return f"
   ]
  },
  {
   "cell_type": "markdown",
   "metadata": {},
   "source": [
    "##### Calculation minimum of $f_{c, A, \\gamma}(h)$ using minimum of dual function $g_{c, A, \\gamma}(\\tau)$."
   ]
  },
  {
   "cell_type": "code",
   "execution_count": 7,
   "metadata": {},
   "outputs": [],
   "source": [
    "def calc_hopt(t, *args):\n",
    "    c, A, B, gamma = args\n",
    "    S = math.sqrt(2*gamma)*t*B + A\n",
    "    invS = linalg.inv(S)\n",
    "    h_opt = -np.dot(invS, c)\n",
    "    return h_opt"
   ]
  },
  {
   "cell_type": "markdown",
   "metadata": {},
   "source": [
    "##### Newton's method for finding minimum $g_{c, A, \\gamma}(\\tau)$ based on $[4]$, Chapter $7$.\n",
    "\n",
    "The main idea is to find root $\\lambda > 0$ of first-order optimality condition: $\\sqrt{\\lambda} = ||s(\\lambda)||_2, s(\\lambda) = -(A + \\lambda I)^{-1}c_{\\text{new}}, \\lambda = \\sqrt{2\\gamma}\\tau, c_{\\text{new}} = \\sqrt{\\gamma}c$.\n",
    "\n",
    "It is better to solve the secular equation:\n",
    "$$\n",
    "\\phi(\\lambda) = \\frac{1}{||s(\\lambda)||_{2}} - \\frac{1}{\\sqrt{\\lambda}}.\n",
    "$$\n",
    "So \n",
    "$$\n",
    "\\phi^{'}(\\lambda) = \\frac{\\bigl \\langle s(\\lambda), A(\\lambda)^{-1}s(\\lambda) \\bigr \\rangle}{||s(\\lambda)||_2^3} + \\frac{1}{2\\lambda^{\\frac{3}{2}}} \\geq 0, A(\\lambda) = A + \\lambda I;\n",
    "$$\n",
    "$$\n",
    "\\phi^{''}(\\lambda) = \\frac{3\\Bigl(\\bigl \\langle s(\\lambda), \\nabla_{\\lambda}s(\\lambda) \\bigr \\rangle^2 - ||s(\\lambda)||_2^2||\\nabla_{\\lambda}s(\\lambda)||_2^2\\Bigr)}{||s(\\lambda)||_2^5} - \\frac{3}{4\\lambda^{\\frac{5}{2}}} < 0\n",
    "$$ by Cauchy-Schwartz inequality.\n",
    "\n",
    "Newton's method for finding a root of the scalar equation $\\phi(\\lambda) = 0$ replaces  the estimate $\\lambda_k > 0$ with the improved estimate $\\lambda_{k + 1}$ for which\n",
    "$$\n",
    "\\lambda_{k + 1} = \\lambda_k - \\frac{\\phi(\\lambda_k)}{\\phi^{'}(\\lambda_k)}.\n",
    "$$\n",
    "Using Cholesky factors $A(\\lambda) = L(\\lambda)L^T(\\lambda)$ we can write:\n",
    "$$\n",
    "\\bigl \\langle s, A(\\lambda)^{-1}s \\bigr \\rangle = \\bigl \\langle s, L^{-T}L^{-1}s \\bigr \\rangle = \\bigl \\langle L^{-1}s, L^{-1}s \\bigr \\rangle = ||w(\\lambda)||_2^2\n",
    "$$\n",
    "with $w(\\lambda) = L^{-1}(\\lambda)s(\\lambda)$.\n",
    "The complete Newton algorithm is:\n",
    "$$\n",
    "\\lambda_{k + 1} = \\lambda_k \\cdot \\Bigl(1 - 2||s(\\lambda_k)||_2^2\\frac{\\sqrt{\\lambda_k} - ||s(\\lambda_k)||_2}{||s(\\lambda_k)||_2^3 + 2||w(\\lambda_k)||_2^2\\lambda_k^{\\frac{3}{2}}}\\Bigr) \n",
    "$$ while $\\lambda_{k + 1} > 0$."
   ]
  },
  {
   "cell_type": "code",
   "execution_count": 8,
   "metadata": {},
   "outputs": [],
   "source": [
    "def Newton_step_tensor3(AuxMaxIter, *args):\n",
    "    c, H, gamma, eps = args\n",
    "    c_new = c*(gamma**0.5)\n",
    "    lambda_ans = eps\n",
    "    k = 0\n",
    "    while (k < AuxMaxIter):\n",
    "        H_lambda = H + lambda_ans*np.identity(H.shape[0])\n",
    "        try:\n",
    "            L = linalg.cholesky(H_lambda)\n",
    "        except np.linalg.LinAlgError:\n",
    "            break\n",
    "        s = linalg.solve(H_lambda, -c_new)\n",
    "        w = linalg.solve(L, s)\n",
    "        lambda_next = lambda_ans*(1 - \n",
    "            2*(lambda_ans**0.5 - linalg.norm(s))*(linalg.norm(s)**2)/\n",
    "                                  (linalg.norm(s)**3 + 2*(linalg.norm(w)**2)*(lambda_ans**(1.5))))\n",
    "        if (lambda_next > 0):\n",
    "            lambda_ans = lambda_next\n",
    "        else:\n",
    "            break\n",
    "        k += 1\n",
    "    #tau_opt2 = 0\n",
    "    h_opt1 = -np.dot(linalg.inv(H + lambda_ans*np.identity(H.shape[0])), c)\n",
    "    #h_opt2 = -np.dot(linalg.pinv(H), c)\n",
    "    #val_1 = np.dot(c, h_opt1) + 1/2*np.dot(np.dot(H, h_opt1), h_opt1) + gamma/4*(linalg.norm(h_opt1)**4)\n",
    "    #val_2 = np.dot(c, h_opt2) + 1/2*np.dot(np.dot(H, h_opt2), h_opt2) + gamma/4*(linalg.norm(h_opt2)**4)\n",
    "    #if (val_1 < val_2):\n",
    "     #   h_opt = h_opt1\n",
    "    #else:\n",
    "      #  h_opt = h_opt2\n",
    "    #return h_opt\n",
    "    return h_opt1"
   ]
  },
  {
   "cell_type": "markdown",
   "metadata": {},
   "source": [
    "##### Iteration of process $[1].[5.8]$ to solve auxiliary minimization problem $[1]$.$[5.4]$."
   ]
  },
  {
   "cell_type": "code",
   "execution_count": 9,
   "metadata": {},
   "outputs": [],
   "source": [
    "def T3M(x, aux_prob_method, grad_f_cur, hess_f_cur, tensor3_f_direct, TensorMaxIter, AuxMaxIter, tau, L, eps, *args):\n",
    "    \n",
    "    size = x.shape[0]\n",
    "    hk = np.zeros(size)\n",
    "    B = np.eye(size)\n",
    " \n",
    "    if aux_prob_method == 1:\n",
    "        xb = L*1e10\n",
    "        t0 = 0+eps\n",
    "    \n",
    "    for aux_k in range(1, TensorMaxIter + 1):\n",
    "        tensor3_f_cur_vect = tensor3_f_direct(x, hk, *args)\n",
    "        c, A, gamma = calc_cur_params(grad_f_cur, hess_f_cur, tensor3_f_cur_vect, hk, tau, L)\n",
    "            \n",
    "        if aux_prob_method == 1:\n",
    "            allargs = (c, A, B, gamma)\n",
    "\n",
    "            res = optimize.minimize_scalar(aux_problem_onedim_func, args = allargs, method = 'bounded', bounds=(t0, xb), \n",
    "                                                            options={'maxiter': AuxMaxIter, 'disp': False})\n",
    "            \n",
    "            tau_opt = res.x\n",
    "            \n",
    "            h_opt = calc_hopt(tau_opt, *(c, A, B, gamma))\n",
    "                \n",
    "        elif aux_prob_method == 2:\n",
    "            allargs = (c, A, gamma)\n",
    "        \n",
    "            res = optimize.minimize(aux_problem_func, args = allargs, tol = eps, x0 = hk, method = 'Powell', \n",
    "                                                                        options={'maxiter': AuxMaxIter, 'disp': False})                \n",
    "            h_opt = res.x\n",
    "                \n",
    "        elif aux_prob_method == 3:\n",
    "            h_opt = Newton_step_tensor3(AuxMaxIter, *(c, A, gamma, eps))\n",
    "        hk = h_opt\n",
    "    return (hk + x)      "
   ]
  },
  {
   "cell_type": "markdown",
   "metadata": {},
   "source": [
    "##### Tensor method $[1]$.$[2.16]$ by Yu. Nesterov (2018), $p = 3$\n",
    "Parameters:  \n",
    "$NumIter$ --- max number of steps in tensor method.\n",
    "\n",
    "$TensorMaxIter$ --- max number of iterations in auxiliary problem solution method $[1]$.$[5.8]$.\n",
    "\n",
    "$AuxMaxIter$ --- max number of iterations to perform step $[1]$.$[5.8]$.\n",
    "\n",
    "$x_0$ --- initial point.\n",
    "\n",
    "$f$ --- objective function oracle.  \n",
    "\n",
    "$\\nabla f$ --- objective gradient of $f$ oracle.\n",
    "\n",
    "$\\nabla^2 f$ --- objective hessian of $f$ oracle.\n",
    "\n",
    "$\\langle \\nabla^3 f(x) h, h \\rangle$ --- objective third directional derivative of $f$ at $x$ along direction $h$ oracle .\n",
    "\n",
    "$\\tau > 1$ - parameter in $[1]$.$[5.5]$.\n",
    "\n",
    "$L_3(f)$ - uniform bound for the Lipschitz constant of third derivative.\n",
    "\n",
    "$\\varepsilon$ - parameter to perform step $[1]$.$[5.8]$, meaning depends of $aux\\_prob\\_method$.\n",
    "\n",
    "$aux\\_prob\\_method$ --- how to solve auxiliary problem (5.4): $1$ --- by means of minimization $g_{c, A, \\gamma}(\\tau)$ using $scipy.optimize$, $2$ --- by means of minimization $f_{c, A, \\gamma}(h)$ using $scipy.optimize$, $3$ --- by means of minimization $g_{c, A, \\gamma}(\\tau)$ using Newton's method.\n",
    "\n",
    "$args$ - arguments for parametrization of $f$."
   ]
  },
  {
   "cell_type": "code",
   "execution_count": 10,
   "metadata": {},
   "outputs": [],
   "source": [
    "def Tensor3_iter(NumIter, TensorMaxIter, AuxMaxIter, x0, f, grad_f, hess_f, tensor3_f_direct, tau, L, eps, \n",
    "                                                             aux_prob_method, *args):\n",
    "    \n",
    "    farr = np.zeros(NumIter + 1)\n",
    "    #fgradarr = np.zeros(NumIter + 1)\n",
    "    xk = copy.deepcopy(x0)\n",
    "\n",
    "    for k in range(NumIter):\n",
    "        f_xk = f(xk, *args)\n",
    "        grad_f_xk = grad_f(xk, *args)\n",
    "        hessian_f_xk = hess_f(xk, *args)\n",
    "        farr[k] = f_xk\n",
    "        #fgradarr[k] = linalg.norm(grad_f_xk)\n",
    "        xk = T3M(xk, aux_prob_method, grad_f_xk, hessian_f_xk, tensor3_f_direct, TensorMaxIter, AuxMaxIter,\n",
    "                                                             tau, L, eps, *args) \n",
    "    \n",
    "    f_xk = f(xk, *args)\n",
    "    #grad_f_xk = grad_f(xk, *args)\n",
    "    farr[NumIter] = f_xk\n",
    "    #fgradarr[NumIter] = linalg.norm(grad_f_xk)\n",
    "    \n",
    "    return xk, f_xk, farr#, fgradarr\n",
    "    \n",
    "    "
   ]
  },
  {
   "cell_type": "markdown",
   "metadata": {},
   "source": [
    "##### Prox function"
   ]
  },
  {
   "cell_type": "code",
   "execution_count": 11,
   "metadata": {},
   "outputs": [],
   "source": [
    "def proxd(x, p):\n",
    "    return 1. / p * (linalg.norm(x)**p) "
   ]
  },
  {
   "cell_type": "markdown",
   "metadata": {},
   "source": [
    "##### Accelerated tensor method $[1]$.$[3.12]$ by Yu. Nesterov (2018), $p = 3$\n",
    "\n",
    "This method has additional parameter $version$ = 1 if we use formula for $A_k$ (as is $[1]$.$[3.11]$):\n",
    "$$\n",
    "A_k = \\Bigl[\\frac{(p - 1)(M^2 - L_p^2)}{4(p + 1)M^2}\\Bigr]\\Bigl(\\frac{k}{p + 1}\\Bigr)^{p + 1}\n",
    "$$\n",
    "and $version$ = 2 if we use formula for $A_k$:\n",
    "$$\n",
    "A_k = \\Bigl[\\frac{(p + 1)(M^2 - L_p^2)}{4(p - 1)M^2}\\Bigr]\\Bigl(\\frac{k}{p + 1}\\Bigr)^{p + 1}.\n",
    "$$\n",
    "Both versions use formula $[1]$.$[5.5]$:\n",
    "$$\n",
    "M = \\tau^2 L_3.\n",
    "$$"
   ]
  },
  {
   "cell_type": "code",
   "execution_count": 12,
   "metadata": {},
   "outputs": [],
   "source": [
    "def TensorAcc3_iter(NumIter, TensorMaxIter, AuxMaxIter, x0, f, grad_f, hess_f, tensor3_f_direct, tau, L, eps, \n",
    "                                               aux_prob_method, version, *args):\n",
    "    \n",
    "    xk = copy.deepcopy(x0)\n",
    "    M = tau*tau*L\n",
    "    \n",
    "    farr = np.zeros(NumIter + 1)\n",
    "    #fgradarr = np.zeros(NumIter + 1)\n",
    "    \n",
    "    \n",
    "    f_xk = f(xk, *args)\n",
    "    farr[0] = f_xk\n",
    "    grad_f_xk = grad_f(xk, *args)\n",
    "    #fgradarr[0] = linalg.norm(grad_f_xk)\n",
    "    hessian_f_xk = hess_f(xk, *args)\n",
    "  \n",
    "    xk = T3M(xk, aux_prob_method, grad_f_xk, hessian_f_xk, tensor3_f_direct, TensorMaxIter, AuxMaxIter, tau, L, \n",
    "                                                                                                         eps, *args)  \n",
    "    #print('xk = {0}'.format(xk))\n",
    "    f_xk = f(xk, *args)\n",
    "    #gradf_xk = grad_f(xk, *args)\n",
    "    farr[1] = f_xk\n",
    "    #fgradarr[1] = linalg.norm(gradf_xk)\n",
    "    \n",
    "    p = 3\n",
    "    C = p / 2 * math.sqrt((p+1)/(p-1)*(M*M - L*L))\n",
    "    \n",
    "    min_psik = copy.deepcopy(x0)\n",
    "    size = x0.shape[0]\n",
    "    sk = np.zeros(size)\n",
    "    if (version == 1):\n",
    "        ak_part = math.sqrt(pow((p - 1) * (M*M - L*L) / 4 / (p + 1) / M / M, p))\n",
    "    elif (version == 2):\n",
    "        ak_part = math.sqrt(pow((p + 1) * (M*M - L*L) / 4 / (p - 1) / M / M, p))\n",
    "    k = 1\n",
    "    Ak1 = ak_part*pow(k / (p + 1), p + 1)\n",
    "    \n",
    "    factor_p = math.factorial(p)\n",
    "    \n",
    "    for k in range(1, NumIter):\n",
    "        vk = min_psik\n",
    "        Ak = Ak1\n",
    "        Ak1 = ak_part*pow((k + 1) / (p + 1), p + 1)\n",
    "        alpha = Ak / Ak1\n",
    "        #print('alpha = {0}'.format(alpha))\n",
    "        yk = alpha * xk + (1 - alpha) * vk\n",
    "        #print('yk = {0}'.format(yk))\n",
    "        grad_f_yk = grad_f(yk, *args)\n",
    "        hessian_f_yk = hess_f(yk, *args)\n",
    "\n",
    "        xk = T3M(yk, aux_prob_method, grad_f_yk, hessian_f_yk, tensor3_f_direct, TensorMaxIter, AuxMaxIter, \n",
    "                                                                                     tau, L, eps, *args)        \n",
    "        #print('xk = {0}'.format(xk))\n",
    "        grad_next = grad_f(xk, *args)\n",
    "        a = Ak1 - Ak\n",
    "        sk = sk + a * grad_next \n",
    "        min_psik = x0 - pow(factor_p / C / pow(linalg.norm(sk), p - 1), 1. / p) * sk\n",
    "        \n",
    "        f_xk = f(xk, *args)\n",
    "        farr[k + 1] = f_xk\n",
    "        #fgradarr[k + 1] = linalg.norm(grad_next)\n",
    "    \n",
    "    return xk, f_xk, farr#, fgradarr, k\n",
    "    "
   ]
  },
  {
   "cell_type": "markdown",
   "metadata": {},
   "source": [
    "##### Variant of fast gradient method based on Algorithm 1 in $[5]$.\n",
    "\n",
    "Parameters:  \n",
    "$NumIter$ --- max number of steps in FGM.\n",
    "\n",
    "$x_0$ --- initial point.\n",
    "\n",
    "$f$ --- objective function oracle.  \n",
    "\n",
    "$\\nabla f$ --- objective gradient of $f$ oracle.\n",
    "\n",
    "$L_1(f)$ - uniform bound for the Lipschitz constant of first derivative.\n",
    "\n",
    "$args$ - arguments for parametrization of $f$."
   ]
  },
  {
   "cell_type": "code",
   "execution_count": 13,
   "metadata": {},
   "outputs": [],
   "source": [
    "def FGM_iter(NumIter, x0, f, gradf, L1, *args):\n",
    "    k = 0\n",
    "    v_k = copy.deepcopy(x0)\n",
    "    x_k = copy.deepcopy(x0)\n",
    "    A_k = 0\n",
    "    farr = np.zeros(NumIter + 1)\n",
    "    #fgradarr = np.zeros(NumIter + 1)\n",
    "    farr[0] = f(x_k, *args)\n",
    "    #fgradarr[0] = linalg.norm(gradf(x_k, *args))\n",
    "    while (k < NumIter):\n",
    "        a_k = (1 + (1 + 2 * L1 * A_k)**0.5) / L \n",
    "        y_k = (A_k*x_k + a_k*v_k)/(A_k + a_k)\n",
    "        x_k = y_k - 1/L1*gradf(y_k, *args)\n",
    "        gradf_xk = gradf(x_k, *args)\n",
    "        v_k = v_k - a_k * gradf_xk\n",
    "        A_k = A_k + a_k\n",
    "        k += 1\n",
    "        f_xk = f(x_k, *args)\n",
    "        farr[k] = f_xk\n",
    "        #fgradarr[k] = linalg.norm(gradf_xk)\n",
    "    return x_k, farr#, k, fgradarr"
   ]
  },
  {
   "cell_type": "markdown",
   "metadata": {},
   "source": [
    "##### Newton's method for finding minimum $\\Omega_{g, H, M}(h) = \\langle g, h \\rangle + \\frac{1}{2}\\langle Hh, h \\rangle + \\frac{M}{6}||h||_2^3$ in $[3]$.$[5.1]$ based on one-dimensional equation $[3]$.$[5.4]$ and methods in $[4]$, Chapter $7$. Note that we assume $M > 0, H \\succeq 0$.\n",
    "\n",
    "The main idea is to find root $ \\lambda_{\\text{root}} > 0$ of first-order optimality condition: $\\lambda = ||s(\\lambda)||_2, s(\\lambda) = -(H + \\lambda I)^{-1}g_{\\text{new}}, \\lambda = \\frac{M}{2}||h_{\\text{opt}}||_2, g_{\\text{new}} = \\frac{M}{2}g, h = -(H + \\lambda_{\\text{root}} I)^{-1}g$.\n",
    "\n",
    "It is better to solve the secular equation:\n",
    "$$\n",
    "\\phi(\\lambda) = \\frac{1}{||s(\\lambda)||_{2}} - \\frac{1}{\\lambda}.\n",
    "$$\n",
    "So \n",
    "$$\n",
    "\\phi^{'}(\\lambda) = \\frac{\\bigl \\langle s(\\lambda), A(\\lambda)^{-1}s(\\lambda) \\bigr \\rangle}{||s(\\lambda)||_2^3} + \\frac{1}{\\lambda^2} \\geq 0, A(\\lambda) = A + \\lambda I;\n",
    "$$\n",
    "$$\n",
    "\\phi^{''}(\\lambda) = \\frac{3\\Bigl(\\bigl \\langle s(\\lambda), \\nabla_{\\lambda}s(\\lambda) \\bigr \\rangle^2 - ||s(\\lambda)||_2^2||\\nabla_{\\lambda}s(\\lambda)||_2^2\\Bigr)}{||s(\\lambda)||_2^5} - \\frac{2}{\\lambda^3} < 0\n",
    "$$ by Cauchy-Schwartz inequality.\n",
    "\n",
    "Newton's method for finding a root of the scalar equation $\\phi(\\lambda) = 0$ replaces  the estimate $\\lambda_k > 0$ with the improved estimate $\\lambda_{k + 1}$ for which\n",
    "$$\n",
    "\\lambda_{k + 1} = \\lambda_k - \\frac{\\phi(\\lambda_k)}{\\phi^{'}(\\lambda_k)}.\n",
    "$$\n",
    "Using Cholesky factors $A(\\lambda) = L(\\lambda)L^T(\\lambda)$ we can write:\n",
    "$$\n",
    "\\bigl \\langle s, A(\\lambda)^{-1}s \\bigr \\rangle = \\bigl \\langle s, L^{-T}L^{-1}s \\bigr \\rangle = \\bigl \\langle L^{-1}s, L^{-1}s \\bigr \\rangle = ||w(\\lambda)||_2^2\n",
    "$$\n",
    "with $w(\\lambda) = L^{-1}(\\lambda)s(\\lambda)$.\n",
    "The complete Newton algorithm is:\n",
    "$$\n",
    "\\lambda_{k + 1} = \\lambda_k \\cdot \\Bigl(1 - ||s(\\lambda_k)||_2^2\\frac{\\lambda_k - ||s(\\lambda_k)||_2}{||s(\\lambda_k)||_2^3 + ||w(\\lambda_k)||_2^2\\lambda_k^{2}}\\Bigr) \n",
    "$$ while $\\lambda_{k + 1} > 0$."
   ]
  },
  {
   "cell_type": "code",
   "execution_count": 14,
   "metadata": {},
   "outputs": [],
   "source": [
    "def Newton_cubic_step(x_k, NumIterStep, *args):\n",
    "    g, H, M, eps = args\n",
    "    g_new = g*M/2\n",
    "    lambda_ans = eps\n",
    "    k = 0\n",
    "    while (k < NumIterStep):\n",
    "        H_lambda = H + lambda_ans*np.identity(H.shape[0])\n",
    "        try:\n",
    "            L = linalg.cholesky(H_lambda)\n",
    "        except np.linalg.LinAlgError:\n",
    "            break\n",
    "        s = linalg.solve(H_lambda, -g_new)\n",
    "        w = linalg.solve(L, s)\n",
    "        lambda_next = lambda_ans*(1 - \n",
    "            (lambda_ans - linalg.norm(s))*(linalg.norm(s)**2)/(linalg.norm(s)**3 + (linalg.norm(w)**2)*(lambda_ans**2)))\n",
    "        if (lambda_next > 0):\n",
    "            lambda_ans = lambda_next\n",
    "        else:\n",
    "            break\n",
    "        k += 1\n",
    "    #r_opt2 = 0\n",
    "    h_opt1 = -np.dot(linalg.inv(H + lambda_ans*np.identity(H.shape[0])), g)\n",
    "    h_opt = h_opt1\n",
    "    #h_opt2 = -np.dot(linalg.pinv(H), g)\n",
    "    #val_1 = np.dot(g, h_opt1) + 1/2*np.dot(np.dot(H, h_opt1), h_opt1) + M/6*(linalg.norm(h_opt1)**3)\n",
    "    #val_2 = np.dot(g, h_opt2) + 1/2*np.dot(np.dot(H, h_opt2), h_opt2) + M/6*(linalg.norm(h_opt2)**3)\n",
    "    #if (val_1 < val_2):\n",
    "    #    h_opt = h_opt1\n",
    "    #else:\n",
    "    #    h_opt = h_opt2\n",
    "    return x_k + h_opt"
   ]
  },
  {
   "cell_type": "markdown",
   "metadata": {},
   "source": [
    "##### Cubic regularization of Newton method using procedure $[2]$.$[3.3]$\n",
    "\n",
    "Parameters:  \n",
    "$NumIter$ --- max number of steps in method.\n",
    "\n",
    "$NumIterStep$ --- max number of Newton iterations to perform $Newton\\_cubic\\_step$.\n",
    "\n",
    "$x_0$ --- initial point.\n",
    "\n",
    "$f$ --- objective function oracle.  \n",
    "\n",
    "$\\nabla f$ --- objective gradient of $f$ oracle.\n",
    "\n",
    "$\\nabla^2 f$ --- objective hessian of $f$ oracle.\n",
    "\n",
    "$adapt$ --- $adapt = 0$ if we use nonadaptive version of algorithm $[2]$.$[3.3]$ with $M_k = L_2(f)$ and $adapt = 1$ if we use adaptive version of algorithm $[2]$.$[3.3]$ with procedure $[2]$.$[5.7]$.\n",
    "\n",
    "\n",
    "$L_2(f)$ - uniform bound for the Lipschitz constant of hessian for $adapt = 0$ and $L_0$ in $[2]$.$[3.3]$ and procedure $[2]$.$[5.7]$ for $adapt = 1$.\n",
    "\n",
    "$\\varepsilon$ - initial point to perform $Newton\\_cubic\\_step$.\n",
    "\n",
    "\n",
    "\n",
    "$args$ - arguments for parametrization of $f$."
   ]
  },
  {
   "cell_type": "code",
   "execution_count": 15,
   "metadata": {},
   "outputs": [],
   "source": [
    "def Newton_cubic_solver_iter(x0, NumIter, NumIterStep, f, grad_f, hessian_f, L, eps, adapt, *args):\n",
    "    k = 0\n",
    "    x_k = copy.deepcopy(x0)\n",
    "    farr = np.zeros(NumIter + 1)\n",
    "    #fgradarr = np.zeros(NumIter + 1)\n",
    "    if (adapt == 1):\n",
    "        M_k = L\n",
    "    while (k < NumIter):\n",
    "        #print(\"iter = {0}\".format(k))\n",
    "        f_current = f(x_k, *args)\n",
    "        grad_f_current = grad_f(x_k, *args)\n",
    "        hessian_f_current = hessian_f(x_k, *args)\n",
    "        farr[k] = f_current\n",
    "        #fgradarr[k] = linalg.norm(grad_f_current)\n",
    "        if (adapt == 1):\n",
    "            while(1):\n",
    "                T_k = Newton_cubic_step(x_k, NumIterStep, *(grad_f_current, hessian_f_current, M_k, eps))\n",
    "                if (f(T_k, *args) > f_current):\n",
    "                    M_k = 2*M_k\n",
    "                    #print(\"M_k = {0}\".format(M_k))\n",
    "                else:\n",
    "                    break\n",
    "            x_k = T_k\n",
    "            M_k = max(1/2*M_k, L0)\n",
    "        elif (adapt == 0):\n",
    "            x_k = Newton_cubic_step(x_k, NumIterStep, *(grad_f_current, hessian_f_current, L, eps))\n",
    "        k += 1\n",
    "    f_current = f(x_k, *args)\n",
    "    #grad_f_current = grad_f(x_k, *args)\n",
    "    farr[k] = f_current\n",
    "    #fgradarr[k] = linalg.norm(grad_f_current)\n",
    "    return x_k, farr#, fgradarr"
   ]
  },
  {
   "cell_type": "markdown",
   "metadata": {},
   "source": [
    "##### Accelerated cubic regularization of Newton'd method using procedure $[3]$.$[4.8]$\n",
    "\n",
    "Parameters:  \n",
    "$NumIter$ --- max number of steps in tensor method.\n",
    "\n",
    "$NumIterStep$ --- max number of Newton iterations to perform $Newton\\_cubic\\_step$.\n",
    "\n",
    "$x_0$ --- initial point.\n",
    "\n",
    "$f$ --- objective function oracle.  \n",
    "\n",
    "$\\nabla f$ --- objective gradient of $f$ oracle.\n",
    "\n",
    "$\\nabla^2 f$ --- objective hessian of $f$ oracle.\n",
    "\n",
    "\n",
    "$L_2(f)$ - uniform bound for the Lipschitz constant of hessian.\n",
    "\n",
    "$\\varepsilon$ - initial point to perform $Newton\\_cubic\\_step$.\n",
    "\n",
    "\n",
    "\n",
    "$args$ - arguments for parametrization of $f$."
   ]
  },
  {
   "cell_type": "code",
   "execution_count": 16,
   "metadata": {},
   "outputs": [],
   "source": [
    "def calc_v_k(x0, N, s_k):\n",
    "    eps = 1e-10\n",
    "    norm = linalg.norm(s_k)\n",
    "    if norm < eps:\n",
    "        return x0\n",
    "    else:\n",
    "        return x0 - (2/N)**0.5*s_k/norm\n",
    "\n",
    "def fast_Newton_cubic_solver_iter(x0, NumIter, NumIterStep, f, grad_f, hessian_f, L2, eps, *args):\n",
    "    N = 12*L2\n",
    "    M = 2*L2\n",
    "    k = 0\n",
    "    s_k = np.zeros(x0.shape[0])\n",
    "    x_k = copy.deepcopy(x0)\n",
    "    farr = np.zeros(NumIter + 1)\n",
    "    #fgradarr = np.zeros(NumIter + 1)\n",
    "    grad_f_current = grad_f(x_k, *args)\n",
    "    hessian_f_current = hessian_f(x_k, *args)\n",
    "    farr[0] = f(x_k, *args)\n",
    "    #fgradarr[0] = linalg.norm(grad_f_current)\n",
    "    x_k = Newton_cubic_step(x_k, NumIterStep, *(grad_f_current, hessian_f_current, L2, eps))\n",
    "    k += 1\n",
    "    f_current = f(x_k, *args)\n",
    "    #grad_f_current = grad_f(x_k, *args)\n",
    "    farr[k] = f_current\n",
    "    #fgradarr[k] = linalg.norm(grad_f_current)\n",
    "    while (k < NumIter):\n",
    "        v_k = calc_v_k(x0, N, s_k)\n",
    "        y_k = k/(k + 3)*x_k + 3/(k + 3)*v_k\n",
    "        grad_f_current = grad_f(y_k, *args)\n",
    "        hessian_f_current = hessian_f(y_k, *args)\n",
    "        x_k = Newton_cubic_step(y_k, NumIterStep, *(grad_f_current, hessian_f_current, M, eps))\n",
    "        gradf_xk = grad_f(x_k, *args)\n",
    "        s_k += (k + 1)*(k + 2)/2*gradf_xk\n",
    "        k += 1\n",
    "        farr[k] = f(x_k, *args)\n",
    "        #fgradarr[k] = linalg.norm(gradf_xk)\n",
    "    return x_k, farr#, fgradarr"
   ]
  },
  {
   "cell_type": "markdown",
   "metadata": {},
   "source": [
    "# Our problem and it's parametres, $n = 10$"
   ]
  },
  {
   "cell_type": "code",
   "execution_count": 17,
   "metadata": {},
   "outputs": [],
   "source": [
    "n = 10\n",
    "k = n // 2\n",
    "NumIter = 50\n",
    "TensorNumIter = 40\n",
    "eps = 1e-7\n",
    "tau = 1 + eps\n",
    "\n",
    "x0 = np.zeros(n)\n",
    "AuxMaxIter = 100\n",
    "L0 = eps\n",
    "\n",
    "p = 3\n",
    "args = (k, n, p)"
   ]
  },
  {
   "cell_type": "markdown",
   "metadata": {},
   "source": [
    "# Experiments using closed-form expressions for tensors of $f_k$"
   ]
  },
  {
   "cell_type": "markdown",
   "metadata": {},
   "source": [
    "In this section we use $L_3 = 2^p p!$ according to page $16$ in $[1]$."
   ]
  },
  {
   "cell_type": "code",
   "execution_count": 19,
   "metadata": {},
   "outputs": [
    {
     "name": "stdout",
     "output_type": "stream",
     "text": [
      "1xans  [ 5.  4.  3.  2.  1.  0.  0.  0.  0.  0.]\n",
      "1fans, it1  -3.75 50\n",
      "2xans  [  5.00000000e+00   4.00000000e+00   3.00000000e+00   2.00000000e+00\n",
      "   1.00000000e+00  -1.65222119e-09  -1.66092181e-09  -1.67845526e-09\n",
      "  -1.69712304e-09  -1.71191302e-09]\n",
      "2fans, it2  -3.75 50\n"
     ]
    },
    {
     "name": "stderr",
     "output_type": "stream",
     "text": [
      "/usr/local/lib/python3.6/dist-packages/ipykernel_launcher.py:16: RuntimeWarning: invalid value encountered in double_scalars\n",
      "  app.launch_new_instance()\n"
     ]
    },
    {
     "name": "stdout",
     "output_type": "stream",
     "text": [
      "3xans  [ 5.  4.  3.  2.  1.  0.  0.  0.  0.  0.]\n",
      "3fans, it3  -3.75 50\n",
      "4xans  [ 2.40302247  1.5649784   0.89285048  0.39307106  0.07917137  0.          0.\n",
      "  0.          0.          0.        ]\n",
      "4fans, it4  -2.21065456121 50\n",
      "5xans  [  2.40303027e+00   1.56498556e+00   8.92856366e-01   3.93075098e-01\n",
      "   7.91730651e-02  -1.60628985e-08  -1.69230457e-08  -1.50327640e-08\n",
      "  -1.50307634e-08  -1.06504566e-08]\n",
      "5fans, it5  -2.21066129352 50\n",
      "6xans  [ 2.40303028  1.56498556  0.89285637  0.3930751   0.07917307  0.          0.\n",
      "  0.          0.          0.        ]\n",
      "6fans, it6  -2.21066129799 50\n"
     ]
    },
    {
     "name": "stderr",
     "output_type": "stream",
     "text": [
      "/usr/local/lib/python3.6/dist-packages/ipykernel_launcher.py:15: RuntimeWarning: invalid value encountered in double_scalars\n",
      "  from ipykernel import kernelapp as app\n"
     ]
    },
    {
     "name": "stdout",
     "output_type": "stream",
     "text": [
      "xans_newton_adapt  [ 5.  4.  3.  2.  1.  0.  0.  0.  0.  0.]\n",
      "xans_newton_adapt, it  -3.75 50\n",
      "xans_newton_nonadapt  [  1.84676652e+00   9.86093977e-01   3.16611569e-01   1.00307421e-02\n",
      "   1.24128180e-07   0.00000000e+00   0.00000000e+00   0.00000000e+00\n",
      "   0.00000000e+00   0.00000000e+00]\n",
      "xans_newton_nonadapt, it  -1.65715527485 50\n"
     ]
    }
   ],
   "source": [
    "L3 = Lp_2_norm_upper_bound_Nesterov(*args)\n",
    "L2 = L2_upper_bound(L3, x0, *args)\n",
    "fopt = f_opt(*args)\n",
    "\n",
    "aux_prob_method = 1\n",
    "xans1, fans1, farr1 = Tensor3_iter(NumIter, TensorNumIter, AuxMaxIter, \n",
    "                    x0, f, grad_f_true, hess_f_true, dot_tensor3_vect_vect_f_true, tau, L3, eps, aux_prob_method, *args)\n",
    "print('1xans ', xans1)\n",
    "print('1fans, it1 ', fans1, NumIter)\n",
    "\n",
    "aux_prob_method = 2\n",
    "xans2, fans2, farr2 = Tensor3_iter(NumIter, TensorNumIter, AuxMaxIter,\n",
    "                    x0, f, grad_f_true, hess_f_true, dot_tensor3_vect_vect_f_true, tau, L3, eps, aux_prob_method, *args)\n",
    "print('2xans ', xans2)\n",
    "print('2fans, it2 ', fans2, NumIter)\n",
    "\n",
    "aux_prob_method = 3\n",
    "xans3, fans3, farr3 = Tensor3_iter(NumIter, TensorNumIter, AuxMaxIter,\n",
    "                    x0, f, grad_f_true, hess_f_true, dot_tensor3_vect_vect_f_true, tau, L3, eps, aux_prob_method, *args)\n",
    "print('3xans ', xans3)\n",
    "print('3fans, it3 ', fans3, NumIter)\n",
    "\n",
    "version = 1\n",
    "\n",
    "aux_prob_method = 1\n",
    "xans4, fans4, farr4 = TensorAcc3_iter(NumIter, TensorNumIter, AuxMaxIter,\n",
    "            x0, f, grad_f_true, hess_f_true, dot_tensor3_vect_vect_f_true, tau, L3, eps, aux_prob_method, version, *args)\n",
    "print('4xans ', xans4)\n",
    "print('4fans, it4 ', fans4, NumIter)\n",
    "\n",
    "aux_prob_method = 2\n",
    "xans5, fans5, farr5 = TensorAcc3_iter(NumIter, TensorNumIter, AuxMaxIter,\n",
    "            x0, f, grad_f_true, hess_f_true, dot_tensor3_vect_vect_f_true, tau, L3, eps, aux_prob_method, version, *args)\n",
    "print('5xans ', xans5)\n",
    "print('5fans, it5 ', fans5, NumIter)\n",
    "\n",
    "aux_prob_method = 3\n",
    "xans6, fans6, farr6 = TensorAcc3_iter(NumIter, TensorNumIter, AuxMaxIter,\n",
    "            x0, f, grad_f_true, hess_f_true, dot_tensor3_vect_vect_f_true, tau, L3, eps, aux_prob_method, version, *args)\n",
    "print('6xans ', xans6)\n",
    "print('6fans, it6 ', fans6, NumIter)\n",
    "\n",
    "#xans_fgm, farr_fgm, it_fgm, fgradarr_fgm = FGM_iter(NumIter, x0, f, grad_f, L1, *args)\n",
    "#print('xans_fgm ', xans_fgm)\n",
    "#print('fans_fgm, it ', farr_fgm[NumIter], NumIter)\n",
    "\n",
    "adapt = 1\n",
    "xans_newton_cubic_iter_ad, farr_newton_cubic_iter_ad = Newton_cubic_solver_iter(x0,\n",
    "                NumIter, AuxMaxIter, f, grad_f_true, hess_f_true, L0, eps, adapt, *args)\n",
    "print('xans_newton_adapt ', xans_newton_cubic_iter_ad)\n",
    "print('xans_newton_adapt, it ', farr_newton_cubic_iter_ad[NumIter], NumIter)\n",
    "\n",
    "adapt = 0\n",
    "xans_newton_cubic_iter_nd, farr_newton_cubic_iter_nd = Newton_cubic_solver_iter(x0,\n",
    "                NumIter, AuxMaxIter, f, grad_f_true, hess_f_true, L2, eps, adapt, *args)\n",
    "print('xans_newton_nonadapt ', xans_newton_cubic_iter_nd)\n",
    "print('xans_newton_nonadapt, it ', farr_newton_cubic_iter_nd[NumIter], NumIter)\n",
    "\n"
   ]
  },
  {
   "cell_type": "markdown",
   "metadata": {},
   "source": [
    "##### Plot scatter graphs"
   ]
  },
  {
   "cell_type": "code",
   "execution_count": 20,
   "metadata": {},
   "outputs": [
    {
     "name": "stderr",
     "output_type": "stream",
     "text": [
      "/usr/local/lib/python3.6/dist-packages/autograd/tracer.py:48: RuntimeWarning: divide by zero encountered in log10\n",
      "  return f_raw(*args, **kwargs)\n"
     ]
    },
    {
     "data": {
      "image/png": "[encoded data removed]",
      "text/plain": [
       "<matplotlib.figure.Figure at 0x7ff64df386a0>"
      ]
     },
     "metadata": {
      "needs_background": "light"
     },
     "output_type": "display_data"
    }
   ],
   "source": [
    "fig = plt.figure()\n",
    "s = [10 for n in range(len(farr1) - 1)]\n",
    "\n",
    "plt.xlabel(r'$\\log_{10}(k)$') \n",
    "plt.ylabel(r'$\\log_{10}(f(x_k) - f^*)$') \n",
    "plt.title(r'$dim = {0}, k = {1}, L_3 = {2}$'.format(n, k, L3)) \n",
    "\n",
    "log_i = [np.log10(i) for i in range(1, NumIter + 1)]\n",
    "\n",
    "plt.scatter(log_i, [np.log10(farr1[i] - fopt) for i in range(1, NumIter + 1)], label = '1', s = s)\n",
    "plt.scatter(log_i, [np.log10(farr2[i] - fopt) for i in range(1, NumIter + 1)], label = '2', s = s)\n",
    "plt.scatter(log_i, [np.log10(farr3[i] - fopt) for i in range(1, NumIter + 1)], label = '3', s = s)\n",
    "plt.scatter(log_i, [np.log10(farr4[i] - fopt) for i in range(1, NumIter + 1)], label = '4', s = s)\n",
    "plt.scatter(log_i, [np.log10(farr5[i] - fopt) for i in range(1, NumIter + 1)], label = '5', s = s)\n",
    "plt.scatter(log_i, [np.log10(farr6[i] - fopt) for i in range(1, NumIter + 1)], label = '6', s = s)\n",
    "#plt.plot([i for i in range(NumIter + 1)], farr_fgm, label = 'FGM')\n",
    "plt.scatter(log_i, [np.log10(farr_newton_cubic_iter_ad[i] - fopt) for i in range(1, NumIter + 1)], label = '7', s = s)\n",
    "plt.scatter(log_i, [np.log10(farr_newton_cubic_iter_nd[i] - fopt) for i in range(1, NumIter + 1)], label = '8', s = s)\n",
    "\n",
    "plt.legend()\n",
    "plt.grid(True) \n",
    "fig.savefig('Scatter_Tensor3_f_L3={0}_iter.pdf'.format(L3))\n",
    "plt.show()"
   ]
  },
  {
   "cell_type": "markdown",
   "metadata": {},
   "source": [
    "##### Plot semilogy graphs"
   ]
  },
  {
   "cell_type": "code",
   "execution_count": 21,
   "metadata": {},
   "outputs": [
    {
     "data": {
      "image/png": "[encoded data removed]",
      "text/plain": [
       "<matplotlib.figure.Figure at 0x7ff64dfb1d30>"
      ]
     },
     "metadata": {
      "needs_background": "light"
     },
     "output_type": "display_data"
    }
   ],
   "source": [
    "fig = plt.figure()\n",
    "\n",
    "plt.xlabel(r'$k$') \n",
    "plt.ylabel(r'$f(x_k) - f^*$') \n",
    "plt.title(r'$dim = {0}, k = {1}, L_3 = {2}$'.format(n, k, L3)) \n",
    "\n",
    "arr_i = [i for i in range(NumIter + 1)]\n",
    "\n",
    "plt.semilogy(arr_i, farr1 - fopt, label = '1')\n",
    "plt.semilogy(arr_i, farr2 - fopt, label = '2')\n",
    "plt.semilogy(arr_i, farr3 - fopt, label = '3')\n",
    "plt.semilogy(arr_i, farr4 - fopt, label = '4')\n",
    "plt.semilogy(arr_i, farr5 - fopt, label = '5')\n",
    "plt.semilogy(arr_i, farr6 - fopt, label = '6')\n",
    "#plt.plot([i for i in range(NumIter + 1)], farr_fgm, label = 'FGM')\n",
    "plt.semilogy(arr_i, farr_newton_cubic_iter_ad - fopt, label = '7')\n",
    "plt.semilogy(arr_i, farr_newton_cubic_iter_nd - fopt, label = '8')\n",
    "\n",
    "plt.legend()\n",
    "plt.grid(True) \n",
    "fig.savefig('Tensor3_f_L3={0}_iter.pdf'.format(L3))\n",
    "plt.show()"
   ]
  },
  {
   "cell_type": "markdown",
   "metadata": {},
   "source": [
    "##### Comparing versions of Accelerated tensor method"
   ]
  },
  {
   "cell_type": "code",
   "execution_count": 22,
   "metadata": {},
   "outputs": [
    {
     "name": "stdout",
     "output_type": "stream",
     "text": [
      "1xans  [ 2.40302247  1.5649784   0.89285048  0.39307106  0.07917137  0.          0.\n",
      "  0.          0.          0.        ]\n",
      "1fans, it1  -2.21065456121 50\n",
      "2xans  [  2.40303027e+00   1.56498556e+00   8.92856366e-01   3.93075098e-01\n",
      "   7.91730651e-02  -1.60628985e-08  -1.69230457e-08  -1.50327640e-08\n",
      "  -1.50307634e-08  -1.06504566e-08]\n",
      "2fans, it2  -2.21066129352 50\n",
      "3xans  [ 2.40303028  1.56498556  0.89285637  0.3930751   0.07917307  0.          0.\n",
      "  0.          0.          0.        ]\n",
      "3fans, it3  -2.21066129799 50\n",
      "4xans  [ 2.41327635  1.57451485  0.90095889  0.39903843  0.08218026  0.          0.\n",
      "  0.          0.          0.        ]\n",
      "4fans, it4  -2.21968726498 50\n",
      "5xans  [  2.41328415e+00   1.57452199e+00   9.00964771e-01   3.99042464e-01\n",
      "   8.21819711e-02  -1.62341345e-08  -1.10442458e-08  -1.14485972e-08\n",
      "  -1.13641948e-08  -1.54488216e-08]\n",
      "5fans, it5  -2.21969398237 50\n",
      "6xans  [ 2.41328415  1.574522    0.90096478  0.39904248  0.08218198  0.          0.\n",
      "  0.          0.          0.        ]\n",
      "6fans, it6  -2.21969398679 50\n"
     ]
    }
   ],
   "source": [
    "version = 1\n",
    "\n",
    "aux_prob_method = 1\n",
    "comp_xans1, comp_fans1, comp_farr1 = TensorAcc3_iter(NumIter, TensorNumIter, AuxMaxIter,\n",
    "            x0, f, grad_f_true, hess_f_true, dot_tensor3_vect_vect_f_true, tau, L3, eps, aux_prob_method, version, *args)\n",
    "print('1xans ', comp_xans1)\n",
    "print('1fans, it1 ', comp_fans1, NumIter)\n",
    "\n",
    "aux_prob_method = 2\n",
    "comp_xans2, comp_fans2, comp_farr2 = TensorAcc3_iter(NumIter, TensorNumIter, AuxMaxIter,\n",
    "            x0, f, grad_f_true, hess_f_true, dot_tensor3_vect_vect_f_true, tau, L3, eps, aux_prob_method, version, *args)\n",
    "print('2xans ', comp_xans2)\n",
    "print('2fans, it2 ', comp_fans2, NumIter)\n",
    "\n",
    "aux_prob_method = 3\n",
    "comp_xans3, comp_fans3, comp_farr3 = TensorAcc3_iter(NumIter, TensorNumIter, AuxMaxIter,\n",
    "            x0, f, grad_f_true, hess_f_true, dot_tensor3_vect_vect_f_true, tau, L3, eps, aux_prob_method, version, *args)\n",
    "print('3xans ', comp_xans3)\n",
    "print('3fans, it3 ', comp_fans3, NumIter)\n",
    "\n",
    "version = 2\n",
    "\n",
    "aux_prob_method = 1\n",
    "comp_xans4, comp_fans4, comp_farr4 = TensorAcc3_iter(NumIter, TensorNumIter, AuxMaxIter,\n",
    "            x0, f, grad_f_true, hess_f_true, dot_tensor3_vect_vect_f_true, tau, L3, eps, aux_prob_method, version, *args)\n",
    "print('4xans ', comp_xans4)\n",
    "print('4fans, it4 ', comp_fans4, NumIter)\n",
    "\n",
    "aux_prob_method = 2\n",
    "comp_xans5, comp_fans5, comp_farr5 = TensorAcc3_iter(NumIter, TensorNumIter, AuxMaxIter,\n",
    "            x0, f, grad_f_true, hess_f_true, dot_tensor3_vect_vect_f_true, tau, L3, eps, aux_prob_method, version, *args)\n",
    "print('5xans ', comp_xans5)\n",
    "print('5fans, it5 ', comp_fans5, NumIter)\n",
    "\n",
    "aux_prob_method = 3\n",
    "comp_xans6, comp_fans6, comp_farr6 = TensorAcc3_iter(NumIter, TensorNumIter, AuxMaxIter,\n",
    "            x0, f, grad_f_true, hess_f_true, dot_tensor3_vect_vect_f_true, tau, L3, eps, aux_prob_method, version, *args)\n",
    "print('6xans ', comp_xans6)\n",
    "print('6fans, it6 ', comp_fans6, NumIter)"
   ]
  },
  {
   "cell_type": "code",
   "execution_count": 23,
   "metadata": {},
   "outputs": [
    {
     "data": {
      "image/png": "[encoded data removed]",
      "text/plain": [
       "<matplotlib.figure.Figure at 0x7ff64d92cc88>"
      ]
     },
     "metadata": {
      "needs_background": "light"
     },
     "output_type": "display_data"
    }
   ],
   "source": [
    "fig = plt.figure()\n",
    "\n",
    "plt.xlabel(r'$k$') \n",
    "plt.ylabel(r'$f(x_k) - f^*$') \n",
    "plt.title(r'$dim = {0}, k = {1}, L_3 = {2}$'.format(n, k, L3)) \n",
    "\n",
    "arr_i = [i for i in range(NumIter + 1)]\n",
    "\n",
    "plt.semilogy(arr_i, comp_farr1 - fopt, label = '1')\n",
    "plt.semilogy(arr_i, comp_farr2 - fopt, label = '2')\n",
    "plt.semilogy(arr_i, comp_farr3 - fopt, label = '3')\n",
    "plt.semilogy(arr_i, comp_farr4 - fopt, label = '4')\n",
    "plt.semilogy(arr_i, comp_farr5 - fopt, label = '5')\n",
    "plt.semilogy(arr_i, comp_farr6 - fopt, label = '6')\n",
    "\n",
    "plt.legend()\n",
    "plt.grid(True) \n",
    "fig.savefig('Comp_acc_Tensor3_f_L3={0}_iter.pdf'.format(L3))\n",
    "plt.show()"
   ]
  },
  {
   "cell_type": "markdown",
   "metadata": {},
   "source": [
    "# In this section we use $L_3 = 2^{p + 1} p!$ "
   ]
  },
  {
   "cell_type": "code",
   "execution_count": 24,
   "metadata": {},
   "outputs": [
    {
     "name": "stdout",
     "output_type": "stream",
     "text": [
      "1xans  [ 5.  4.  3.  2.  1.  0.  0.  0.  0.  0.]\n",
      "1fans, it1  -3.75 50\n",
      "4xans  [ 2.03756308  1.22369885  0.601521    0.18174778  0.00705142  0.          0.\n",
      "  0.          0.          0.        ]\n",
      "4fans, it4  -1.88242000165 50\n",
      "5xans  [  2.03756255e+00   1.22369842e+00   6.01520755e-01   1.81747764e-01\n",
      "   7.05142618e-03  -5.05290977e-09  -4.31259955e-09  -4.30275463e-09\n",
      "  -4.30360069e-09  -5.71332958e-09]\n",
      "5fans, it5  -1.88241958717 50\n"
     ]
    },
    {
     "name": "stderr",
     "output_type": "stream",
     "text": [
      "/usr/local/lib/python3.6/dist-packages/ipykernel_launcher.py:15: RuntimeWarning: invalid value encountered in double_scalars\n",
      "  from ipykernel import kernelapp as app\n"
     ]
    },
    {
     "name": "stdout",
     "output_type": "stream",
     "text": [
      "xans_newton_adapt  [ 5.  4.  3.  2.  1.  0.  0.  0.  0.  0.]\n",
      "xans_newton_adapt, it  -3.75 50\n",
      "xans_newton_nonadapt  [  1.44493785e+00   6.23011463e-01   7.58280999e-02   6.56252423e-05\n",
      "   1.53349800e-14   0.00000000e+00   0.00000000e+00   0.00000000e+00\n",
      "   0.00000000e+00   0.00000000e+00]\n",
      "xans_newton_nonadapt, it  -1.30842174545 50\n"
     ]
    }
   ],
   "source": [
    "L3_big = Lp_2_norm_upper_bound_real(*args)\n",
    "L2_big = L2_upper_bound(L3_big, x0, *args)\n",
    "fopt = f_opt(*args)\n",
    "\n",
    "aux_prob_method = 1\n",
    "bigL_xans1, bigL_fans1, bigL_farr1 = Tensor3_iter(NumIter, TensorNumIter, AuxMaxIter, \n",
    "                x0, f, grad_f_true, hess_f_true, dot_tensor3_vect_vect_f_true, tau, L3_big, eps, aux_prob_method, *args)\n",
    "print('1xans ', bigL_xans1)\n",
    "print('1fans, it1 ', bigL_fans1, NumIter)\n",
    "\n",
    "version = 1\n",
    "\n",
    "aux_prob_method = 1\n",
    "bigL_xans4, bigL_fans4, bigL_farr4 = TensorAcc3_iter(NumIter, TensorNumIter, AuxMaxIter,\n",
    "        x0, f, grad_f_true, hess_f_true, dot_tensor3_vect_vect_f_true, tau, L3_big, eps, aux_prob_method, version, *args)\n",
    "print('4xans ', bigL_xans4)\n",
    "print('4fans, it4 ', bigL_fans4, NumIter)\n",
    "\n",
    "aux_prob_method = 2\n",
    "bigL_xans5, bigL_fans5, bigL_farr5 = TensorAcc3_iter(NumIter, TensorNumIter, AuxMaxIter,\n",
    "        x0, f, grad_f_true, hess_f_true, dot_tensor3_vect_vect_f_true, tau, L3_big, eps, aux_prob_method, version, *args)\n",
    "print('5xans ', bigL_xans5)\n",
    "print('5fans, it5 ', bigL_fans5, NumIter)\n",
    "\n",
    "#xans_fgm, farr_fgm, it_fgm, fgradarr_fgm = FGM_iter(NumIter, x0, f, grad_f, L1, *args)\n",
    "#print('xans_fgm ', xans_fgm)\n",
    "#print('fans_fgm, it ', farr_fgm[NumIter], NumIter)\n",
    "\n",
    "adapt = 1\n",
    "bigL_xans_newton_cubic_iter_ad, bigL_farr_newton_cubic_iter_ad = Newton_cubic_solver_iter(x0,\n",
    "                NumIter, AuxMaxIter, f, grad_f_true, hess_f_true, L0, eps, adapt, *args)\n",
    "print('xans_newton_adapt ', xans_newton_cubic_iter_ad)\n",
    "print('xans_newton_adapt, it ', farr_newton_cubic_iter_ad[NumIter], NumIter)\n",
    "\n",
    "adapt = 0\n",
    "bigL_xans_newton_cubic_iter_nd, bigL_farr_newton_cubic_iter_nd = Newton_cubic_solver_iter(x0,\n",
    "                NumIter, AuxMaxIter, f, grad_f_true, hess_f_true, L2_big, eps, adapt, *args)\n",
    "print('xans_newton_nonadapt ', bigL_xans_newton_cubic_iter_nd)\n",
    "print('xans_newton_nonadapt, it ', bigL_farr_newton_cubic_iter_nd[NumIter], NumIter)"
   ]
  },
  {
   "cell_type": "markdown",
   "metadata": {},
   "source": [
    "##### Plot semilogy graphs"
   ]
  },
  {
   "cell_type": "code",
   "execution_count": 25,
   "metadata": {},
   "outputs": [
    {
     "data": {
      "image/png": "[encoded data removed]",
      "text/plain": [
       "<matplotlib.figure.Figure at 0x7ff64e0b5ac8>"
      ]
     },
     "metadata": {
      "needs_background": "light"
     },
     "output_type": "display_data"
    }
   ],
   "source": [
    "fig = plt.figure()\n",
    "\n",
    "plt.xlabel(r'$k$') \n",
    "plt.ylabel(r'$f(x_k) - f^*$') \n",
    "plt.title(r'$dim = {0}, k = {1}, L_3 = {2}$'.format(n, k, L3_big)) \n",
    "\n",
    "arr_i = [i for i in range(NumIter + 1)]\n",
    "\n",
    "plt.semilogy(arr_i, bigL_farr1 - fopt, label = '1')\n",
    "plt.semilogy(arr_i, bigL_farr4 - fopt, label = '2')\n",
    "plt.semilogy(arr_i, bigL_farr5 - fopt, label = '3')\n",
    "plt.semilogy(arr_i, bigL_farr_newton_cubic_iter_ad - fopt, label = '4')\n",
    "plt.semilogy(arr_i, bigL_farr_newton_cubic_iter_nd - fopt, label = '5')\n",
    "\n",
    "plt.legend()\n",
    "plt.grid(True) \n",
    "fig.savefig('Tensor3_f_L3={0}_iter.pdf'.format(L3_big))\n",
    "plt.show()"
   ]
  },
  {
   "cell_type": "markdown",
   "metadata": {},
   "source": [
    "# In this section we use smaller $L_3 = 2 \\cdot p!$ to compare with previous values"
   ]
  },
  {
   "cell_type": "code",
   "execution_count": 27,
   "metadata": {},
   "outputs": [
    {
     "name": "stdout",
     "output_type": "stream",
     "text": [
      "1xans  [ 5.  4.  3.  2.  1.  0.  0.  0.  0.  0.]\n",
      "1fans, it1  -3.75 50\n",
      "4xans  [ 3.31330924  2.43136071  1.66730641  1.01833369  0.4737165   0.          0.\n",
      "  0.          0.          0.        ]\n",
      "4fans, it4  -2.99792480666 50\n",
      "5xans  [  3.31329938e+00   2.43135140e+00   1.66729825e+00   1.01832738e+00\n",
      "   4.73712904e-01  -2.40581555e-09  -2.82647759e-09  -4.14394630e-09\n",
      "   2.89613025e-09  -3.51974505e-09]\n",
      "5fans, it5  -2.99791716228 50\n"
     ]
    },
    {
     "name": "stderr",
     "output_type": "stream",
     "text": [
      "/usr/local/lib/python3.6/dist-packages/ipykernel_launcher.py:15: RuntimeWarning: invalid value encountered in double_scalars\n",
      "  from ipykernel import kernelapp as app\n"
     ]
    },
    {
     "name": "stdout",
     "output_type": "stream",
     "text": [
      "xans_newton_adapt  [ 5.  4.  3.  2.  1.  0.  0.  0.  0.  0.]\n",
      "xans_newton_adapt, it  -3.75 50\n",
      "xans_newton_nonadapt  [ 2.94368885  2.03461651  1.23569816  0.57595786  0.10787004  0.          0.\n",
      "  0.          0.          0.        ]\n",
      "xans_newton_nonadapt, it  -2.61170416694 50\n"
     ]
    }
   ],
   "source": [
    "L3_small = Lp_2_norm_stupid(*args)\n",
    "L2_small = L2_upper_bound(L3_small, x0, *args)\n",
    "fopt = f_opt(*args)\n",
    "\n",
    "aux_prob_method = 1\n",
    "smallL_xans1, smallL_fans1, smallL_farr1 = Tensor3_iter(NumIter, TensorNumIter, AuxMaxIter, \n",
    "            x0, f, grad_f_true, hess_f_true, dot_tensor3_vect_vect_f_true, tau, L3_small, eps, aux_prob_method, *args)\n",
    "print('1xans ', smallL_xans1)\n",
    "print('1fans, it1 ', smallL_fans1, NumIter)\n",
    "\n",
    "version = 1\n",
    "\n",
    "aux_prob_method = 1\n",
    "smallL_xans4, smallL_fans4, smallL_farr4 = TensorAcc3_iter(NumIter, TensorNumIter, AuxMaxIter,\n",
    "    x0, f, grad_f_true, hess_f_true, dot_tensor3_vect_vect_f_true, tau, L3_small, eps, aux_prob_method, version, *args)\n",
    "print('4xans ', smallL_xans4)\n",
    "print('4fans, it4 ', smallL_fans4, NumIter)\n",
    "\n",
    "aux_prob_method = 2\n",
    "smallL_xans5, smallL_fans5, smallL_farr5 = TensorAcc3_iter(NumIter, TensorNumIter, AuxMaxIter,\n",
    "    x0, f, grad_f_true, hess_f_true, dot_tensor3_vect_vect_f_true, tau, L3_small, eps, aux_prob_method, version, *args)\n",
    "print('5xans ', smallL_xans5)\n",
    "print('5fans, it5 ', smallL_fans5, NumIter)\n",
    "\n",
    "#xans_fgm, farr_fgm, it_fgm, fgradarr_fgm = FGM_iter(NumIter, x0, f, grad_f, L1, *args)\n",
    "#print('xans_fgm ', xans_fgm)\n",
    "#print('fans_fgm, it ', farr_fgm[NumIter], NumIter)\n",
    "\n",
    "adapt = 1\n",
    "xans_newton_cubic_iter_ad, farr_newton_cubic_iter_ad = Newton_cubic_solver_iter(x0,\n",
    "                NumIter, AuxMaxIter, f, grad_f_true, hess_f_true, L0, eps, adapt, *args)\n",
    "print('xans_newton_adapt ', xans_newton_cubic_iter_ad)\n",
    "print('xans_newton_adapt, it ', farr_newton_cubic_iter_ad[NumIter], NumIter)\n",
    "\n",
    "adapt = 0\n",
    "smallL_xans_newton_cubic_iter_nd, smallL_farr_newton_cubic_iter_nd = Newton_cubic_solver_iter(x0,\n",
    "                NumIter, AuxMaxIter, f, grad_f_true, hess_f_true, L2_small, eps, adapt, *args)\n",
    "print('xans_newton_nonadapt ', smallL_xans_newton_cubic_iter_nd)\n",
    "print('xans_newton_nonadapt, it ', smallL_farr_newton_cubic_iter_nd[NumIter], NumIter)"
   ]
  },
  {
   "cell_type": "code",
   "execution_count": 28,
   "metadata": {},
   "outputs": [
    {
     "data": {
      "image/png": "[encoded data removed]",
      "text/plain": [
       "<matplotlib.figure.Figure at 0x7ff64d97f160>"
      ]
     },
     "metadata": {
      "needs_background": "light"
     },
     "output_type": "display_data"
    }
   ],
   "source": [
    "fig = plt.figure()\n",
    "\n",
    "plt.xlabel(r'$k$') \n",
    "plt.ylabel(r'$f(x_k) - f^*$') \n",
    "plt.title(r'$dim = {0}, k = {1}, L_3 = {2}$'.format(n, k, L3_small)) \n",
    "\n",
    "arr_i = [i for i in range(NumIter + 1)]\n",
    "\n",
    "plt.semilogy(arr_i, smallL_farr1 - fopt, label = '1')\n",
    "plt.semilogy(arr_i, smallL_farr4 - fopt, label = '2')\n",
    "plt.semilogy(arr_i, smallL_farr5 - fopt, label = '3')\n",
    "plt.semilogy(arr_i, farr_newton_cubic_iter_ad - fopt, label = '4')\n",
    "plt.semilogy(arr_i, smallL_farr_newton_cubic_iter_nd - fopt, label = '5')\n",
    "\n",
    "plt.legend()\n",
    "plt.grid(True) \n",
    "fig.savefig('Tensor3_f_L3={0}_iter.pdf'.format(L3_small))\n",
    "plt.show()"
   ]
  },
  {
   "cell_type": "markdown",
   "metadata": {},
   "source": [
    "# Next problem and it's parametres, $n = 100$"
   ]
  },
  {
   "cell_type": "code",
   "execution_count": 29,
   "metadata": {},
   "outputs": [],
   "source": [
    "n = 100\n",
    "k = n // 2\n",
    "NumIter = 50\n",
    "TensorNumIter = 40\n",
    "eps = 1e-7\n",
    "tau = 1 + eps\n",
    "\n",
    "x0 = np.zeros(n)\n",
    "AuxMaxIter = 100\n",
    "L0 = eps\n",
    "\n",
    "p = 3\n",
    "args = (k, n, p)"
   ]
  },
  {
   "cell_type": "markdown",
   "metadata": {},
   "source": [
    "# In this and next section we use $L_3 = 2^p p!$ according to page $16$ in $[1]$."
   ]
  },
  {
   "cell_type": "code",
   "execution_count": 30,
   "metadata": {
    "scrolled": true
   },
   "outputs": [
    {
     "name": "stdout",
     "output_type": "stream",
     "text": [
      "1xans  [  6.79556254e+000   5.83628700e+000   4.92124429e+000   4.05450568e+000\n",
      "   3.24089118e+000   2.48625850e+000   1.79798405e+000   1.18584619e+000\n",
      "   6.63909051e-001   2.55746290e-001   2.21101587e-002   8.93152703e-006\n",
      "   2.29491238e-016   1.05562269e-049   6.28893859e-155   0.00000000e+000\n",
      "   0.00000000e+000   0.00000000e+000   0.00000000e+000   0.00000000e+000\n",
      "   0.00000000e+000   0.00000000e+000   0.00000000e+000   0.00000000e+000\n",
      "   0.00000000e+000   0.00000000e+000   0.00000000e+000   0.00000000e+000\n",
      "   0.00000000e+000   0.00000000e+000   0.00000000e+000   0.00000000e+000\n",
      "   0.00000000e+000   0.00000000e+000   0.00000000e+000   0.00000000e+000\n",
      "   0.00000000e+000   0.00000000e+000   0.00000000e+000   0.00000000e+000\n",
      "   0.00000000e+000   0.00000000e+000   0.00000000e+000   0.00000000e+000\n",
      "   0.00000000e+000   0.00000000e+000   0.00000000e+000   0.00000000e+000\n",
      "   0.00000000e+000   0.00000000e+000   0.00000000e+000   0.00000000e+000\n",
      "   0.00000000e+000   0.00000000e+000   0.00000000e+000   0.00000000e+000\n",
      "   0.00000000e+000   0.00000000e+000   0.00000000e+000   0.00000000e+000\n",
      "   0.00000000e+000   0.00000000e+000   0.00000000e+000   0.00000000e+000\n",
      "   0.00000000e+000   0.00000000e+000   0.00000000e+000   0.00000000e+000\n",
      "   0.00000000e+000   0.00000000e+000   0.00000000e+000   0.00000000e+000\n",
      "   0.00000000e+000   0.00000000e+000   0.00000000e+000   0.00000000e+000\n",
      "   0.00000000e+000   0.00000000e+000   0.00000000e+000   0.00000000e+000\n",
      "   0.00000000e+000   0.00000000e+000   0.00000000e+000   0.00000000e+000\n",
      "   0.00000000e+000   0.00000000e+000   0.00000000e+000   0.00000000e+000\n",
      "   0.00000000e+000   0.00000000e+000   0.00000000e+000   0.00000000e+000\n",
      "   0.00000000e+000   0.00000000e+000   0.00000000e+000   0.00000000e+000\n",
      "   0.00000000e+000   0.00000000e+000   0.00000000e+000   0.00000000e+000]\n",
      "1fans, it1  -5.95944140964 50\n",
      "4xans  [  2.40302211e+000   1.56497815e+000   8.92850514e-001   3.93072038e-001\n",
      "   7.91791236e-002   5.88498512e-004   1.24375563e-010   5.16310402e-031\n",
      "   2.14443872e-093   1.34663791e-284   0.00000000e+000   0.00000000e+000\n",
      "   0.00000000e+000   0.00000000e+000   0.00000000e+000   0.00000000e+000\n",
      "   0.00000000e+000   0.00000000e+000   0.00000000e+000   0.00000000e+000\n",
      "   0.00000000e+000   0.00000000e+000   0.00000000e+000   0.00000000e+000\n",
      "   0.00000000e+000   0.00000000e+000   0.00000000e+000   0.00000000e+000\n",
      "   0.00000000e+000   0.00000000e+000   0.00000000e+000   0.00000000e+000\n",
      "   0.00000000e+000   0.00000000e+000   0.00000000e+000   0.00000000e+000\n",
      "   0.00000000e+000   0.00000000e+000   0.00000000e+000   0.00000000e+000\n",
      "   0.00000000e+000   0.00000000e+000   0.00000000e+000   0.00000000e+000\n",
      "   0.00000000e+000   0.00000000e+000   0.00000000e+000   0.00000000e+000\n",
      "   0.00000000e+000   0.00000000e+000   0.00000000e+000   0.00000000e+000\n",
      "   0.00000000e+000   0.00000000e+000   0.00000000e+000   0.00000000e+000\n",
      "   0.00000000e+000   0.00000000e+000   0.00000000e+000   0.00000000e+000\n",
      "   0.00000000e+000   0.00000000e+000   0.00000000e+000   0.00000000e+000\n",
      "   0.00000000e+000   0.00000000e+000   0.00000000e+000   0.00000000e+000\n",
      "   0.00000000e+000   0.00000000e+000   0.00000000e+000   0.00000000e+000\n",
      "   0.00000000e+000   0.00000000e+000   0.00000000e+000   0.00000000e+000\n",
      "   0.00000000e+000   0.00000000e+000   0.00000000e+000   0.00000000e+000\n",
      "   0.00000000e+000   0.00000000e+000   0.00000000e+000   0.00000000e+000\n",
      "   0.00000000e+000   0.00000000e+000   0.00000000e+000   0.00000000e+000\n",
      "   0.00000000e+000   0.00000000e+000   0.00000000e+000   0.00000000e+000\n",
      "   0.00000000e+000   0.00000000e+000   0.00000000e+000   0.00000000e+000\n",
      "   0.00000000e+000   0.00000000e+000   0.00000000e+000   0.00000000e+000]\n",
      "4fans, it4  -2.2106549637 50\n",
      "xans_newton_adapt  [ 39.82517874  38.83234046  37.84676726  36.86856489  35.89784156\n",
      "  34.93470806  33.97927784  33.03166717  32.09199522  31.16038425\n",
      "  30.23695971  29.32185038  28.4151886   27.51711037  26.62775559\n",
      "  25.74726823  24.87579657  24.01349343  23.16051638  22.3170281\n",
      "  21.48319659  20.65919555  19.84520468  19.0414101   18.24800477\n",
      "  17.4651889   16.6931705   15.93216588  15.18240033  14.4441087\n",
      "  13.71753621  13.00293927  12.30058639  11.61075922  10.93375374\n",
      "  10.26988157   9.61947146   8.98287103   8.36044873   7.75259608\n",
      "   7.15973036   6.58229762   6.02077628   5.47568258   4.94755248\n",
      "   4.43737502   3.93675464   3.37608104   2.63389265   1.56806575   0.           0.\n",
      "   0.           0.           0.           0.           0.           0.           0.\n",
      "   0.           0.           0.           0.           0.           0.           0.\n",
      "   0.           0.           0.           0.           0.           0.           0.\n",
      "   0.           0.           0.           0.           0.           0.           0.\n",
      "   0.           0.           0.           0.           0.           0.           0.\n",
      "   0.           0.           0.           0.           0.           0.           0.\n",
      "   0.           0.           0.           0.           0.           0.        ]\n",
      "xans_newton_adapt, it  -32.7783406346 50\n",
      "xans_newton_nonadapt  [  2.94368855e+000   2.03461622e+000   1.23569795e+000   5.75957968e-001\n",
      "   1.07872925e-001   4.38105283e-004   1.00184429e-011   1.38387192e-035\n",
      "   2.79745189e-110   0.00000000e+000   0.00000000e+000   0.00000000e+000\n",
      "   0.00000000e+000   0.00000000e+000   0.00000000e+000   0.00000000e+000\n",
      "   0.00000000e+000   0.00000000e+000   0.00000000e+000   0.00000000e+000\n",
      "   0.00000000e+000   0.00000000e+000   0.00000000e+000   0.00000000e+000\n",
      "   0.00000000e+000   0.00000000e+000   0.00000000e+000   0.00000000e+000\n",
      "   0.00000000e+000   0.00000000e+000   0.00000000e+000   0.00000000e+000\n",
      "   0.00000000e+000   0.00000000e+000   0.00000000e+000   0.00000000e+000\n",
      "   0.00000000e+000   0.00000000e+000   0.00000000e+000   0.00000000e+000\n",
      "   0.00000000e+000   0.00000000e+000   0.00000000e+000   0.00000000e+000\n",
      "   0.00000000e+000   0.00000000e+000   0.00000000e+000   0.00000000e+000\n",
      "   0.00000000e+000   0.00000000e+000   0.00000000e+000   0.00000000e+000\n",
      "   0.00000000e+000   0.00000000e+000   0.00000000e+000   0.00000000e+000\n",
      "   0.00000000e+000   0.00000000e+000   0.00000000e+000   0.00000000e+000\n",
      "   0.00000000e+000   0.00000000e+000   0.00000000e+000   0.00000000e+000\n",
      "   0.00000000e+000   0.00000000e+000   0.00000000e+000   0.00000000e+000\n",
      "   0.00000000e+000   0.00000000e+000   0.00000000e+000   0.00000000e+000\n",
      "   0.00000000e+000   0.00000000e+000   0.00000000e+000   0.00000000e+000\n",
      "   0.00000000e+000   0.00000000e+000   0.00000000e+000   0.00000000e+000\n",
      "   0.00000000e+000   0.00000000e+000   0.00000000e+000   0.00000000e+000\n",
      "   0.00000000e+000   0.00000000e+000   0.00000000e+000   0.00000000e+000\n",
      "   0.00000000e+000   0.00000000e+000   0.00000000e+000   0.00000000e+000\n",
      "   0.00000000e+000   0.00000000e+000   0.00000000e+000   0.00000000e+000\n",
      "   0.00000000e+000   0.00000000e+000   0.00000000e+000   0.00000000e+000]\n",
      "xans_newton_nonadapt, it  -2.61170483301 50\n"
     ]
    }
   ],
   "source": [
    "L3 = Lp_2_norm_upper_bound_Nesterov(*args)\n",
    "L2 = L2_upper_bound(L3, x0, *args)\n",
    "fopt = f_opt(*args)\n",
    "\n",
    "aux_prob_method = 1\n",
    "nbig_xans1, nbig_fans1, nbig_farr1 = Tensor3_iter(NumIter, TensorNumIter, AuxMaxIter, \n",
    "        x0, f, grad_f_true, hess_f_true, dot_tensor3_vect_vect_f_true, tau, L3, eps, aux_prob_method, *args)\n",
    "print('1xans ', nbig_xans1)\n",
    "print('1fans, it1 ', nbig_fans1, NumIter)\n",
    "\n",
    "#aux_prob_method = 2\n",
    "#xans2, fans2, farr2, fgradarr2 = Tensor3_iter(NumIter, TensorNumIter, AuxMaxIter,\n",
    "               #                 x0, f, grad_f_true, hess_f_true, tensor3_f_true, tau, L3, eps, aux_prob_method, *args)\n",
    "#print('2xans ', xans2)\n",
    "#print('2fans, it2 ', fans2, NumIter)\n",
    "\n",
    "#aux_prob_method = 3\n",
    "#xans3, fans3, farr3, fgradarr3 = Tensor3_iter(NumIter, TensorNumIter, AuxMaxIter,\n",
    "#                                x0, f, grad_f_true, hess_f_true, tensor3_f_true, tau, L3, eps, aux_prob_method, *args)\n",
    "#print('3xans ', xans3)\n",
    "#print('3fans, it3 ', fans3, NumIter)\n",
    "version = 1\n",
    "\n",
    "aux_prob_method = 1\n",
    "nbig_xans4, nbig_fans4, nbig_farr4 = TensorAcc3_iter(NumIter, TensorNumIter, AuxMaxIter,\n",
    "        x0, f, grad_f_true, hess_f_true, dot_tensor3_vect_vect_f_true, tau, L3, eps, aux_prob_method, version, *args)\n",
    "print('4xans ', nbig_xans4)\n",
    "print('4fans, it4 ', nbig_fans4, NumIter)\n",
    "\n",
    "#aux_prob_method = 2\n",
    "#xans5, fans5, farr5, fgradarr5 = TensorAcc3_iter(NumIter, TensorNumIter, AuxMaxIter,\n",
    "#                                x0, f, grad_f_true, hess_f_true, tensor3_f_true, tau, L3, eps, aux_prob_method, *args)\n",
    "#print('5xans ', xans5)\n",
    "#print('5fans, it5 ', fans5, NumIter)\n",
    "\n",
    "#aux_prob_method = 3\n",
    "#xans6, fans6, farr6, fgradarr6 = TensorAcc3_iter(NumIter, TensorNumIter, AuxMaxIter,\n",
    "#                                x0, f, grad_f_true, hess_f_true, tensor3_f_true, tau, L3, eps, aux_prob_method, *args)\n",
    "#print('6xans ', xans6)\n",
    "#print('6fans, it6 ', fans6, NumIter)\n",
    "\n",
    "#xans_fgm, farr_fgm, it_fgm, fgradarr_fgm = FGM_iter(NumIter, x0, f, grad_f_true, L1, *args)\n",
    "#print('xans_fgm ', xans_fgm)\n",
    "#print('fans_fgm, it ', farr_fgm[NumIter], NumIter)\n",
    "\n",
    "adapt = 1\n",
    "xans_newton_cubic_iter_ad, farr_newton_cubic_iter_ad = Newton_cubic_solver_iter(x0,\n",
    "                NumIter, AuxMaxIter, f, grad_f_true, hess_f_true, L0, eps, adapt, *args)\n",
    "print('xans_newton_adapt ', xans_newton_cubic_iter_ad)\n",
    "print('xans_newton_adapt, it ', farr_newton_cubic_iter_ad[NumIter], NumIter)\n",
    "\n",
    "adapt = 0\n",
    "nbig_xans_newton_cubic_iter_nd, nbig_farr_newton_cubic_iter_nd = Newton_cubic_solver_iter(x0,\n",
    "                NumIter, AuxMaxIter, f, grad_f_true, hess_f_true, L2_small, eps, adapt, *args)\n",
    "print('xans_newton_nonadapt ', nbig_xans_newton_cubic_iter_nd)\n",
    "print('xans_newton_nonadapt, it ', nbig_farr_newton_cubic_iter_nd[NumIter], NumIter)"
   ]
  },
  {
   "cell_type": "markdown",
   "metadata": {},
   "source": [
    "##### Plot scatter graphs"
   ]
  },
  {
   "cell_type": "code",
   "execution_count": 32,
   "metadata": {},
   "outputs": [
    {
     "data": {
      "image/png": "[encoded data removed]",
      "text/plain": [
       "<matplotlib.figure.Figure at 0x7ff64db324e0>"
      ]
     },
     "metadata": {
      "needs_background": "light"
     },
     "output_type": "display_data"
    }
   ],
   "source": [
    "fig = plt.figure()\n",
    "s = [10 for n in range(len(nbig_farr1) - 1)]\n",
    "\n",
    "plt.xlabel(r'$\\log_{10}(k)$') \n",
    "plt.ylabel(r'$\\log_{10}(f(x_k) - f^*)$') \n",
    "plt.title(r'$dim = {0}, k = {1}, L_3 = {2}$'.format(n, k, L3)) \n",
    "\n",
    "log_i = [np.log10(i) for i in range(1, NumIter + 1)]\n",
    "\n",
    "plt.scatter(log_i, [np.log10(nbig_farr1[i] - fopt) for i in range(1, NumIter + 1)], label = 'T_main', s = s)\n",
    "plt.scatter(log_i, [np.log10(nbig_farr4[i] - fopt) for i in range(1, NumIter + 1)], label = 'T_acc', s = s)\n",
    "#plt.scatter(log_i, [np.log10(farr_newton_cubic_iter_ad[i] - fopt) for i in range(1, NumIter + 1)], \n",
    "#                                                                        label = 'Adapt_C_Newton', s = s)\n",
    "plt.scatter(log_i, [np.log10(nbig_farr_newton_cubic_iter_nd[i] - fopt) for i in range(1, NumIter + 1)], \n",
    "                                                                        label = 'NonAdapt_C_Newton', s = s)\n",
    "\n",
    "plt.legend()\n",
    "plt.grid(True) \n",
    "fig.savefig('Scatter_Tensor3_f_n={0}_iter.pdf'.format(n))\n",
    "plt.show()"
   ]
  },
  {
   "cell_type": "markdown",
   "metadata": {},
   "source": [
    "##### Plot semilogy graphs"
   ]
  },
  {
   "cell_type": "code",
   "execution_count": 35,
   "metadata": {},
   "outputs": [
    {
     "data": {
      "image/png": "[encoded data removed]",
      "text/plain": [
       "<matplotlib.figure.Figure at 0x7ff64d064fd0>"
      ]
     },
     "metadata": {
      "needs_background": "light"
     },
     "output_type": "display_data"
    }
   ],
   "source": [
    "fig = plt.figure()\n",
    "\n",
    "plt.xlabel(r'$k$') \n",
    "plt.ylabel(r'$f(x_k) - f^*$') \n",
    "plt.title(r'$dim = {0}, k = {1}, L_3 = {2}$'.format(n, k, L3)) \n",
    "\n",
    "arr_i = [i for i in range(NumIter + 1)]\n",
    "\n",
    "plt.plot(arr_i, nbig_farr1 - fopt, label = 'T_main')\n",
    "plt.plot(arr_i, nbig_farr4 - fopt, label = 'T_acc')\n",
    "#plt.semilogy(arr_i, farr_newton_cubic_iter_ad - fopt, label = '4')\n",
    "plt.plot(arr_i, nbig_farr_newton_cubic_iter_nd - fopt, label = 'NonAdapt_C_Newton')\n",
    "\n",
    "plt.legend()\n",
    "plt.grid(True) \n",
    "fig.savefig('Tensor3_f_n={0}_iter.pdf'.format(n))\n",
    "plt.show()"
   ]
  },
  {
   "cell_type": "markdown",
   "metadata": {},
   "source": [
    "# Last problem for $f_k$ and it's parametres, $n = 1000$"
   ]
  },
  {
   "cell_type": "code",
   "execution_count": 38,
   "metadata": {},
   "outputs": [],
   "source": [
    "n = 1000\n",
    "k = n // 2\n",
    "NumIter = 50\n",
    "TensorNumIter = 40\n",
    "eps = 1e-7\n",
    "tau = 1 + eps\n",
    "\n",
    "x0 = np.zeros(n)\n",
    "AuxMaxIter = 100\n",
    "L0 = eps\n",
    "\n",
    "p = 3\n",
    "args = (k, n, p)"
   ]
  },
  {
   "cell_type": "code",
   "execution_count": 40,
   "metadata": {},
   "outputs": [
    {
     "ename": "KeyboardInterrupt",
     "evalue": "",
     "output_type": "error",
     "traceback": [
      "\u001b[0;31m---------------------------------------------------------------------------\u001b[0m",
      "\u001b[0;31mKeyboardInterrupt\u001b[0m                         Traceback (most recent call last)",
      "\u001b[0;32m<ipython-input-40-ebd18af3d5df>\u001b[0m in \u001b[0;36m<module>\u001b[0;34m\u001b[0m\n\u001b[1;32m      5\u001b[0m \u001b[0maux_prob_method\u001b[0m \u001b[0;34m=\u001b[0m \u001b[0;36m1\u001b[0m\u001b[0;34m\u001b[0m\u001b[0;34m\u001b[0m\u001b[0m\n\u001b[1;32m      6\u001b[0m nbiggest_xans1, nbiggest_fans1, nbiggest_farr1 = Tensor3_iter(NumIter, TensorNumIter, AuxMaxIter, \n\u001b[0;32m----> 7\u001b[0;31m         x0, f, grad_f_true, hess_f_true, dot_tensor3_vect_vect_f_true, tau, L3, eps, aux_prob_method, *args)\n\u001b[0m\u001b[1;32m      8\u001b[0m \u001b[0mprint\u001b[0m\u001b[0;34m(\u001b[0m\u001b[0;34m'1xans '\u001b[0m\u001b[0;34m,\u001b[0m \u001b[0mnbiggest_xans1\u001b[0m\u001b[0;34m)\u001b[0m\u001b[0;34m\u001b[0m\u001b[0;34m\u001b[0m\u001b[0m\n\u001b[1;32m      9\u001b[0m \u001b[0mprint\u001b[0m\u001b[0;34m(\u001b[0m\u001b[0;34m'1fans, it1 '\u001b[0m\u001b[0;34m,\u001b[0m \u001b[0mnbiggest_fans1\u001b[0m\u001b[0;34m,\u001b[0m \u001b[0mNumIter\u001b[0m\u001b[0;34m)\u001b[0m\u001b[0;34m\u001b[0m\u001b[0;34m\u001b[0m\u001b[0m\n",
      "\u001b[0;32m<ipython-input-10-bdf84ff3c604>\u001b[0m in \u001b[0;36mTensor3_iter\u001b[0;34m(NumIter, TensorMaxIter, AuxMaxIter, x0, f, grad_f, hess_f, tensor3_f_direct, tau, L, eps, aux_prob_method, *args)\u001b[0m\n\u001b[1;32m     13\u001b[0m         \u001b[0;31m#fgradarr[k] = linalg.norm(grad_f_xk)\u001b[0m\u001b[0;34m\u001b[0m\u001b[0;34m\u001b[0m\u001b[0;34m\u001b[0m\u001b[0m\n\u001b[1;32m     14\u001b[0m         xk = T3M(xk, aux_prob_method, grad_f_xk, hessian_f_xk, tensor3_f_direct, TensorMaxIter, AuxMaxIter,\n\u001b[0;32m---> 15\u001b[0;31m                                                              tau, L, eps, *args) \n\u001b[0m\u001b[1;32m     16\u001b[0m \u001b[0;34m\u001b[0m\u001b[0m\n\u001b[1;32m     17\u001b[0m     \u001b[0mf_xk\u001b[0m \u001b[0;34m=\u001b[0m \u001b[0mf\u001b[0m\u001b[0;34m(\u001b[0m\u001b[0mxk\u001b[0m\u001b[0;34m,\u001b[0m \u001b[0;34m*\u001b[0m\u001b[0margs\u001b[0m\u001b[0;34m)\u001b[0m\u001b[0;34m\u001b[0m\u001b[0;34m\u001b[0m\u001b[0m\n",
      "\u001b[0;32m<ipython-input-9-766164f6ce54>\u001b[0m in \u001b[0;36mT3M\u001b[0;34m(x, aux_prob_method, grad_f_cur, hess_f_cur, tensor3_f_direct, TensorMaxIter, AuxMaxIter, tau, L, eps, *args)\u001b[0m\n\u001b[1;32m     17\u001b[0m \u001b[0;34m\u001b[0m\u001b[0m\n\u001b[1;32m     18\u001b[0m             res = optimize.minimize_scalar(aux_problem_onedim_func, args = allargs, method = 'bounded', bounds=(t0, xb), \n\u001b[0;32m---> 19\u001b[0;31m                                                             options={'maxiter': AuxMaxIter, 'disp': False})\n\u001b[0m\u001b[1;32m     20\u001b[0m \u001b[0;34m\u001b[0m\u001b[0m\n\u001b[1;32m     21\u001b[0m             \u001b[0mtau_opt\u001b[0m \u001b[0;34m=\u001b[0m \u001b[0mres\u001b[0m\u001b[0;34m.\u001b[0m\u001b[0mx\u001b[0m\u001b[0;34m\u001b[0m\u001b[0;34m\u001b[0m\u001b[0m\n",
      "\u001b[0;32m/usr/lib/python3/dist-packages/scipy/optimize/_minimize.py\u001b[0m in \u001b[0;36mminimize_scalar\u001b[0;34m(fun, bracket, bounds, args, method, tol, options)\u001b[0m\n\u001b[1;32m    613\u001b[0m             raise ValueError('The `bounds` parameter is mandatory for '\n\u001b[1;32m    614\u001b[0m                              'method `bounded`.')\n\u001b[0;32m--> 615\u001b[0;31m         \u001b[0;32mreturn\u001b[0m \u001b[0m_minimize_scalar_bounded\u001b[0m\u001b[0;34m(\u001b[0m\u001b[0mfun\u001b[0m\u001b[0;34m,\u001b[0m \u001b[0mbounds\u001b[0m\u001b[0;34m,\u001b[0m \u001b[0margs\u001b[0m\u001b[0;34m,\u001b[0m \u001b[0;34m**\u001b[0m\u001b[0moptions\u001b[0m\u001b[0;34m)\u001b[0m\u001b[0;34m\u001b[0m\u001b[0;34m\u001b[0m\u001b[0m\n\u001b[0m\u001b[1;32m    616\u001b[0m     \u001b[0;32melif\u001b[0m \u001b[0mmeth\u001b[0m \u001b[0;34m==\u001b[0m \u001b[0;34m'golden'\u001b[0m\u001b[0;34m:\u001b[0m\u001b[0;34m\u001b[0m\u001b[0;34m\u001b[0m\u001b[0m\n\u001b[1;32m    617\u001b[0m         \u001b[0;32mreturn\u001b[0m \u001b[0m_minimize_scalar_golden\u001b[0m\u001b[0;34m(\u001b[0m\u001b[0mfun\u001b[0m\u001b[0;34m,\u001b[0m \u001b[0mbracket\u001b[0m\u001b[0;34m,\u001b[0m \u001b[0margs\u001b[0m\u001b[0;34m,\u001b[0m \u001b[0;34m**\u001b[0m\u001b[0moptions\u001b[0m\u001b[0;34m)\u001b[0m\u001b[0;34m\u001b[0m\u001b[0;34m\u001b[0m\u001b[0m\n",
      "\u001b[0;32m/usr/lib/python3/dist-packages/scipy/optimize/optimize.py\u001b[0m in \u001b[0;36m_minimize_scalar_bounded\u001b[0;34m(func, bounds, args, xatol, maxiter, disp, **unknown_options)\u001b[0m\n\u001b[1;32m   1714\u001b[0m         \u001b[0msi\u001b[0m \u001b[0;34m=\u001b[0m \u001b[0mnumpy\u001b[0m\u001b[0;34m.\u001b[0m\u001b[0msign\u001b[0m\u001b[0;34m(\u001b[0m\u001b[0mrat\u001b[0m\u001b[0;34m)\u001b[0m \u001b[0;34m+\u001b[0m \u001b[0;34m(\u001b[0m\u001b[0mrat\u001b[0m \u001b[0;34m==\u001b[0m \u001b[0;36m0\u001b[0m\u001b[0;34m)\u001b[0m\u001b[0;34m\u001b[0m\u001b[0;34m\u001b[0m\u001b[0m\n\u001b[1;32m   1715\u001b[0m         \u001b[0mx\u001b[0m \u001b[0;34m=\u001b[0m \u001b[0mxf\u001b[0m \u001b[0;34m+\u001b[0m \u001b[0msi\u001b[0m \u001b[0;34m*\u001b[0m \u001b[0mnumpy\u001b[0m\u001b[0;34m.\u001b[0m\u001b[0mmax\u001b[0m\u001b[0;34m(\u001b[0m\u001b[0;34m[\u001b[0m\u001b[0mnumpy\u001b[0m\u001b[0;34m.\u001b[0m\u001b[0mabs\u001b[0m\u001b[0;34m(\u001b[0m\u001b[0mrat\u001b[0m\u001b[0;34m)\u001b[0m\u001b[0;34m,\u001b[0m \u001b[0mtol1\u001b[0m\u001b[0;34m]\u001b[0m\u001b[0;34m)\u001b[0m\u001b[0;34m\u001b[0m\u001b[0;34m\u001b[0m\u001b[0m\n\u001b[0;32m-> 1716\u001b[0;31m         \u001b[0mfu\u001b[0m \u001b[0;34m=\u001b[0m \u001b[0mfunc\u001b[0m\u001b[0;34m(\u001b[0m\u001b[0mx\u001b[0m\u001b[0;34m,\u001b[0m \u001b[0;34m*\u001b[0m\u001b[0margs\u001b[0m\u001b[0;34m)\u001b[0m\u001b[0;34m\u001b[0m\u001b[0;34m\u001b[0m\u001b[0m\n\u001b[0m\u001b[1;32m   1717\u001b[0m         \u001b[0mnum\u001b[0m \u001b[0;34m+=\u001b[0m \u001b[0;36m1\u001b[0m\u001b[0;34m\u001b[0m\u001b[0;34m\u001b[0m\u001b[0m\n\u001b[1;32m   1718\u001b[0m         \u001b[0mfmin_data\u001b[0m \u001b[0;34m=\u001b[0m \u001b[0;34m(\u001b[0m\u001b[0mnum\u001b[0m\u001b[0;34m,\u001b[0m \u001b[0mx\u001b[0m\u001b[0;34m,\u001b[0m \u001b[0mfu\u001b[0m\u001b[0;34m)\u001b[0m\u001b[0;34m\u001b[0m\u001b[0;34m\u001b[0m\u001b[0m\n",
      "\u001b[0;32m<ipython-input-6-2b41a02ad346>\u001b[0m in \u001b[0;36maux_problem_onedim_func\u001b[0;34m(tau, *args)\u001b[0m\n\u001b[1;32m      9\u001b[0m     \u001b[0msgam\u001b[0m \u001b[0;34m=\u001b[0m \u001b[0mmath\u001b[0m\u001b[0;34m.\u001b[0m\u001b[0msqrt\u001b[0m\u001b[0;34m(\u001b[0m\u001b[0;36m2\u001b[0m\u001b[0;34m*\u001b[0m\u001b[0mgamma\u001b[0m\u001b[0;34m)\u001b[0m\u001b[0;34m\u001b[0m\u001b[0;34m\u001b[0m\u001b[0m\n\u001b[1;32m     10\u001b[0m     \u001b[0mS\u001b[0m \u001b[0;34m=\u001b[0m \u001b[0msgam\u001b[0m\u001b[0;34m*\u001b[0m\u001b[0mtau\u001b[0m\u001b[0;34m*\u001b[0m\u001b[0mB\u001b[0m \u001b[0;34m+\u001b[0m \u001b[0mA\u001b[0m\u001b[0;34m\u001b[0m\u001b[0;34m\u001b[0m\u001b[0m\n\u001b[0;32m---> 11\u001b[0;31m     \u001b[0minvS\u001b[0m \u001b[0;34m=\u001b[0m \u001b[0mlinalg\u001b[0m\u001b[0;34m.\u001b[0m\u001b[0minv\u001b[0m\u001b[0;34m(\u001b[0m\u001b[0mS\u001b[0m\u001b[0;34m)\u001b[0m\u001b[0;34m\u001b[0m\u001b[0;34m\u001b[0m\u001b[0m\n\u001b[0m\u001b[1;32m     12\u001b[0m     \u001b[0mf\u001b[0m \u001b[0;34m=\u001b[0m \u001b[0;36m0.5\u001b[0m\u001b[0;34m*\u001b[0m\u001b[0mtau\u001b[0m\u001b[0;34m*\u001b[0m\u001b[0mtau\u001b[0m \u001b[0;34m+\u001b[0m \u001b[0;36m0.5\u001b[0m \u001b[0;34m*\u001b[0m \u001b[0mnp\u001b[0m\u001b[0;34m.\u001b[0m\u001b[0mdot\u001b[0m\u001b[0;34m(\u001b[0m\u001b[0mnp\u001b[0m\u001b[0;34m.\u001b[0m\u001b[0mdot\u001b[0m\u001b[0;34m(\u001b[0m\u001b[0minvS\u001b[0m\u001b[0;34m,\u001b[0m \u001b[0mc\u001b[0m\u001b[0;34m)\u001b[0m\u001b[0;34m,\u001b[0m \u001b[0mc\u001b[0m\u001b[0;34m)\u001b[0m\u001b[0;34m\u001b[0m\u001b[0;34m\u001b[0m\u001b[0m\n\u001b[1;32m     13\u001b[0m \u001b[0;34m\u001b[0m\u001b[0m\n",
      "\u001b[0;32m/usr/lib/python3/dist-packages/numpy/linalg/linalg.py\u001b[0m in \u001b[0;36minv\u001b[0;34m(a)\u001b[0m\n\u001b[1;32m    511\u001b[0m     \u001b[0msignature\u001b[0m \u001b[0;34m=\u001b[0m \u001b[0;34m'D->D'\u001b[0m \u001b[0;32mif\u001b[0m \u001b[0misComplexType\u001b[0m\u001b[0;34m(\u001b[0m\u001b[0mt\u001b[0m\u001b[0;34m)\u001b[0m \u001b[0;32melse\u001b[0m \u001b[0;34m'd->d'\u001b[0m\u001b[0;34m\u001b[0m\u001b[0;34m\u001b[0m\u001b[0m\n\u001b[1;32m    512\u001b[0m     \u001b[0mextobj\u001b[0m \u001b[0;34m=\u001b[0m \u001b[0mget_linalg_error_extobj\u001b[0m\u001b[0;34m(\u001b[0m\u001b[0m_raise_linalgerror_singular\u001b[0m\u001b[0;34m)\u001b[0m\u001b[0;34m\u001b[0m\u001b[0;34m\u001b[0m\u001b[0m\n\u001b[0;32m--> 513\u001b[0;31m     \u001b[0mainv\u001b[0m \u001b[0;34m=\u001b[0m \u001b[0m_umath_linalg\u001b[0m\u001b[0;34m.\u001b[0m\u001b[0minv\u001b[0m\u001b[0;34m(\u001b[0m\u001b[0ma\u001b[0m\u001b[0;34m,\u001b[0m \u001b[0msignature\u001b[0m\u001b[0;34m=\u001b[0m\u001b[0msignature\u001b[0m\u001b[0;34m,\u001b[0m \u001b[0mextobj\u001b[0m\u001b[0;34m=\u001b[0m\u001b[0mextobj\u001b[0m\u001b[0;34m)\u001b[0m\u001b[0;34m\u001b[0m\u001b[0;34m\u001b[0m\u001b[0m\n\u001b[0m\u001b[1;32m    514\u001b[0m     \u001b[0;32mreturn\u001b[0m \u001b[0mwrap\u001b[0m\u001b[0;34m(\u001b[0m\u001b[0mainv\u001b[0m\u001b[0;34m.\u001b[0m\u001b[0mastype\u001b[0m\u001b[0;34m(\u001b[0m\u001b[0mresult_t\u001b[0m\u001b[0;34m,\u001b[0m \u001b[0mcopy\u001b[0m\u001b[0;34m=\u001b[0m\u001b[0;32mFalse\u001b[0m\u001b[0;34m)\u001b[0m\u001b[0;34m)\u001b[0m\u001b[0;34m\u001b[0m\u001b[0;34m\u001b[0m\u001b[0m\n\u001b[1;32m    515\u001b[0m \u001b[0;34m\u001b[0m\u001b[0m\n",
      "\u001b[0;31mKeyboardInterrupt\u001b[0m: "
     ]
    }
   ],
   "source": [
    "L3 = Lp_2_norm_upper_bound_Nesterov(*args)\n",
    "L2 = L2_upper_bound(L3, x0, *args)\n",
    "fopt = f_opt(*args)\n",
    "\n",
    "aux_prob_method = 1\n",
    "nbiggest_xans1, nbiggest_fans1, nbiggest_farr1 = Tensor3_iter(NumIter, TensorNumIter, AuxMaxIter, \n",
    "        x0, f, grad_f_true, hess_f_true, dot_tensor3_vect_vect_f_true, tau, L3, eps, aux_prob_method, *args)\n",
    "print('1xans ', nbiggest_xans1)\n",
    "print('1fans, it1 ', nbiggest_fans1, NumIter)\n",
    "\n",
    "#aux_prob_method = 2\n",
    "#xans2, fans2, farr2, fgradarr2 = Tensor3_iter(NumIter, TensorNumIter, AuxMaxIter,\n",
    "               #                 x0, f, grad_f_true, hess_f_true, tensor3_f_true, tau, L3, eps, aux_prob_method, *args)\n",
    "#print('2xans ', xans2)\n",
    "#print('2fans, it2 ', fans2, NumIter)\n",
    "\n",
    "#aux_prob_method = 3\n",
    "#xans3, fans3, farr3, fgradarr3 = Tensor3_iter(NumIter, TensorNumIter, AuxMaxIter,\n",
    "#                                x0, f, grad_f_true, hess_f_true, tensor3_f_true, tau, L3, eps, aux_prob_method, *args)\n",
    "#print('3xans ', xans3)\n",
    "#print('3fans, it3 ', fans3, NumIter)\n",
    "version = 1\n",
    "\n",
    "aux_prob_method = 1\n",
    "nbiggest_xans4, nbiggest_fans4, nbiggest_farr4 = TensorAcc3_iter(NumIter, TensorNumIter, AuxMaxIter,\n",
    "        x0, f, grad_f_true, hess_f_true, dot_tensor3_vect_vect_f_true, tau, L3, eps, aux_prob_method, version, *args)\n",
    "print('4xans ', nbiggest_xans4)\n",
    "print('4fans, it4 ', nbiggest_fans4, NumIter)\n",
    "\n",
    "#aux_prob_method = 2\n",
    "#xans5, fans5, farr5, fgradarr5 = TensorAcc3_iter(NumIter, TensorNumIter, AuxMaxIter,\n",
    "#                                x0, f, grad_f_true, hess_f_true, tensor3_f_true, tau, L3, eps, aux_prob_method, *args)\n",
    "#print('5xans ', xans5)\n",
    "#print('5fans, it5 ', fans5, NumIter)\n",
    "\n",
    "#aux_prob_method = 3\n",
    "#xans6, fans6, farr6, fgradarr6 = TensorAcc3_iter(NumIter, TensorNumIter, AuxMaxIter,\n",
    "#                                x0, f, grad_f_true, hess_f_true, tensor3_f_true, tau, L3, eps, aux_prob_method, *args)\n",
    "#print('6xans ', xans6)\n",
    "#print('6fans, it6 ', fans6, NumIter)\n",
    "\n",
    "#xans_fgm, farr_fgm, it_fgm, fgradarr_fgm = FGM_iter(NumIter, x0, f, grad_f_true, L1, *args)\n",
    "#print('xans_fgm ', xans_fgm)\n",
    "#print('fans_fgm, it ', farr_fgm[NumIter], NumIter)\n",
    "\n",
    "adapt = 1\n",
    "xans_newton_cubic_iter_ad, farr_newton_cubic_iter_ad = Newton_cubic_solver_iter(x0,\n",
    "                NumIter, AuxMaxIter, f, grad_f_true, hess_f_true, L0, eps, adapt, *args)\n",
    "print('xans_newton_adapt ', xans_newton_cubic_iter_ad)\n",
    "print('xans_newton_adapt, it ', farr_newton_cubic_iter_ad[NumIter], NumIter)\n",
    "\n",
    "adapt = 0\n",
    "nbiggest_xans_newton_cubic_iter_nd, nbiggest_farr_newton_cubic_iter_nd = Newton_cubic_solver_iter(x0,\n",
    "                NumIter, AuxMaxIter, f, grad_f_true, hess_f_true, L2_small, eps, adapt, *args)\n",
    "print('xans_newton_nonadapt ', nbiggest_xans_newton_cubic_iter_nd)\n",
    "print('xans_newton_nonadapt, it ', nbiggest_farr_newton_cubic_iter_nd[NumIter], NumIter)"
   ]
  },
  {
   "cell_type": "markdown",
   "metadata": {},
   "source": [
    "##### Plot scatter graphs"
   ]
  },
  {
   "cell_type": "code",
   "execution_count": null,
   "metadata": {},
   "outputs": [],
   "source": [
    "fig = plt.figure()\n",
    "s = [10 for n in range(len(nbig_farr1) - 1)]\n",
    "\n",
    "plt.xlabel(r'$\\log_{10}(k)$') \n",
    "plt.ylabel(r'$\\log_{10}(f(x_k) - f^*)$') \n",
    "plt.title(r'$dim = {0}, k = {1}, L_3 = {2}$'.format(n, k, L3)) \n",
    "\n",
    "log_i = [np.log10(i) for i in range(1, NumIter + 1)]\n",
    "\n",
    "plt.scatter(log_i, [np.log10(nbiggest_farr1[i] - fopt) for i in range(1, NumIter + 1)], label = 'T_main', s = s)\n",
    "plt.scatter(log_i, [np.log10(nbiggest_farr4[i] - fopt) for i in range(1, NumIter + 1)], label = 'T_acc', s = s)\n",
    "#plt.scatter(log_i, [np.log10(farr_newton_cubic_iter_ad[i] - fopt) for i in range(1, NumIter + 1)], \n",
    "#                                                                        label = 'Adapt_C_Newton', s = s)\n",
    "plt.scatter(log_i, [np.log10(nbiggest_farr_newton_cubic_iter_nd[i] - fopt) for i in range(1, NumIter + 1)], \n",
    "                                                                        label = 'NonAdapt_C_Newton', s = s)\n",
    "\n",
    "plt.legend()\n",
    "plt.grid(True) \n",
    "fig.savefig('Scatter_Tensor3_f_n={0}_iter.pdf'.format(n))\n",
    "plt.show()"
   ]
  },
  {
   "cell_type": "markdown",
   "metadata": {},
   "source": [
    "##### Plot semilogy graphs"
   ]
  },
  {
   "cell_type": "code",
   "execution_count": null,
   "metadata": {},
   "outputs": [],
   "source": [
    "fig = plt.figure()\n",
    "\n",
    "plt.xlabel(r'$k$') \n",
    "plt.ylabel(r'$f(x_k) - f^*$') \n",
    "plt.title(r'$dim = {0}, k = {1}, L_3 = {2}$'.format(n, k, L3)) \n",
    "\n",
    "arr_i = [i for i in range(NumIter + 1)]\n",
    "\n",
    "plt.plot(arr_i, nbig_farr1 - fopt, label = 'T_main')\n",
    "plt.plot(arr_i, nbig_farr4 - fopt, label = 'T_acc')\n",
    "#plt.semilogy(arr_i, farr_newton_cubic_iter_ad - fopt, label = '4')\n",
    "plt.plot(arr_i, nbig_farr_newton_cubic_iter_nd - fopt, label = 'NonAdapt_C_Newton')\n",
    "\n",
    "plt.legend()\n",
    "plt.grid(True) \n",
    "fig.savefig('Tensor3_f_n={0}_iter.pdf'.format(n))\n",
    "plt.show()"
   ]
  },
  {
   "cell_type": "markdown",
   "metadata": {},
   "source": [
    "# Logistic regression"
   ]
  },
  {
   "cell_type": "markdown",
   "metadata": {},
   "source": [
    "## Reading data"
   ]
  },
  {
   "cell_type": "code",
   "execution_count": 36,
   "metadata": {},
   "outputs": [
    {
     "name": "stdout",
     "output_type": "stream",
     "text": [
      "Data was read successfully!\n"
     ]
    }
   ],
   "source": [
    "features = 54\n",
    "train_object_size = 20000\n",
    "test_object_size = 30000\n",
    "read_object_size = train_object_size + test_object_size\n",
    "\n",
    "train_object = np.zeros((train_object_size, features))\n",
    "train_ans = np.zeros(train_object_size)\n",
    "\n",
    "test_object = np.zeros((test_object_size, features)) \n",
    "test_ans = np.zeros(test_object_size)\n",
    "\n",
    "f = open('covtype.libsvm.binary.scale')\n",
    "line_num = 0\n",
    "for line in f:\n",
    "    if (line_num == read_object_size):\n",
    "        break\n",
    "    line_object = line.split()\n",
    "    len_line_object = len(line_object)\n",
    "    for i in range(1, len_line_object):\n",
    "        current_cell = line_object[i].split(':')\n",
    "        current_num_feature = int(current_cell[0]) - 1\n",
    "        current_feature = float(current_cell[1])\n",
    "        bin_class = int(line_object[0])\n",
    "        if (bin_class == 2):\n",
    "            bin_class = -1\n",
    "        if (line_num < train_object_size):\n",
    "            train_ans[line_num] = bin_class\n",
    "            train_object[line_num][current_num_feature] = current_feature\n",
    "        else:\n",
    "            test_ans[line_num - train_object_size] = bin_class\n",
    "            test_object[line_num - train_object_size][current_num_feature] = current_feature\n",
    "    line_num += 1\n",
    "f.close()\n",
    "print(\"Data was read successfully!\")"
   ]
  },
  {
   "cell_type": "markdown",
   "metadata": {},
   "source": [
    "##### Logististic loss and it's gradient, hessian and third derivative using closed-form expression"
   ]
  },
  {
   "cell_type": "code",
   "execution_count": 70,
   "metadata": {},
   "outputs": [],
   "source": [
    "def logistic_loss(w, *args):\n",
    "    X, y = args\n",
    "    objects_size = y.shape[0]\n",
    "    return sum([np.log(1 + np.exp(-y[i]*np.dot(X[i], w))) for i in range(objects_size)])\n",
    "\n",
    "def grad_logistic_loss(w, *args):\n",
    "    X, y = args\n",
    "    objects_size = y.shape[0]\n",
    "    return sum([-y[i]*X[i]/(1 + np.exp(y[i]*np.dot(X[i], w))) for i in range(objects_size)])\n",
    "\n",
    "def hess_logistic_loss(w, *args):\n",
    "    X, y = args\n",
    "    objects_size = y.shape[0]\n",
    "    features = X.shape[1]\n",
    "    ans = np.zeros((features, features))\n",
    "    for i in range(objects_size):\n",
    "        ans += np.exp(y[i]*np.dot(X[i], w))/((1 + np.exp(y[i]*np.dot(X[i], w)))**2)*np.dot(X[i].reshape(-1, 1),\n",
    "                                                                X[i].reshape(1, -1))\n",
    "    return ans\n",
    "\n",
    "def dot_tensor3_and_vector_vector_logistic_loss(w, h, *args):\n",
    "    X, y = args\n",
    "    objects_size = y.shape[0]\n",
    "    features = X.shape[1]\n",
    "    ans = np.zeros(features)\n",
    "    for i in range(objects_size):\n",
    "        add = y[i]*(1 - np.exp(y[i]*np.dot(X[i], w)))*(np.dot(h, X[i])**2)*np.exp(y[i]*np.dot(X[i], w))\n",
    "        add = add/((1 + np.exp(y[i]*np.dot(X[i], w)))**3)*X[i]\n",
    "        ans += add\n",
    "    return ans\n"
   ]
  },
  {
   "cell_type": "markdown",
   "metadata": {},
   "source": [
    "##### Upper bounds on $L_2(\\text{logistic loss})$ and $L_3(\\text{logistic loss})$"
   ]
  },
  {
   "cell_type": "code",
   "execution_count": 37,
   "metadata": {},
   "outputs": [],
   "source": [
    "def L2_upper_bound(X):\n",
    "    return 1/10*sum([linalg.norm(X[i])**3 for i in range(X.shape[0])])\n",
    "\n",
    "def L3_upper_bound(X):\n",
    "    return 1/8*sum([linalg.norm(X[i])**4 for i in range(X.shape[0])])"
   ]
  },
  {
   "cell_type": "markdown",
   "metadata": {},
   "source": [
    "# Our problem to solve and it's parametres"
   ]
  },
  {
   "cell_type": "code",
   "execution_count": 98,
   "metadata": {},
   "outputs": [],
   "source": [
    "train_const_feature = np.array([np.array([1]) for i in range(train_object_size)]) #добавим фиктивный признак\n",
    "train_extended_object = copy.deepcopy(train_object)\n",
    "train_extended_object = np.column_stack((train_extended_object, train_const_feature[:, 0]))\n",
    "args = (train_extended_object, train_ans)\n",
    "\n",
    "features_num = features + 1\n",
    "w0 = np.zeros(features_num)"
   ]
  },
  {
   "cell_type": "code",
   "execution_count": 43,
   "metadata": {},
   "outputs": [
    {
     "data": {
      "text/plain": [
       "array([ 0.368684 ,  0.141667 ,  0.0454545,  0.184681 ,  0.223514 ,\n",
       "        0.0716594,  0.870079 ,  0.913386 ,  0.582677 ,  0.875366 ,\n",
       "        1.       ,  0.       ,  0.       ,  0.       ,  0.       ,\n",
       "        0.       ,  0.       ,  0.       ,  0.       ,  0.       ,\n",
       "        0.       ,  0.       ,  0.       ,  0.       ,  0.       ,\n",
       "        0.       ,  0.       ,  0.       ,  0.       ,  0.       ,\n",
       "        0.       ,  0.       ,  0.       ,  0.       ,  0.       ,\n",
       "        0.       ,  0.       ,  0.       ,  0.       ,  0.       ,\n",
       "        0.       ,  0.       ,  1.       ,  0.       ,  0.       ,\n",
       "        0.       ,  0.       ,  0.       ,  0.       ,  0.       ,\n",
       "        0.       ,  0.       ,  0.       ,  0.       ,  1.       ])"
      ]
     },
     "execution_count": 43,
     "metadata": {},
     "output_type": "execute_result"
    }
   ],
   "source": [
    "train_extended_object[0]"
   ]
  },
  {
   "cell_type": "markdown",
   "metadata": {},
   "source": [
    "# Experiments with different methods"
   ]
  },
  {
   "cell_type": "code",
   "execution_count": null,
   "metadata": {},
   "outputs": [],
   "source": [
    "NumIter = 30\n",
    "NumIterStep = 100\n",
    "L0 = 1e-10\n",
    "eps = 1e-10\n",
    "\n",
    "args = (train_extended_object, train_ans)\n",
    "xans_newton_cubic_iter, farr_newton_cubic_iter, fgradarr_newton_cubic_iter = Newton_cubic_solver_iter(w0, NumIter, \n",
    "                        NumIterStep, logistic_loss, grad_logistic_loss, hessian_logistic_loss,  L0, eps, *args)"
   ]
  },
  {
   "cell_type": "code",
   "execution_count": null,
   "metadata": {},
   "outputs": [],
   "source": [
    "NumIter = 15\n",
    "NumIterStep = 100\n",
    "parts = 100000\n",
    "L0 = L3_upper_bound(train_extended_object)/parts\n",
    "eps = 1e-10\n",
    "\n",
    "args = (train_extended_object, train_ans)\n",
    "xans_fast_newton_cubic, farr_fast_newton_cubic, fgradarr_fast_newton_cubic = fast_Newton_cubic_solver_iter(w0, NumIter,\n",
    "                        NumIterStep, logistic_loss, grad_logistic_loss_auto, hessian_logistic_loss,  L0, eps, *args)"
   ]
  },
  {
   "cell_type": "code",
   "execution_count": null,
   "metadata": {},
   "outputs": [],
   "source": []
  },
  {
   "cell_type": "markdown",
   "metadata": {},
   "source": [
    "# Compare autograd and formulas"
   ]
  },
  {
   "cell_type": "code",
   "execution_count": 109,
   "metadata": {},
   "outputs": [
    {
     "name": "stdout",
     "output_type": "stream",
     "text": [
      "[ 0.  0.  0.  0.  0.  0.  0.  0.  0.  6.  6.  6.  6.  6.  6.  6.  6.  6.\n",
      "  6.  6.]\n",
      "[ 0.  0.  0.  0.  0.  0.  0.  0.  0.  6.  6.  6.  6.  6.  6.  6.  6.  6.\n",
      "  6.  6.]\n"
     ]
    }
   ],
   "source": [
    "p = 3\n",
    "n = 20\n",
    "k = n // 2\n",
    "args = (k, n, p)\n",
    "x0 = np.ones(n)\n",
    "\n",
    "h = np.ones(n)\n",
    "tensor_3_auto = tensor3_f(x0, *args)\n",
    "print(np.dot(np.dot(tensor_3_auto, h), h))\n",
    "print(dot_tensor3_and_vector_vector_f_true(x0, h, *args))"
   ]
  },
  {
   "cell_type": "code",
   "execution_count": null,
   "metadata": {},
   "outputs": [],
   "source": []
  },
  {
   "cell_type": "code",
   "execution_count": 52,
   "metadata": {},
   "outputs": [
    {
     "name": "stdout",
     "output_type": "stream",
     "text": [
      "[ -1.56662864e+03  -1.86405556e+03  -1.15640142e+03  -6.42997164e+02\n",
      "  -1.22648108e+03  -4.01957061e+02  -3.28178577e+03  -3.35611671e+03\n",
      "  -2.06313579e+03   8.35405535e+01   7.57500000e+02  -1.83500000e+02\n",
      "  -2.23450000e+03  -2.31750000e+03  -1.77500000e+02  -3.08500000e+02\n",
      "  -4.69000000e+02  -4.01500000e+02  -8.25000000e+01  -3.18000000e+02\n",
      "   0.00000000e+00   5.00000000e-01   4.00000000e+00  -9.90000000e+02\n",
      "  -1.36000000e+02   2.72000000e+02  -1.54000000e+02  -8.45000000e+01\n",
      "   0.00000000e+00   7.75000000e+01  -2.99000000e+02   2.90000000e+01\n",
      "  -1.00000000e+01  -1.00000000e+01  -8.00000000e+00  -1.18500000e+02\n",
      "  -2.29500000e+02  -5.20000000e+01   5.00000000e-01  -8.00000000e+00\n",
      "  -2.50000000e+00   1.50000000e+00   6.05500000e+02   1.51500000e+02\n",
      "  -6.90000000e+01  -9.00000000e+01  -1.24000000e+02   1.00000000e+00\n",
      "  -5.00000000e+01  -3.00000000e+00  -1.70000000e+01  -3.57000000e+02\n",
      "  -3.25500000e+02  -2.26500000e+02  -3.97800000e+03]\n",
      "[ -1.56662864e+03  -1.86405556e+03  -1.15640142e+03  -6.42997164e+02\n",
      "  -1.22648108e+03  -4.01957061e+02  -3.28178577e+03  -3.35611671e+03\n",
      "  -2.06313579e+03   8.35405535e+01   7.57500000e+02  -1.83500000e+02\n",
      "  -2.23450000e+03  -2.31750000e+03  -1.77500000e+02  -3.08500000e+02\n",
      "  -4.69000000e+02  -4.01500000e+02  -8.25000000e+01  -3.18000000e+02\n",
      "   0.00000000e+00   5.00000000e-01   4.00000000e+00  -9.90000000e+02\n",
      "  -1.36000000e+02   2.72000000e+02  -1.54000000e+02  -8.45000000e+01\n",
      "   0.00000000e+00   7.75000000e+01  -2.99000000e+02   2.90000000e+01\n",
      "  -1.00000000e+01  -1.00000000e+01  -8.00000000e+00  -1.18500000e+02\n",
      "  -2.29500000e+02  -5.20000000e+01   5.00000000e-01  -8.00000000e+00\n",
      "  -2.50000000e+00   1.50000000e+00   6.05500000e+02   1.51500000e+02\n",
      "  -6.90000000e+01  -9.00000000e+01  -1.24000000e+02   1.00000000e+00\n",
      "  -5.00000000e+01  -3.00000000e+00  -1.70000000e+01  -3.57000000e+02\n",
      "  -3.25500000e+02  -2.26500000e+02  -3.97800000e+03]\n"
     ]
    }
   ],
   "source": [
    "grad_logistic_loss_auto = grad(logistic_loss)\n",
    "hess_logistic_loss_auto = jacobian(grad_logistic_loss_auto)\n",
    "tensor3_logistic_loss_auto = jacobian(hess_logistic_loss_auto)\n",
    "\n",
    "print(grad_logistic_loss(w0, *args))\n",
    "print(grad_logistic_loss_auto(w0, *args))"
   ]
  },
  {
   "cell_type": "code",
   "execution_count": 56,
   "metadata": {},
   "outputs": [
    {
     "name": "stdout",
     "output_type": "stream",
     "text": [
      "[  1.16029057e+03   9.29797380e+02   4.99013647e+02   3.77857408e+02\n",
      "   6.32462807e+02   7.37414754e+02   1.87871855e+03   1.93684404e+03\n",
      "   1.19865850e+03   8.24095873e+02   1.05332353e+03   9.24887368e+01\n",
      "   8.44931576e+02   2.34505449e+02   1.33599355e+01   4.61442049e+01\n",
      "   4.78331817e+01   7.11512087e+01   6.76350986e+00   4.23619403e+01\n",
      "   0.00000000e+00   1.30190000e-01   8.98824000e-01   1.39959510e+02\n",
      "   4.03670595e+01   1.32846554e+02   5.84209612e+01   7.14194745e+00\n",
      "   0.00000000e+00   4.11544535e+01   3.69115846e+01   3.07417492e+01\n",
      "   6.41845875e+00   2.81361940e+01   2.61630775e+00   5.56600773e+01\n",
      "   1.11824784e+02   3.97098530e+01   1.79339750e-01   6.98649375e+00\n",
      "   2.66520775e+00   9.81366000e-01   4.43180969e+02   1.89776510e+02\n",
      "   4.77526253e+01   1.05235488e+02   8.79214560e+01   3.10817850e+00\n",
      "   1.91253100e+01   1.93721875e+00   6.54752300e+00   1.35745613e+02\n",
      "   1.20880056e+02   9.26734525e+01   2.22524930e+03]\n",
      "[  1.16029057e+03   9.29797380e+02   4.99013647e+02   3.77857408e+02\n",
      "   6.32462807e+02   7.37414754e+02   1.87871855e+03   1.93684404e+03\n",
      "   1.19865850e+03   8.24095873e+02   1.05332353e+03   9.24887368e+01\n",
      "   8.44931576e+02   2.34505449e+02   1.33599355e+01   4.61442049e+01\n",
      "   4.78331817e+01   7.11512087e+01   6.76350986e+00   4.23619403e+01\n",
      "   0.00000000e+00   1.30190000e-01   8.98824000e-01   1.39959510e+02\n",
      "   4.03670595e+01   1.32846554e+02   5.84209612e+01   7.14194745e+00\n",
      "   0.00000000e+00   4.11544535e+01   3.69115846e+01   3.07417492e+01\n",
      "   6.41845875e+00   2.81361940e+01   2.61630775e+00   5.56600773e+01\n",
      "   1.11824784e+02   3.97098530e+01   1.79339750e-01   6.98649375e+00\n",
      "   2.66520775e+00   9.81366000e-01   4.43180969e+02   1.89776510e+02\n",
      "   4.77526253e+01   1.05235488e+02   8.79214560e+01   3.10817850e+00\n",
      "   1.91253100e+01   1.93721875e+00   6.54752300e+00   1.35745613e+02\n",
      "   1.20880056e+02   9.26734525e+01   2.22524930e+03]\n"
     ]
    }
   ],
   "source": [
    "print(hess_logistic_loss(w0, *args)[0])\n",
    "print(hess_logistic_loss_auto(w0, *args)[0])"
   ]
  },
  {
   "cell_type": "code",
   "execution_count": 101,
   "metadata": {},
   "outputs": [
    {
     "name": "stdout",
     "output_type": "stream",
     "text": [
      "[ -2.75127447e-10  -5.76882441e-10  -7.95231482e-10  -6.87292495e-10]\n",
      "[ -2.89789589e-10  -5.55430045e-10  -8.21070502e-10  -6.76175707e-10]\n"
     ]
    }
   ],
   "source": [
    "train_extended_object = np.array([[1.2, 2.3, 3.4, 2.8], [19.7, 5.5, 6.6, 7.7]])\n",
    "train_ans = np.array([1, -1])\n",
    "w0 = np.array([5.6, 1.3, 5, 1.2])\n",
    "h = np.array([1.1, 1.9, 12.4, 1.7])\n",
    "args = (train_extended_object, train_ans)\n",
    "tensor_3_auto = tensor3_logistic_loss_auto(w0, *args)\n",
    "print(np.dot(np.dot(tensor_3_auto, h), h))\n",
    "print(dot_tensor3_and_vector_vector_logistic_loss(w0, h, *args))"
   ]
  },
  {
   "cell_type": "code",
   "execution_count": 103,
   "metadata": {},
   "outputs": [
    {
     "name": "stdout",
     "output_type": "stream",
     "text": [
      "[-0.02729094 -0.01105561 -0.00280546 -0.01248178 -0.01632065 -0.00468862\n",
      " -0.06452449 -0.06833928 -0.0437575  -0.06478162 -0.07433052  0.          0.\n",
      "  0.          0.          0.          0.          0.          0.          0.\n",
      "  0.          0.          0.          0.          0.          0.          0.\n",
      "  0.          0.          0.          0.          0.          0.          0.\n",
      "  0.          0.          0.          0.          0.          0.          0.\n",
      "  0.         -0.07433052  0.          0.          0.          0.          0.\n",
      "  0.          0.          0.          0.          0.          0.\n",
      " -0.07433052]\n",
      "[-0.02729094 -0.01105561 -0.00280546 -0.01248178 -0.01632065 -0.00468862\n",
      " -0.06452449 -0.06833928 -0.0437575  -0.06478162 -0.07433052  0.          0.\n",
      "  0.          0.          0.          0.          0.          0.          0.\n",
      "  0.          0.          0.          0.          0.          0.          0.\n",
      "  0.          0.          0.          0.          0.          0.          0.\n",
      "  0.          0.          0.          0.          0.          0.          0.\n",
      "  0.         -0.07433052  0.          0.          0.          0.          0.\n",
      "  0.          0.          0.          0.          0.          0.\n",
      " -0.07433052]\n"
     ]
    }
   ],
   "source": [
    "train_const_feature = np.array([np.array([1]) for i in range(train_object_size)]) #добавим фиктивный признак\n",
    "train_extended_object = copy.deepcopy(train_object)\n",
    "train_extended_object = np.column_stack((train_extended_object, train_const_feature[:, 0]))\n",
    "args = (train_extended_object, train_ans)\n",
    "\n",
    "features_num = features + 1\n",
    "w0 = np.ones(features_num)\n",
    "h = np.ones(features_num)\n",
    "tensor_3_auto = tensor3_logistic_loss_auto(w0, *args)\n",
    "print(np.dot(np.dot(tensor_3_auto, h), h))\n",
    "print(dot_tensor3_and_vector_vector_logistic_loss(w0, h, *args))"
   ]
  },
  {
   "cell_type": "code",
   "execution_count": null,
   "metadata": {},
   "outputs": [],
   "source": []
  }
 ],
 "metadata": {
  "kernelspec": {
   "display_name": "Python 3",
   "language": "python",
   "name": "python3"
  },
  "language_info": {
   "codemirror_mode": {
    "name": "ipython",
    "version": 3
   },
   "file_extension": ".py",
   "mimetype": "text/x-python",
   "name": "python",
   "nbconvert_exporter": "python",
   "pygments_lexer": "ipython3",
   "version": "3.6.7"
  }
 },
 "nbformat": 4,
 "nbformat_minor": 2
}
