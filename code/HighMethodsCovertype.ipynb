{
 "cells": [
  {
   "cell_type": "markdown",
   "metadata": {},
   "source": [
    "# Считывание данных"
   ]
  },
  {
   "cell_type": "code",
   "execution_count": 276,
   "metadata": {},
   "outputs": [
    {
     "name": "stdout",
     "output_type": "stream",
     "text": [
      "Данные считались успешно!\n"
     ]
    }
   ],
   "source": [
    "import pandas as pd\n",
    "import numpy as np\n",
    "from sklearn import linear_model\n",
    "\n",
    "features = 54\n",
    "train_object_size = 20000\n",
    "test_object_size = 30000\n",
    "read_object_size = train_object_size + test_object_size\n",
    "\n",
    "train_object = np.zeros((train_object_size, features))\n",
    "train_ans = np.zeros(train_object_size)\n",
    "\n",
    "test_object = np.zeros((test_object_size, features)) \n",
    "test_ans = np.zeros(test_object_size)\n",
    "\n",
    "f = open('covtype.libsvm.binary.scale')\n",
    "line_num = 0\n",
    "for line in f:\n",
    "    if (line_num == read_object_size):\n",
    "        break\n",
    "    line_object = line.split()\n",
    "    len_line_object = len(line_object)\n",
    "    for i in range(1, len_line_object):\n",
    "        current_cell = line_object[i].split(':')\n",
    "        current_num_feature = int(current_cell[0]) - 1\n",
    "        current_feature = float(current_cell[1])\n",
    "        bin_class = int(line_object[0])\n",
    "        if (bin_class == 2):\n",
    "            bin_class = -1\n",
    "        if (line_num < train_object_size):\n",
    "            train_ans[line_num] = bin_class\n",
    "            train_object[line_num][current_num_feature] = current_feature\n",
    "        else:\n",
    "            test_ans[line_num - train_object_size] = bin_class\n",
    "            test_object[line_num - train_object_size][current_num_feature] = current_feature\n",
    "    line_num += 1\n",
    "f.close()\n",
    "print(\"Данные считались успешно!\")"
   ]
  },
  {
   "cell_type": "markdown",
   "metadata": {},
   "source": [
    "# Обучение моделей"
   ]
  },
  {
   "cell_type": "code",
   "execution_count": 184,
   "metadata": {},
   "outputs": [
    {
     "name": "stdout",
     "output_type": "stream",
     "text": [
      "Количество первого класса в train = 13978, количество второго класса в train = 6022\n"
     ]
    }
   ],
   "source": [
    "class1 = sum([int(train_ans[i] == 1) for i in range(train_object_size)]) #Посмотрим на соотношение классов в train.\n",
    "class2 = sum([int(train_ans[i] == -1) for i in range(train_object_size)])\n",
    "print(\"Количество первого класса в train = {0}, количество второго класса в train = {1}\".format(class1, class2))"
   ]
  },
  {
   "cell_type": "code",
   "execution_count": 185,
   "metadata": {},
   "outputs": [
    {
     "name": "stdout",
     "output_type": "stream",
     "text": [
      "Количество первого класса в test = 7229, количество второго класса в test = 22771\n"
     ]
    }
   ],
   "source": [
    "class1 = sum([int(test_ans[i] == 1) for i in range(test_object_size)])\n",
    "                                                                            #Посмотрим на соотношение классов в test.\n",
    "class2 = sum([int(test_ans[i] == -1) for i in range(test_object_size)])\n",
    "print(\"Количество первого класса в test = {0}, количество второго класса в test = {1}\".format(class1, class2))"
   ]
  },
  {
   "cell_type": "markdown",
   "metadata": {},
   "source": [
    "## Логистическая регрессия"
   ]
  },
  {
   "cell_type": "code",
   "execution_count": 186,
   "metadata": {},
   "outputs": [],
   "source": [
    "import sklearn\n",
    "from sklearn.metrics import accuracy_score\n",
    "from sklearn.linear_model import LogisticRegression"
   ]
  },
  {
   "cell_type": "code",
   "execution_count": 288,
   "metadata": {},
   "outputs": [],
   "source": [
    "from numpy import linalg\n",
    "import matplotlib.pyplot as plt\n",
    "import copy\n",
    "import time\n",
    "%matplotlib inline\n",
    "\n",
    "def logistic_loss(w, *args):\n",
    "    X, y = args\n",
    "    objects_size = y.shape[0]\n",
    "    return sum([np.log(1 + np.exp(-y[i]*np.dot(X[i], w))) for i in range(objects_size)])\n",
    "\n",
    "def grad_logistic_loss(w, *args):\n",
    "    X, y = args\n",
    "    objects_size = y.shape[0]\n",
    "    return sum([-y[i]*X[i]/(1 + np.exp(y[i]*np.dot(X[i], w))) for i in range(objects_size)])\n",
    "\n",
    "def hessian_logistic_loss(w, *args):\n",
    "    X, y = args\n",
    "    objects_size = y.shape[0]\n",
    "    features = X.shape[1]\n",
    "    ans = np.zeros((features, features))\n",
    "    for i in range(objects_size):\n",
    "        ans += np.exp(y[i]*np.dot(X[i], w))/((1 + np.exp(y[i]*np.dot(X[i], w)))**2)*np.dot(X[i].reshape(-1, 1),\n",
    "                                                                X[i].reshape(1, -1))\n",
    "    return ans\n",
    "\n",
    "def L3_upper_bound(X):\n",
    "    return 1/10*sum([linalg.norm(X[i])**3 for i in range(X.shape[0])])\n",
    "  \n",
    "def L2_upper_bound(X):\n",
    "    return 1/4*sum([linalg.norm(X[i])**2 for i in range(X.shape[0])])"
   ]
  },
  {
   "cell_type": "code",
   "execution_count": 227,
   "metadata": {},
   "outputs": [
    {
     "data": {
      "text/plain": [
       "(20000, 55)"
      ]
     },
     "execution_count": 227,
     "metadata": {},
     "output_type": "execute_result"
    }
   ],
   "source": [
    "train_const_feature = np.array([np.array([1]) for i in range(train_object_size)]) #добавим фиктивный признак\n",
    "test_const_feature = np.array([np.array([1]) for i in range(test_object_size)])\n",
    "\n",
    "train_extended_object = copy.deepcopy(train_object)\n",
    "train_extended_object = np.column_stack((train_extended_object, train_const_feature[:, 0]))\n",
    "\n",
    "test_extended_object = copy.deepcopy(test_object)\n",
    "test_extended_object = np.column_stack((test_extended_object, test_const_feature[:, 0]))\n",
    "\n",
    "train_extended_object.shape"
   ]
  },
  {
   "cell_type": "code",
   "execution_count": 235,
   "metadata": {},
   "outputs": [
    {
     "name": "stdout",
     "output_type": "stream",
     "text": [
      "iter = 0\n"
     ]
    },
    {
     "name": "stderr",
     "output_type": "stream",
     "text": [
      "/usr/local/lib64/python3.7/site-packages/sklearn/svm/base.py:922: ConvergenceWarning: Liblinear failed to converge, increase the number of iterations.\n",
      "  \"the number of iterations.\", ConvergenceWarning)\n"
     ]
    },
    {
     "name": "stdout",
     "output_type": "stream",
     "text": [
      "iter = 1\n"
     ]
    },
    {
     "name": "stderr",
     "output_type": "stream",
     "text": [
      "/usr/local/lib64/python3.7/site-packages/sklearn/svm/base.py:922: ConvergenceWarning: Liblinear failed to converge, increase the number of iterations.\n",
      "  \"the number of iterations.\", ConvergenceWarning)\n"
     ]
    },
    {
     "name": "stdout",
     "output_type": "stream",
     "text": [
      "iter = 2\n"
     ]
    },
    {
     "name": "stderr",
     "output_type": "stream",
     "text": [
      "/usr/local/lib64/python3.7/site-packages/sklearn/svm/base.py:922: ConvergenceWarning: Liblinear failed to converge, increase the number of iterations.\n",
      "  \"the number of iterations.\", ConvergenceWarning)\n"
     ]
    },
    {
     "name": "stdout",
     "output_type": "stream",
     "text": [
      "iter = 3\n"
     ]
    },
    {
     "name": "stderr",
     "output_type": "stream",
     "text": [
      "/usr/local/lib64/python3.7/site-packages/sklearn/svm/base.py:922: ConvergenceWarning: Liblinear failed to converge, increase the number of iterations.\n",
      "  \"the number of iterations.\", ConvergenceWarning)\n"
     ]
    },
    {
     "name": "stdout",
     "output_type": "stream",
     "text": [
      "iter = 4\n"
     ]
    },
    {
     "name": "stderr",
     "output_type": "stream",
     "text": [
      "/usr/local/lib64/python3.7/site-packages/sklearn/svm/base.py:922: ConvergenceWarning: Liblinear failed to converge, increase the number of iterations.\n",
      "  \"the number of iterations.\", ConvergenceWarning)\n"
     ]
    },
    {
     "name": "stdout",
     "output_type": "stream",
     "text": [
      "iter = 5\n"
     ]
    },
    {
     "name": "stderr",
     "output_type": "stream",
     "text": [
      "/usr/local/lib64/python3.7/site-packages/sklearn/svm/base.py:922: ConvergenceWarning: Liblinear failed to converge, increase the number of iterations.\n",
      "  \"the number of iterations.\", ConvergenceWarning)\n"
     ]
    },
    {
     "name": "stdout",
     "output_type": "stream",
     "text": [
      "iter = 6\n"
     ]
    },
    {
     "name": "stderr",
     "output_type": "stream",
     "text": [
      "/usr/local/lib64/python3.7/site-packages/sklearn/svm/base.py:922: ConvergenceWarning: Liblinear failed to converge, increase the number of iterations.\n",
      "  \"the number of iterations.\", ConvergenceWarning)\n"
     ]
    },
    {
     "name": "stdout",
     "output_type": "stream",
     "text": [
      "iter = 7\n"
     ]
    },
    {
     "name": "stderr",
     "output_type": "stream",
     "text": [
      "/usr/local/lib64/python3.7/site-packages/sklearn/svm/base.py:922: ConvergenceWarning: Liblinear failed to converge, increase the number of iterations.\n",
      "  \"the number of iterations.\", ConvergenceWarning)\n"
     ]
    },
    {
     "name": "stdout",
     "output_type": "stream",
     "text": [
      "iter = 8\n"
     ]
    },
    {
     "name": "stderr",
     "output_type": "stream",
     "text": [
      "/usr/local/lib64/python3.7/site-packages/sklearn/svm/base.py:922: ConvergenceWarning: Liblinear failed to converge, increase the number of iterations.\n",
      "  \"the number of iterations.\", ConvergenceWarning)\n"
     ]
    },
    {
     "name": "stdout",
     "output_type": "stream",
     "text": [
      "iter = 9\n"
     ]
    },
    {
     "name": "stderr",
     "output_type": "stream",
     "text": [
      "/usr/local/lib64/python3.7/site-packages/sklearn/svm/base.py:922: ConvergenceWarning: Liblinear failed to converge, increase the number of iterations.\n",
      "  \"the number of iterations.\", ConvergenceWarning)\n"
     ]
    },
    {
     "name": "stdout",
     "output_type": "stream",
     "text": [
      "iter = 10\n"
     ]
    },
    {
     "name": "stderr",
     "output_type": "stream",
     "text": [
      "/usr/local/lib64/python3.7/site-packages/sklearn/svm/base.py:922: ConvergenceWarning: Liblinear failed to converge, increase the number of iterations.\n",
      "  \"the number of iterations.\", ConvergenceWarning)\n"
     ]
    },
    {
     "name": "stdout",
     "output_type": "stream",
     "text": [
      "iter = 11\n"
     ]
    },
    {
     "name": "stderr",
     "output_type": "stream",
     "text": [
      "/usr/local/lib64/python3.7/site-packages/sklearn/svm/base.py:922: ConvergenceWarning: Liblinear failed to converge, increase the number of iterations.\n",
      "  \"the number of iterations.\", ConvergenceWarning)\n"
     ]
    },
    {
     "name": "stdout",
     "output_type": "stream",
     "text": [
      "iter = 12\n"
     ]
    },
    {
     "name": "stderr",
     "output_type": "stream",
     "text": [
      "/usr/local/lib64/python3.7/site-packages/sklearn/svm/base.py:922: ConvergenceWarning: Liblinear failed to converge, increase the number of iterations.\n",
      "  \"the number of iterations.\", ConvergenceWarning)\n"
     ]
    },
    {
     "name": "stdout",
     "output_type": "stream",
     "text": [
      "iter = 13\n"
     ]
    },
    {
     "name": "stderr",
     "output_type": "stream",
     "text": [
      "/usr/local/lib64/python3.7/site-packages/sklearn/svm/base.py:922: ConvergenceWarning: Liblinear failed to converge, increase the number of iterations.\n",
      "  \"the number of iterations.\", ConvergenceWarning)\n"
     ]
    },
    {
     "name": "stdout",
     "output_type": "stream",
     "text": [
      "iter = 14\n"
     ]
    },
    {
     "name": "stderr",
     "output_type": "stream",
     "text": [
      "/usr/local/lib64/python3.7/site-packages/sklearn/svm/base.py:922: ConvergenceWarning: Liblinear failed to converge, increase the number of iterations.\n",
      "  \"the number of iterations.\", ConvergenceWarning)\n"
     ]
    },
    {
     "name": "stdout",
     "output_type": "stream",
     "text": [
      "iter = 15\n"
     ]
    },
    {
     "name": "stderr",
     "output_type": "stream",
     "text": [
      "/usr/local/lib64/python3.7/site-packages/sklearn/svm/base.py:922: ConvergenceWarning: Liblinear failed to converge, increase the number of iterations.\n",
      "  \"the number of iterations.\", ConvergenceWarning)\n"
     ]
    },
    {
     "name": "stdout",
     "output_type": "stream",
     "text": [
      "iter = 16\n"
     ]
    },
    {
     "name": "stderr",
     "output_type": "stream",
     "text": [
      "/usr/local/lib64/python3.7/site-packages/sklearn/svm/base.py:922: ConvergenceWarning: Liblinear failed to converge, increase the number of iterations.\n",
      "  \"the number of iterations.\", ConvergenceWarning)\n"
     ]
    },
    {
     "name": "stdout",
     "output_type": "stream",
     "text": [
      "iter = 17\n"
     ]
    },
    {
     "name": "stderr",
     "output_type": "stream",
     "text": [
      "/usr/local/lib64/python3.7/site-packages/sklearn/svm/base.py:922: ConvergenceWarning: Liblinear failed to converge, increase the number of iterations.\n",
      "  \"the number of iterations.\", ConvergenceWarning)\n"
     ]
    },
    {
     "name": "stdout",
     "output_type": "stream",
     "text": [
      "iter = 18\n"
     ]
    },
    {
     "name": "stderr",
     "output_type": "stream",
     "text": [
      "/usr/local/lib64/python3.7/site-packages/sklearn/svm/base.py:922: ConvergenceWarning: Liblinear failed to converge, increase the number of iterations.\n",
      "  \"the number of iterations.\", ConvergenceWarning)\n"
     ]
    },
    {
     "name": "stdout",
     "output_type": "stream",
     "text": [
      "iter = 19\n"
     ]
    },
    {
     "name": "stderr",
     "output_type": "stream",
     "text": [
      "/usr/local/lib64/python3.7/site-packages/sklearn/svm/base.py:922: ConvergenceWarning: Liblinear failed to converge, increase the number of iterations.\n",
      "  \"the number of iterations.\", ConvergenceWarning)\n"
     ]
    },
    {
     "name": "stdout",
     "output_type": "stream",
     "text": [
      "iter = 20\n"
     ]
    },
    {
     "name": "stderr",
     "output_type": "stream",
     "text": [
      "/usr/local/lib64/python3.7/site-packages/sklearn/svm/base.py:922: ConvergenceWarning: Liblinear failed to converge, increase the number of iterations.\n",
      "  \"the number of iterations.\", ConvergenceWarning)\n"
     ]
    },
    {
     "name": "stdout",
     "output_type": "stream",
     "text": [
      "iter = 21\n"
     ]
    },
    {
     "name": "stderr",
     "output_type": "stream",
     "text": [
      "/usr/local/lib64/python3.7/site-packages/sklearn/svm/base.py:922: ConvergenceWarning: Liblinear failed to converge, increase the number of iterations.\n",
      "  \"the number of iterations.\", ConvergenceWarning)\n"
     ]
    },
    {
     "name": "stdout",
     "output_type": "stream",
     "text": [
      "iter = 22\n"
     ]
    },
    {
     "name": "stderr",
     "output_type": "stream",
     "text": [
      "/usr/local/lib64/python3.7/site-packages/sklearn/svm/base.py:922: ConvergenceWarning: Liblinear failed to converge, increase the number of iterations.\n",
      "  \"the number of iterations.\", ConvergenceWarning)\n"
     ]
    },
    {
     "name": "stdout",
     "output_type": "stream",
     "text": [
      "iter = 23\n"
     ]
    },
    {
     "name": "stderr",
     "output_type": "stream",
     "text": [
      "/usr/local/lib64/python3.7/site-packages/sklearn/svm/base.py:922: ConvergenceWarning: Liblinear failed to converge, increase the number of iterations.\n",
      "  \"the number of iterations.\", ConvergenceWarning)\n"
     ]
    },
    {
     "name": "stdout",
     "output_type": "stream",
     "text": [
      "iter = 24\n",
      "iter = 25\n",
      "iter = 26\n",
      "iter = 27\n",
      "iter = 28\n",
      "iter = 29\n"
     ]
    },
    {
     "data": {
      "image/png": "[encoded data removed]",
      "text/plain": [
       "<Figure size 432x288 with 1 Axes>"
      ]
     },
     "metadata": {
      "needs_background": "light"
     },
     "output_type": "display_data"
    },
    {
     "data": {
      "image/png": "[encoded data removed]",
      "text/plain": [
       "<Figure size 432x288 with 1 Axes>"
      ]
     },
     "metadata": {
      "needs_background": "light"
     },
     "output_type": "display_data"
    },
    {
     "data": {
      "image/png": "[encoded data removed]",
      "text/plain": [
       "<Figure size 432x288 with 1 Axes>"
      ]
     },
     "metadata": {
      "needs_background": "light"
     },
     "output_type": "display_data"
    }
   ],
   "source": [
    "max_iter = 30 \n",
    "\n",
    "accuracy_array_train = np.zeros(max_iter)\n",
    "accuracy_array_test = np.zeros(max_iter)\n",
    "logistic_loss_train = np.zeros(max_iter)\n",
    "norm_grad_loss_train = np.zeros(max_iter)\n",
    "\n",
    "for i in range(max_iter):\n",
    "    print(\"iter = {0}\".format(i))\n",
    "    log_reg = LogisticRegression(solver = 'liblinear', tol = 1e-10, C = 100000000, max_iter = i)\n",
    "    log_reg.fit(train_object, train_ans)\n",
    "    \n",
    "    coef = log_reg.coef_\n",
    "    bias = log_reg.intercept_\n",
    "    coef = np.append(coef, bias)\n",
    "\n",
    "    train_args = (train_extended_object, train_ans)\n",
    "    logistic_loss_train[i] = logistic_loss(coef, *train_args)\n",
    "    norm_grad_loss_train[i] = linalg.norm(grad_logistic_loss(coef, *train_args))\n",
    "    \n",
    "    train_ans_predict = log_reg.predict(train_object)\n",
    "    accuracy_train = accuracy_score(train_ans, train_ans_predict)\n",
    "    accuracy_array_train[i] = accuracy_train\n",
    "\n",
    "    test_ans_predict = log_reg.predict(test_object)\n",
    "    accuracy_test = accuracy_score(test_ans, test_ans_predict)\n",
    "    accuracy_array_test[i] = accuracy_test\n",
    "\n",
    "fig = plt.figure()\n",
    "plt.xlabel(r'$Iter$') \n",
    "plt.ylabel(r'$Accuracy$') \n",
    "plt.title(r'$Logistic \\; Regression$') \n",
    "plt.plot([i for i in range(max_iter)], accuracy_array_train, label = 'train')\n",
    "plt.plot([i for i in range(max_iter)], accuracy_array_test, label = 'test')\n",
    "plt.legend()\n",
    "plt.grid(True) \n",
    "fig.savefig('accuracy_logistic_regr.pdf')\n",
    "\n",
    "fig = plt.figure()\n",
    "plt.xlabel(r'$Iter$') \n",
    "plt.ylabel(r'$Logistic \\; loss$') \n",
    "plt.title(r'$Logistic \\; loss$') \n",
    "plt.plot([i for i in range(max_iter)], logistic_loss_train, label = 'LogRegr')\n",
    "plt.legend()\n",
    "plt.grid(True) \n",
    "fig.savefig('logistic_loss_log_regr.pdf')\n",
    "plt.show()\n",
    "\n",
    "fig = plt.figure()\n",
    "plt.xlabel(r'$Iter$') \n",
    "plt.ylabel(r'$||\\nabla f_{loss}||_2$') \n",
    "plt.title(r'$||\\nabla f_{loss}||_2$') \n",
    "plt.plot([i for i in range(max_iter)], norm_grad_loss_train, label = 'LogRegr')\n",
    "plt.legend()\n",
    "plt.grid(True) \n",
    "fig.savefig('grad_log_loss_log_regr.pdf')\n",
    "plt.show()"
   ]
  },
  {
   "cell_type": "markdown",
   "metadata": {},
   "source": [
    "# БГМ "
   ]
  },
  {
   "cell_type": "code",
   "execution_count": 232,
   "metadata": {},
   "outputs": [
    {
     "name": "stdout",
     "output_type": "stream",
     "text": [
      "iter = 0\n",
      "iter = 1\n",
      "iter = 2\n",
      "iter = 3\n",
      "iter = 4\n",
      "iter = 5\n",
      "iter = 6\n",
      "iter = 7\n",
      "iter = 8\n",
      "iter = 9\n",
      "iter = 10\n",
      "iter = 11\n",
      "iter = 12\n",
      "iter = 13\n",
      "iter = 14\n",
      "iter = 15\n",
      "iter = 16\n",
      "iter = 17\n",
      "iter = 18\n",
      "iter = 19\n",
      "iter = 20\n",
      "iter = 21\n",
      "iter = 22\n",
      "iter = 23\n",
      "iter = 24\n",
      "iter = 25\n",
      "iter = 26\n",
      "iter = 27\n",
      "iter = 28\n",
      "iter = 29\n"
     ]
    },
    {
     "data": {
      "image/png": "[encoded data removed]",
      "text/plain": [
       "<Figure size 432x288 with 1 Axes>"
      ]
     },
     "metadata": {
      "needs_background": "light"
     },
     "output_type": "display_data"
    },
    {
     "data": {
      "image/png": "[encoded data removed]",
      "text/plain": [
       "<Figure size 432x288 with 1 Axes>"
      ]
     },
     "metadata": {
      "needs_background": "light"
     },
     "output_type": "display_data"
    }
   ],
   "source": [
    "import matplotlib.pyplot as plt\n",
    "import copy\n",
    "import time\n",
    "%matplotlib inline\n",
    "\n",
    "def FGM_iter(NumIter, x0, f, gradf, *args):\n",
    "    X, y, L = args\n",
    "    k = 0\n",
    "    v_k = copy.deepcopy(x0)\n",
    "    x_k = copy.deepcopy(x0)\n",
    "    A_k = 0\n",
    "    farr = np.zeros(NumIter + 1)\n",
    "    fgradarr = np.zeros(NumIter + 1)\n",
    "    farr[0] = f(x_k, *(X, y))\n",
    "    fgradarr[0] = linalg.norm(gradf(x_k, *(X, y)))\n",
    "    while (k < NumIter):\n",
    "        print(\"iter = {0}\".format(k))\n",
    "        a_k = (1 + (1 + 2 * L * A_k)**0.5) / L \n",
    "        y_k = (A_k*x_k + a_k*v_k)/(A_k + a_k)\n",
    "        x_k = y_k - 1/L*gradf(y_k, *(X, y))\n",
    "        gradf_xk = gradf(x_k, *(X, y))\n",
    "        v_k = v_k - a_k * gradf_xk\n",
    "        A_k = A_k + a_k\n",
    "        k += 1\n",
    "        farr[k] = f(x_k, *(X, y))\n",
    "        fgradarr[k] = linalg.norm(gradf_xk)\n",
    "    return x_k, farr, fgradarr\n",
    "\n",
    "features_extended = features + 1\n",
    "w0 = np.zeros(features_extended)\n",
    "NumIter = 30\n",
    "\n",
    "train_const_feature = np.array([np.array([1]) for i in range(train_object_size)]) #добавим фиктивный признак\n",
    "train_extended_object = copy.deepcopy(train_object)\n",
    "train_extended_object = np.column_stack((train_extended_object, train_const_feature[:, 0]))\n",
    "L = L2_upper_bound(train_extended_object)\n",
    "\n",
    "fig = plt.figure()\n",
    "plt.xlabel(r'$Iter$') \n",
    "plt.ylabel(r'$Logistic \\; loss$') \n",
    "plt.title(r'$Logistic \\; loss$') \n",
    "args = (train_extended_object, train_ans, L)\n",
    "xans_fgm, farr_fgm, fgradarr_fgm = FGM_iter(NumIter, w0, logistic_loss, grad_logistic_loss, *args)\n",
    "plt.plot([i for i in range(NumIter + 1)], farr_fgm, label = 'FGM')\n",
    "plt.legend()\n",
    "plt.grid(True) \n",
    "fig.savefig('log_loss_FGM_f_iter.pdf')\n",
    "plt.show()\n",
    "\n",
    "fig = plt.figure()\n",
    "plt.xlabel(r'$Iter$') \n",
    "plt.ylabel(r'$||\\nabla f_{loss}||_2$') \n",
    "plt.title(r'$||\\nabla f_{loss}||_2$') \n",
    "plt.plot([i for i in range(NumIter + 1)], fgradarr_fgm, label = 'FGM')\n",
    "plt.legend()\n",
    "plt.grid(True) \n",
    "fig.savefig('log_loss_FGM_f_iter.pdf')\n",
    "plt.show()"
   ]
  },
  {
   "cell_type": "code",
   "execution_count": 268,
   "metadata": {},
   "outputs": [
    {
     "name": "stdout",
     "output_type": "stream",
     "text": [
      "iter = 0\n",
      "iter = 1\n",
      "iter = 2\n",
      "iter = 3\n",
      "iter = 4\n",
      "iter = 5\n",
      "iter = 6\n",
      "iter = 7\n",
      "iter = 8\n",
      "iter = 9\n",
      "iter = 10\n",
      "iter = 11\n",
      "iter = 12\n",
      "iter = 13\n",
      "iter = 14\n",
      "iter = 15\n",
      "iter = 16\n",
      "iter = 17\n",
      "iter = 18\n",
      "iter = 19\n",
      "iter = 20\n",
      "iter = 21\n",
      "iter = 22\n",
      "iter = 23\n",
      "iter = 24\n",
      "iter = 25\n",
      "iter = 26\n",
      "iter = 27\n",
      "iter = 28\n",
      "iter = 29\n"
     ]
    },
    {
     "data": {
      "image/png": "[encoded data removed]",
      "text/plain": [
       "<Figure size 432x288 with 1 Axes>"
      ]
     },
     "metadata": {
      "needs_background": "light"
     },
     "output_type": "display_data"
    }
   ],
   "source": [
    "def linear_classify(object_predict, coef):\n",
    "    if (np.dot(object_predict, coef) > 0):\n",
    "        return 1\n",
    "    else:\n",
    "        return -1\n",
    "    \n",
    "def linear_predict(test_objects, coef):\n",
    "    return np.array([linear_classify(test_objects[i], coef) for i in range(test_objects.shape[0])])\n",
    "    \n",
    "def history_FGM_iter(NumIter, x0, f, gradf, *args):\n",
    "    X, y, L = args\n",
    "    k = 0\n",
    "    v_k = copy.deepcopy(x0)\n",
    "    x_k = copy.deepcopy(x0)\n",
    "    A_k = 0\n",
    "    history = np.zeros((NumIter + 1, x0.shape[0]))\n",
    "    history[0] = x0\n",
    "    while (k < NumIter):\n",
    "        print(\"iter = {0}\".format(k))\n",
    "        a_k = (1 + (1 + 2 * L * A_k)**0.5) / L \n",
    "        y_k = (A_k*x_k + a_k*v_k)/(A_k + a_k)\n",
    "        x_k = y_k - 1/L*gradf(y_k, *(X, y))\n",
    "        gradf_xk = gradf(x_k, *(X, y))\n",
    "        v_k = v_k - a_k * gradf_xk\n",
    "        A_k = A_k + a_k\n",
    "        k += 1\n",
    "        history[k] = x_k\n",
    "    return history\n",
    "\n",
    "features_extended = features + 1\n",
    "w0 = np.zeros(features_extended)\n",
    "NumIter = 30\n",
    "accuracy_array_train = np.zeros(NumIter + 1)\n",
    "accuracy_array_test = np.zeros(NumIter + 1)\n",
    "\n",
    "train_const_feature = np.array([np.array([1]) for i in range(train_object_size)]) #добавим фиктивный признак\n",
    "train_extended_object = copy.deepcopy(train_object)\n",
    "train_extended_object = np.column_stack((train_extended_object, train_const_feature[:, 0]))\n",
    "L = L2_upper_bound(train_extended_object)\n",
    "\n",
    "args = (train_extended_object, train_ans, L)\n",
    "history_fgm = history_FGM_iter(NumIter, w0, logistic_loss, grad_logistic_loss, *args)\n",
    "\n",
    "for i in range(NumIter + 1):\n",
    "    train_ans_predict = linear_predict(train_extended_object, history_fgm[i])\n",
    "    accuracy_train = accuracy_score(train_ans, train_ans_predict)\n",
    "    accuracy_array_train[i] = accuracy_train\n",
    "\n",
    "    test_ans_predict = linear_predict(test_extended_object, history_fgm[i])\n",
    "    accuracy_test = accuracy_score(test_ans, test_ans_predict)\n",
    "    accuracy_array_test[i] = accuracy_test\n",
    "    \n",
    "fig = plt.figure()\n",
    "plt.xlabel(r'$Iter$') \n",
    "plt.ylabel(r'$Accuracy$') \n",
    "plt.title(r'$FGM$') \n",
    "plt.plot([i for i in range(NumIter + 1)], accuracy_array_train, label = 'train')\n",
    "plt.plot([i for i in range(NumIter + 1)], accuracy_array_test, label = 'test')\n",
    "plt.legend()\n",
    "plt.grid(True) \n",
    "fig.savefig('accuracy_FGM.pdf')"
   ]
  },
  {
   "cell_type": "markdown",
   "metadata": {},
   "source": [
    "# Метод Нестерова 2-го порядка + сопряжённые градиенты"
   ]
  },
  {
   "cell_type": "code",
   "execution_count": 251,
   "metadata": {},
   "outputs": [
    {
     "name": "stdout",
     "output_type": "stream",
     "text": [
      "iter = 0\n",
      "Warning: Desired error not necessarily achieved due to precision loss.\n",
      "         Current function value: -1666.176231\n",
      "         Iterations: 12\n",
      "         Function evaluations: 86\n",
      "         Gradient evaluations: 74\n",
      "iter = 1\n",
      "Optimization terminated successfully.\n",
      "         Current function value: -751.832851\n",
      "         Iterations: 14\n",
      "         Function evaluations: 29\n",
      "         Gradient evaluations: 29\n",
      "iter = 2\n",
      "Optimization terminated successfully.\n",
      "         Current function value: -482.493723\n",
      "         Iterations: 14\n",
      "         Function evaluations: 29\n",
      "         Gradient evaluations: 29\n",
      "iter = 3\n",
      "Optimization terminated successfully.\n",
      "         Current function value: -341.057165\n",
      "         Iterations: 13\n",
      "         Function evaluations: 28\n",
      "         Gradient evaluations: 28\n",
      "iter = 4\n",
      "Optimization terminated successfully.\n",
      "         Current function value: -246.160069\n",
      "         Iterations: 13\n",
      "         Function evaluations: 28\n",
      "         Gradient evaluations: 28\n",
      "iter = 5\n",
      "Optimization terminated successfully.\n",
      "         Current function value: -180.330471\n",
      "         Iterations: 12\n",
      "         Function evaluations: 26\n",
      "         Gradient evaluations: 26\n",
      "iter = 6\n",
      "Optimization terminated successfully.\n",
      "         Current function value: -135.057641\n",
      "         Iterations: 14\n",
      "         Function evaluations: 30\n",
      "         Gradient evaluations: 30\n",
      "iter = 7\n",
      "Optimization terminated successfully.\n",
      "         Current function value: -104.216176\n",
      "         Iterations: 13\n",
      "         Function evaluations: 28\n",
      "         Gradient evaluations: 28\n",
      "iter = 8\n",
      "Optimization terminated successfully.\n",
      "         Current function value: -83.247488\n",
      "         Iterations: 13\n",
      "         Function evaluations: 28\n",
      "         Gradient evaluations: 28\n",
      "iter = 9\n",
      "Optimization terminated successfully.\n",
      "         Current function value: -68.858946\n",
      "         Iterations: 13\n",
      "         Function evaluations: 28\n",
      "         Gradient evaluations: 28\n",
      "iter = 10\n",
      "Optimization terminated successfully.\n",
      "         Current function value: -58.762119\n",
      "         Iterations: 13\n",
      "         Function evaluations: 28\n",
      "         Gradient evaluations: 28\n",
      "iter = 11\n",
      "Optimization terminated successfully.\n",
      "         Current function value: -51.428610\n",
      "         Iterations: 12\n",
      "         Function evaluations: 26\n",
      "         Gradient evaluations: 26\n",
      "iter = 12\n",
      "Optimization terminated successfully.\n",
      "         Current function value: -45.873650\n",
      "         Iterations: 13\n",
      "         Function evaluations: 28\n",
      "         Gradient evaluations: 28\n",
      "iter = 13\n",
      "Optimization terminated successfully.\n",
      "         Current function value: -41.479843\n",
      "         Iterations: 12\n",
      "         Function evaluations: 26\n",
      "         Gradient evaluations: 26\n",
      "iter = 14\n",
      "Optimization terminated successfully.\n",
      "         Current function value: -37.866312\n",
      "         Iterations: 11\n",
      "         Function evaluations: 23\n",
      "         Gradient evaluations: 23\n",
      "iter = 15\n",
      "Optimization terminated successfully.\n",
      "         Current function value: -34.799007\n",
      "         Iterations: 12\n",
      "         Function evaluations: 26\n",
      "         Gradient evaluations: 26\n",
      "iter = 16\n",
      "Optimization terminated successfully.\n",
      "         Current function value: -32.132818\n",
      "         Iterations: 13\n",
      "         Function evaluations: 28\n",
      "         Gradient evaluations: 28\n",
      "iter = 17\n",
      "Optimization terminated successfully.\n",
      "         Current function value: -29.775755\n",
      "         Iterations: 10\n",
      "         Function evaluations: 23\n",
      "         Gradient evaluations: 23\n",
      "iter = 18\n",
      "Optimization terminated successfully.\n",
      "         Current function value: -27.667415\n",
      "         Iterations: 10\n",
      "         Function evaluations: 23\n",
      "         Gradient evaluations: 23\n",
      "iter = 19\n",
      "Optimization terminated successfully.\n",
      "         Current function value: -25.766277\n",
      "         Iterations: 9\n",
      "         Function evaluations: 21\n",
      "         Gradient evaluations: 21\n",
      "iter = 20\n",
      "Optimization terminated successfully.\n",
      "         Current function value: -24.042302\n",
      "         Iterations: 8\n",
      "         Function evaluations: 19\n",
      "         Gradient evaluations: 19\n",
      "iter = 21\n",
      "Optimization terminated successfully.\n",
      "         Current function value: -22.472637\n",
      "         Iterations: 8\n",
      "         Function evaluations: 19\n",
      "         Gradient evaluations: 19\n",
      "iter = 22\n",
      "Optimization terminated successfully.\n",
      "         Current function value: -21.039123\n",
      "         Iterations: 9\n",
      "         Function evaluations: 21\n",
      "         Gradient evaluations: 21\n",
      "iter = 23\n",
      "Optimization terminated successfully.\n",
      "         Current function value: -19.726823\n",
      "         Iterations: 8\n",
      "         Function evaluations: 19\n",
      "         Gradient evaluations: 19\n",
      "iter = 24\n",
      "Optimization terminated successfully.\n",
      "         Current function value: -18.523131\n",
      "         Iterations: 8\n",
      "         Function evaluations: 19\n",
      "         Gradient evaluations: 19\n",
      "iter = 25\n",
      "Optimization terminated successfully.\n",
      "         Current function value: -17.417215\n",
      "         Iterations: 8\n",
      "         Function evaluations: 19\n",
      "         Gradient evaluations: 19\n",
      "iter = 26\n",
      "Optimization terminated successfully.\n",
      "         Current function value: -16.399643\n",
      "         Iterations: 8\n",
      "         Function evaluations: 19\n",
      "         Gradient evaluations: 19\n",
      "iter = 27\n",
      "Optimization terminated successfully.\n",
      "         Current function value: -15.462128\n",
      "         Iterations: 8\n",
      "         Function evaluations: 19\n",
      "         Gradient evaluations: 19\n",
      "iter = 28\n",
      "Optimization terminated successfully.\n",
      "         Current function value: -14.597331\n",
      "         Iterations: 8\n",
      "         Function evaluations: 19\n",
      "         Gradient evaluations: 19\n",
      "iter = 29\n",
      "Optimization terminated successfully.\n",
      "         Current function value: -13.798723\n",
      "         Iterations: 8\n",
      "         Function evaluations: 19\n",
      "         Gradient evaluations: 19\n"
     ]
    },
    {
     "data": {
      "image/png": "[encoded data removed]",
      "text/plain": [
       "<Figure size 432x288 with 1 Axes>"
      ]
     },
     "metadata": {
      "needs_background": "light"
     },
     "output_type": "display_data"
    },
    {
     "data": {
      "image/png": "[encoded data removed]",
      "text/plain": [
       "<Figure size 432x288 with 1 Axes>"
      ]
     },
     "metadata": {
      "needs_background": "light"
     },
     "output_type": "display_data"
    }
   ],
   "source": [
    "from scipy import optimize\n",
    "\n",
    "def Nesterov_approx_2_f(y, *args):\n",
    "    x, grad_f, hessian_f, L = args\n",
    "    return (L/3*linalg.norm(y - x)**3 + np.dot(grad_f, y - x) + \n",
    "                                1/2*np.dot(np.dot(hessian_f, y - x), y - x))\n",
    "\n",
    "def Nesterov_approx_2_gradf(y, *args):\n",
    "    x, grad_f, hessian_f, L = args\n",
    "    return (L*linalg.norm(y - x)*(y - x) + grad_f + \n",
    "                                                np.dot(hessian_f, y - x))\n",
    "\n",
    "def Nesterov_tensor_2_step_cg(x_start_step, NumIterCG, *args):\n",
    "    grad_f, hessian_f, args_for_x, L = args\n",
    "    grad_f_current = grad_f(x_start_step, *args_for_x)\n",
    "    hessian_f_current = hessian_f(x_start_step, *args_for_x)\n",
    "    args_for_step = (x_start_step, grad_f_current, hessian_f_current, L)\n",
    "    xopt = optimize.fmin_cg(Nesterov_approx_2_f, x_start_step, fprime=Nesterov_approx_2_gradf,\n",
    "                                                            args=args_for_step, maxiter = NumIterCG)\n",
    "    return xopt\n",
    "\n",
    "def CG_Nesterov_tensor_2_solver(x0, NumIter, NumIterCG, f, grad_f, hessian_f, L, *args):\n",
    "    X, y = args\n",
    "    k = 0\n",
    "    x_k = copy.deepcopy(x0)\n",
    "    farr = np.zeros(NumIter + 1)\n",
    "    fgradarr = np.zeros(NumIter + 1)\n",
    "    farr[0] = f(x_k, *(X, y))\n",
    "    fgradarr[0] = linalg.norm(grad_f(x_k, *(X, y)))\n",
    "    while (k < NumIter):\n",
    "        print(\"iter = {0}\".format(k))\n",
    "        x_k = Nesterov_tensor_2_step_cg(x_k, NumIterCG, *(grad_f, hessian_f, (X, y), L))\n",
    "        gradf_xk = grad_f(x_k, *(X, y))\n",
    "        k += 1\n",
    "        farr[k] = f(x_k, *(X, y))\n",
    "        fgradarr[k] = linalg.norm(gradf_xk)\n",
    "    return x_k, farr, fgradarr\n",
    "    \n",
    "train_const_feature = np.array([np.array([1]) for i in range(train_object_size)]) #добавим фиктивный признак\n",
    "train_extended_object = copy.deepcopy(train_object)\n",
    "train_extended_object = np.column_stack((train_extended_object, train_const_feature[:, 0]))\n",
    "\n",
    "features_num = features + 1\n",
    "w0 = np.zeros(features_num)\n",
    "NumIter = 30\n",
    "NumIterCG = 100\n",
    "L = L3_upper_bound(train_extended_object)\n",
    "\n",
    "args = (train_extended_object, train_ans)\n",
    "xans_nesterov_t2, farr_nesterov_t2, fgradarr_nesterov_t2 = CG_Nesterov_tensor_2_solver(w0, NumIter, NumIterCG, \n",
    "                                        logistic_loss, grad_logistic_loss, hessian_logistic_loss,  L, *args)\n",
    "fig = plt.figure()\n",
    "plt.xlabel(r'$Iter$') \n",
    "plt.ylabel(r'$Logistic \\; loss$') \n",
    "plt.title(r'$Logistic \\; loss$') \n",
    "plt.plot([i for i in range(NumIter + 1)], farr_nesterov_t2, label = 'Nesterov tensor 2 + CG')\n",
    "plt.legend()\n",
    "plt.grid(True) \n",
    "fig.savefig('log_loss_Nesterov_tensor_2_CG_f_iter.pdf')\n",
    "plt.show()\n",
    "\n",
    "fig = plt.figure()\n",
    "plt.xlabel(r'$Iter$') \n",
    "plt.ylabel(r'$||\\nabla f_{loss}||_2$') \n",
    "plt.title(r'$||\\nabla f_{loss}||_2$') \n",
    "plt.plot([i for i in range(NumIter + 1)], fgradarr_nesterov_t2, label = 'Nesterov tensor 2 + CG')\n",
    "plt.legend()\n",
    "plt.grid(True) \n",
    "fig.savefig('log_loss_Nesterov_tensor_2_CG_f_iter.pdf')\n",
    "plt.show()"
   ]
  },
  {
   "cell_type": "code",
   "execution_count": 270,
   "metadata": {},
   "outputs": [
    {
     "name": "stdout",
     "output_type": "stream",
     "text": [
      "iter = 0\n",
      "Warning: Desired error not necessarily achieved due to precision loss.\n",
      "         Current function value: -1666.176231\n",
      "         Iterations: 12\n",
      "         Function evaluations: 86\n",
      "         Gradient evaluations: 74\n",
      "iter = 1\n",
      "Optimization terminated successfully.\n",
      "         Current function value: -751.832851\n",
      "         Iterations: 14\n",
      "         Function evaluations: 29\n",
      "         Gradient evaluations: 29\n",
      "iter = 2\n",
      "Optimization terminated successfully.\n",
      "         Current function value: -482.493723\n",
      "         Iterations: 14\n",
      "         Function evaluations: 29\n",
      "         Gradient evaluations: 29\n",
      "iter = 3\n",
      "Optimization terminated successfully.\n",
      "         Current function value: -341.057165\n",
      "         Iterations: 13\n",
      "         Function evaluations: 28\n",
      "         Gradient evaluations: 28\n",
      "iter = 4\n",
      "Optimization terminated successfully.\n",
      "         Current function value: -246.160069\n",
      "         Iterations: 13\n",
      "         Function evaluations: 28\n",
      "         Gradient evaluations: 28\n",
      "iter = 5\n",
      "Optimization terminated successfully.\n",
      "         Current function value: -180.330471\n",
      "         Iterations: 12\n",
      "         Function evaluations: 26\n",
      "         Gradient evaluations: 26\n",
      "iter = 6\n",
      "Optimization terminated successfully.\n",
      "         Current function value: -135.057641\n",
      "         Iterations: 14\n",
      "         Function evaluations: 30\n",
      "         Gradient evaluations: 30\n",
      "iter = 7\n",
      "Optimization terminated successfully.\n",
      "         Current function value: -104.216176\n",
      "         Iterations: 13\n",
      "         Function evaluations: 28\n",
      "         Gradient evaluations: 28\n",
      "iter = 8\n",
      "Optimization terminated successfully.\n",
      "         Current function value: -83.247488\n",
      "         Iterations: 13\n",
      "         Function evaluations: 28\n",
      "         Gradient evaluations: 28\n",
      "iter = 9\n",
      "Optimization terminated successfully.\n",
      "         Current function value: -68.858946\n",
      "         Iterations: 13\n",
      "         Function evaluations: 28\n",
      "         Gradient evaluations: 28\n",
      "iter = 10\n",
      "Optimization terminated successfully.\n",
      "         Current function value: -58.762119\n",
      "         Iterations: 13\n",
      "         Function evaluations: 28\n",
      "         Gradient evaluations: 28\n",
      "iter = 11\n",
      "Optimization terminated successfully.\n",
      "         Current function value: -51.428610\n",
      "         Iterations: 12\n",
      "         Function evaluations: 26\n",
      "         Gradient evaluations: 26\n",
      "iter = 12\n",
      "Optimization terminated successfully.\n",
      "         Current function value: -45.873650\n",
      "         Iterations: 13\n",
      "         Function evaluations: 28\n",
      "         Gradient evaluations: 28\n",
      "iter = 13\n",
      "Optimization terminated successfully.\n",
      "         Current function value: -41.479843\n",
      "         Iterations: 12\n",
      "         Function evaluations: 26\n",
      "         Gradient evaluations: 26\n",
      "iter = 14\n",
      "Optimization terminated successfully.\n",
      "         Current function value: -37.866312\n",
      "         Iterations: 11\n",
      "         Function evaluations: 23\n",
      "         Gradient evaluations: 23\n",
      "iter = 15\n",
      "Optimization terminated successfully.\n",
      "         Current function value: -34.799007\n",
      "         Iterations: 12\n",
      "         Function evaluations: 26\n",
      "         Gradient evaluations: 26\n",
      "iter = 16\n",
      "Optimization terminated successfully.\n",
      "         Current function value: -32.132818\n",
      "         Iterations: 13\n",
      "         Function evaluations: 28\n",
      "         Gradient evaluations: 28\n",
      "iter = 17\n",
      "Optimization terminated successfully.\n",
      "         Current function value: -29.775755\n",
      "         Iterations: 10\n",
      "         Function evaluations: 23\n",
      "         Gradient evaluations: 23\n",
      "iter = 18\n",
      "Optimization terminated successfully.\n",
      "         Current function value: -27.667415\n",
      "         Iterations: 10\n",
      "         Function evaluations: 23\n",
      "         Gradient evaluations: 23\n",
      "iter = 19\n",
      "Optimization terminated successfully.\n",
      "         Current function value: -25.766277\n",
      "         Iterations: 9\n",
      "         Function evaluations: 21\n",
      "         Gradient evaluations: 21\n",
      "iter = 20\n",
      "Optimization terminated successfully.\n",
      "         Current function value: -24.042302\n",
      "         Iterations: 8\n",
      "         Function evaluations: 19\n",
      "         Gradient evaluations: 19\n",
      "iter = 21\n",
      "Optimization terminated successfully.\n",
      "         Current function value: -22.472637\n",
      "         Iterations: 8\n",
      "         Function evaluations: 19\n",
      "         Gradient evaluations: 19\n",
      "iter = 22\n",
      "Optimization terminated successfully.\n",
      "         Current function value: -21.039123\n",
      "         Iterations: 9\n",
      "         Function evaluations: 21\n",
      "         Gradient evaluations: 21\n",
      "iter = 23\n",
      "Optimization terminated successfully.\n",
      "         Current function value: -19.726823\n",
      "         Iterations: 8\n",
      "         Function evaluations: 19\n",
      "         Gradient evaluations: 19\n",
      "iter = 24\n",
      "Optimization terminated successfully.\n",
      "         Current function value: -18.523131\n",
      "         Iterations: 8\n",
      "         Function evaluations: 19\n",
      "         Gradient evaluations: 19\n",
      "iter = 25\n",
      "Optimization terminated successfully.\n",
      "         Current function value: -17.417215\n",
      "         Iterations: 8\n",
      "         Function evaluations: 19\n",
      "         Gradient evaluations: 19\n",
      "iter = 26\n",
      "Optimization terminated successfully.\n",
      "         Current function value: -16.399643\n",
      "         Iterations: 8\n",
      "         Function evaluations: 19\n",
      "         Gradient evaluations: 19\n",
      "iter = 27\n",
      "Optimization terminated successfully.\n",
      "         Current function value: -15.462128\n",
      "         Iterations: 8\n",
      "         Function evaluations: 19\n",
      "         Gradient evaluations: 19\n",
      "iter = 28\n",
      "Optimization terminated successfully.\n",
      "         Current function value: -14.597331\n",
      "         Iterations: 8\n",
      "         Function evaluations: 19\n",
      "         Gradient evaluations: 19\n",
      "iter = 29\n",
      "Optimization terminated successfully.\n",
      "         Current function value: -13.798723\n",
      "         Iterations: 8\n",
      "         Function evaluations: 19\n",
      "         Gradient evaluations: 19\n"
     ]
    },
    {
     "data": {
      "image/png": "[encoded data removed]",
      "text/plain": [
       "<Figure size 432x288 with 1 Axes>"
      ]
     },
     "metadata": {
      "needs_background": "light"
     },
     "output_type": "display_data"
    }
   ],
   "source": [
    "def hist_CG_Nesterov_tensor_2_solver(x0, NumIter, NumIterCG, f, grad_f, hessian_f, L, *args):\n",
    "    X, y = args\n",
    "    k = 0\n",
    "    x_k = copy.deepcopy(x0)\n",
    "    history = []\n",
    "    history.append(x_k)\n",
    "    while (k < NumIter):\n",
    "        print(\"iter = {0}\".format(k))\n",
    "        x_k = Nesterov_tensor_2_step_cg(x_k, NumIterCG, *(grad_f, hessian_f, (X, y), L))\n",
    "        k += 1\n",
    "        history.append(x_k)\n",
    "    return history\n",
    "\n",
    "features_extended = features + 1\n",
    "w0 = np.zeros(features_extended)\n",
    "NumIter = 30\n",
    "accuracy_array_train = np.zeros(NumIter + 1)\n",
    "accuracy_array_test = np.zeros(NumIter + 1)\n",
    "\n",
    "train_const_feature = np.array([np.array([1]) for i in range(train_object_size)]) #добавим фиктивный признак\n",
    "train_extended_object = copy.deepcopy(train_object)\n",
    "train_extended_object = np.column_stack((train_extended_object, train_const_feature[:, 0]))\n",
    "L = L3_upper_bound(train_extended_object)    \n",
    "\n",
    "args = (train_extended_object, train_ans)\n",
    "history_CG_Nesterov_tensor_2 = hist_CG_Nesterov_tensor_2_solver(w0, NumIter, NumIterCG, \n",
    "                                        logistic_loss, grad_logistic_loss, hessian_logistic_loss,  L, *args)\n",
    "\n",
    "for i in range(NumIter + 1):\n",
    "    train_ans_predict = linear_predict(train_extended_object, history_CG_Nesterov_tensor_2[i])\n",
    "    accuracy_train = accuracy_score(train_ans, train_ans_predict)\n",
    "    accuracy_array_train[i] = accuracy_train\n",
    "\n",
    "    test_ans_predict = linear_predict(test_extended_object, history_CG_Nesterov_tensor_2[i])\n",
    "    accuracy_test = accuracy_score(test_ans, test_ans_predict)\n",
    "    accuracy_array_test[i] = accuracy_test\n",
    "    \n",
    "fig = plt.figure()\n",
    "plt.xlabel(r'$Iter$') \n",
    "plt.ylabel(r'$Accuracy$') \n",
    "plt.title(r'$Nesterov \\; tensor \\; 2 + CG$') \n",
    "plt.plot([i for i in range(NumIter + 1)], accuracy_array_train, label = 'train')\n",
    "plt.plot([i for i in range(NumIter + 1)], accuracy_array_test, label = 'test')\n",
    "plt.legend()\n",
    "plt.grid(True) \n",
    "fig.savefig('accuracy_CG_Nesterov_tensor_2.pdf')"
   ]
  },
  {
   "cell_type": "markdown",
   "metadata": {},
   "source": [
    "# Метод Нестерова 2-го порядка + LBFGS"
   ]
  },
  {
   "cell_type": "code",
   "execution_count": 293,
   "metadata": {},
   "outputs": [
    {
     "name": "stdout",
     "output_type": "stream",
     "text": [
      "iter = 0\n",
      "iter = 1\n",
      "iter = 2\n",
      "iter = 3\n",
      "iter = 4\n",
      "iter = 5\n",
      "iter = 6\n",
      "iter = 7\n",
      "iter = 8\n",
      "iter = 9\n",
      "iter = 10\n",
      "iter = 11\n",
      "iter = 12\n",
      "iter = 13\n",
      "iter = 14\n",
      "iter = 15\n",
      "iter = 16\n",
      "iter = 17\n",
      "iter = 18\n",
      "iter = 19\n",
      "iter = 20\n",
      "iter = 21\n",
      "iter = 22\n",
      "iter = 23\n",
      "iter = 24\n",
      "iter = 25\n",
      "iter = 26\n",
      "iter = 27\n",
      "iter = 28\n",
      "iter = 29\n"
     ]
    },
    {
     "data": {
      "image/png": "[encoded data removed]",
      "text/plain": [
       "<Figure size 432x288 with 1 Axes>"
      ]
     },
     "metadata": {
      "needs_background": "light"
     },
     "output_type": "display_data"
    },
    {
     "data": {
      "image/png": "[encoded data removed]",
      "text/plain": [
       "<Figure size 432x288 with 1 Axes>"
      ]
     },
     "metadata": {
      "needs_background": "light"
     },
     "output_type": "display_data"
    }
   ],
   "source": [
    "from scipy import optimize\n",
    "\n",
    "def Nesterov_approx_2_f(y, *args):\n",
    "    x, grad_f, hessian_f, L = args\n",
    "    return (L/3*linalg.norm(y - x)**3 + np.dot(grad_f, y - x) + \n",
    "                                1/2*np.dot(np.dot(hessian_f, y - x), y - x))\n",
    "\n",
    "def Nesterov_approx_2_gradf(y, *args):\n",
    "    x, grad_f, hessian_f, L = args\n",
    "    return (L*linalg.norm(y - x)*(y - x) + grad_f + \n",
    "                                                np.dot(hessian_f, y - x))\n",
    "\n",
    "def Nesterov_tensor_2_step_lbfgs(x_start_step, NumIterLBFGS, *args):\n",
    "    grad_f, hessian_f, args_for_x, L = args\n",
    "    grad_f_current = grad_f(x_start_step, *args_for_x)\n",
    "    hessian_f_current = hessian_f(x_start_step, *args_for_x)\n",
    "    args_for_step = (x_start_step, grad_f_current, hessian_f_current, L)\n",
    "    xopt = optimize.fmin_l_bfgs_b(Nesterov_approx_2_f, x_start_step, fprime=Nesterov_approx_2_gradf,\n",
    "                                                                  args=args_for_step, maxiter = NumIterLBFGS)\n",
    "    return xopt[0]\n",
    "\n",
    "def LBFGS_Nesterov_tensor_2_solver(x0, NumIter, NumIterLBFGS, f, grad_f, hessian_f, L, *args):\n",
    "    X, y = args\n",
    "    k = 0\n",
    "    x_k = copy.deepcopy(x0)\n",
    "    farr = np.zeros(NumIter + 1)\n",
    "    fgradarr = np.zeros(NumIter + 1)\n",
    "    farr[0] = f(x_k, *(X, y))\n",
    "    fgradarr[0] = linalg.norm(grad_f(x_k, *(X, y)))\n",
    "    while (k < NumIter):\n",
    "        print(\"iter = {0}\".format(k))\n",
    "        x_k = Nesterov_tensor_2_step_lbfgs(x_k, NumIterLBFGS, *(grad_f, hessian_f, (X, y), L))\n",
    "        gradf_xk = grad_f(x_k, *(X, y))\n",
    "        k += 1\n",
    "        farr[k] = f(x_k, *(X, y))\n",
    "        fgradarr[k] = linalg.norm(gradf_xk)\n",
    "    return x_k, farr, fgradarr\n",
    "    \n",
    "train_const_feature = np.array([np.array([1]) for i in range(train_object_size)]) #добавим фиктивный признак\n",
    "train_extended_object = copy.deepcopy(train_object)\n",
    "train_extended_object = np.column_stack((train_extended_object, train_const_feature[:, 0]))\n",
    "\n",
    "features_num = features + 1\n",
    "w0 = np.zeros(features_num)\n",
    "NumIter = 30\n",
    "NumIterLBFGS = 100\n",
    "L = L3_upper_bound(train_extended_object)\n",
    "\n",
    "args = (train_extended_object, train_ans)\n",
    "xans_nesterov_t2, farr_nesterov_t2, fgradarr_nesterov_t2 = LBFGS_Nesterov_tensor_2_solver(w0, NumIter, NumIterLBFGS, \n",
    "                                        logistic_loss, grad_logistic_loss, hessian_logistic_loss,  L, *args)\n",
    "fig = plt.figure()\n",
    "plt.xlabel(r'$Iter$') \n",
    "plt.ylabel(r'$Logistic \\; loss$') \n",
    "plt.title(r'$Logistic \\; loss$') \n",
    "plt.plot([i for i in range(NumIter + 1)], farr_nesterov_t2, label = 'Nesterov tensor 2 + LBFGS')\n",
    "plt.legend()\n",
    "plt.grid(True) \n",
    "fig.savefig('log_loss_Nesterov_tensor_2_LBFGS_f_iter.pdf')\n",
    "plt.show()\n",
    "\n",
    "fig = plt.figure()\n",
    "plt.xlabel(r'$Iter$') \n",
    "plt.ylabel(r'$||\\nabla f_{loss}||_2$') \n",
    "plt.title(r'$||\\nabla f_{loss}||_2$') \n",
    "plt.plot([i for i in range(NumIter + 1)], fgradarr_nesterov_t2, label = 'Nesterov tensor 2 + LBFGS')\n",
    "plt.legend()\n",
    "plt.grid(True) \n",
    "fig.savefig('log_loss_Nesterov_tensor_2_LBFGS_f_iter.pdf')\n",
    "plt.show()"
   ]
  },
  {
   "cell_type": "code",
   "execution_count": 294,
   "metadata": {},
   "outputs": [
    {
     "name": "stdout",
     "output_type": "stream",
     "text": [
      "iter = 0\n",
      "iter = 1\n",
      "iter = 2\n",
      "iter = 3\n",
      "iter = 4\n",
      "iter = 5\n",
      "iter = 6\n",
      "iter = 7\n",
      "iter = 8\n",
      "iter = 9\n",
      "iter = 10\n",
      "iter = 11\n",
      "iter = 12\n",
      "iter = 13\n",
      "iter = 14\n",
      "iter = 15\n",
      "iter = 16\n",
      "iter = 17\n",
      "iter = 18\n",
      "iter = 19\n",
      "iter = 20\n",
      "iter = 21\n",
      "iter = 22\n",
      "iter = 23\n",
      "iter = 24\n",
      "iter = 25\n",
      "iter = 26\n",
      "iter = 27\n",
      "iter = 28\n",
      "iter = 29\n"
     ]
    },
    {
     "data": {
      "image/png": "[encoded data removed]",
      "text/plain": [
       "<Figure size 432x288 with 1 Axes>"
      ]
     },
     "metadata": {
      "needs_background": "light"
     },
     "output_type": "display_data"
    }
   ],
   "source": [
    "def hist_LBFGS_Nesterov_tensor_2_solver(x0, NumIter, NumIterLBFGS, f, grad_f, hessian_f, L, *args):\n",
    "    X, y = args\n",
    "    k = 0\n",
    "    x_k = copy.deepcopy(x0)\n",
    "    history = []\n",
    "    history.append(x_k)\n",
    "    while (k < NumIter):\n",
    "        print(\"iter = {0}\".format(k))\n",
    "        x_k = Nesterov_tensor_2_step_lbfgs(x_k, NumIterLBFGS, *(grad_f, hessian_f, (X, y), L))\n",
    "        k += 1\n",
    "        history.append(x_k)\n",
    "    return history\n",
    "\n",
    "features_extended = features + 1\n",
    "w0 = np.zeros(features_extended)\n",
    "NumIter = 30\n",
    "accuracy_array_train = np.zeros(NumIter + 1)\n",
    "accuracy_array_test = np.zeros(NumIter + 1)\n",
    "\n",
    "train_const_feature = np.array([np.array([1]) for i in range(train_object_size)]) #добавим фиктивный признак\n",
    "train_extended_object = copy.deepcopy(train_object)\n",
    "train_extended_object = np.column_stack((train_extended_object, train_const_feature[:, 0]))\n",
    "L = L3_upper_bound(train_extended_object)    \n",
    "\n",
    "args = (train_extended_object, train_ans)\n",
    "history_LBFGS_Nesterov_tensor_2 = hist_LBFGS_Nesterov_tensor_2_solver(w0, NumIter, NumIterLBFGS, \n",
    "                                        logistic_loss, grad_logistic_loss, hessian_logistic_loss,  L, *args)\n",
    "\n",
    "for i in range(NumIter + 1):\n",
    "    train_ans_predict = linear_predict(train_extended_object, history_LBFGS_Nesterov_tensor_2[i])\n",
    "    accuracy_train = accuracy_score(train_ans, train_ans_predict)\n",
    "    accuracy_array_train[i] = accuracy_train\n",
    "\n",
    "    test_ans_predict = linear_predict(test_extended_object, history_LBFGS_Nesterov_tensor_2[i])\n",
    "    accuracy_test = accuracy_score(test_ans, test_ans_predict)\n",
    "    accuracy_array_test[i] = accuracy_test\n",
    "    \n",
    "fig = plt.figure()\n",
    "plt.xlabel(r'$Iter$') \n",
    "plt.ylabel(r'$Accuracy$') \n",
    "plt.title(r'$Nesterov \\; tensor \\; 2 + LBFGS$') \n",
    "plt.plot([i for i in range(NumIter + 1)], accuracy_array_train, label = 'train')\n",
    "plt.plot([i for i in range(NumIter + 1)], accuracy_array_test, label = 'test')\n",
    "plt.legend()\n",
    "plt.grid(True) \n",
    "fig.savefig('accuracy_LBFGS_Nesterov_tensor_2.pdf')"
   ]
  },
  {
   "cell_type": "markdown",
   "metadata": {},
   "source": [
    "# Сравнение всех методов"
   ]
  },
  {
   "cell_type": "code",
   "execution_count": 301,
   "metadata": {},
   "outputs": [
    {
     "name": "stdout",
     "output_type": "stream",
     "text": [
      "Warning: Desired error not necessarily achieved due to precision loss.\n",
      "         Current function value: -1666.176231\n",
      "         Iterations: 12\n",
      "         Function evaluations: 86\n",
      "         Gradient evaluations: 74\n",
      "Optimization terminated successfully.\n",
      "         Current function value: -751.832851\n",
      "         Iterations: 14\n",
      "         Function evaluations: 29\n",
      "         Gradient evaluations: 29\n",
      "Optimization terminated successfully.\n",
      "         Current function value: -482.493723\n",
      "         Iterations: 14\n",
      "         Function evaluations: 29\n",
      "         Gradient evaluations: 29\n",
      "Optimization terminated successfully.\n",
      "         Current function value: -341.057165\n",
      "         Iterations: 13\n",
      "         Function evaluations: 28\n",
      "         Gradient evaluations: 28\n",
      "Optimization terminated successfully.\n",
      "         Current function value: -246.160069\n",
      "         Iterations: 13\n",
      "         Function evaluations: 28\n",
      "         Gradient evaluations: 28\n",
      "Optimization terminated successfully.\n",
      "         Current function value: -180.330471\n",
      "         Iterations: 12\n",
      "         Function evaluations: 26\n",
      "         Gradient evaluations: 26\n",
      "Optimization terminated successfully.\n",
      "         Current function value: -135.057641\n",
      "         Iterations: 14\n",
      "         Function evaluations: 30\n",
      "         Gradient evaluations: 30\n",
      "Optimization terminated successfully.\n",
      "         Current function value: -104.216176\n",
      "         Iterations: 13\n",
      "         Function evaluations: 28\n",
      "         Gradient evaluations: 28\n",
      "Optimization terminated successfully.\n",
      "         Current function value: -83.247488\n",
      "         Iterations: 13\n",
      "         Function evaluations: 28\n",
      "         Gradient evaluations: 28\n",
      "Optimization terminated successfully.\n",
      "         Current function value: -68.858946\n",
      "         Iterations: 13\n",
      "         Function evaluations: 28\n",
      "         Gradient evaluations: 28\n",
      "Optimization terminated successfully.\n",
      "         Current function value: -58.762119\n",
      "         Iterations: 13\n",
      "         Function evaluations: 28\n",
      "         Gradient evaluations: 28\n",
      "Optimization terminated successfully.\n",
      "         Current function value: -51.428610\n",
      "         Iterations: 12\n",
      "         Function evaluations: 26\n",
      "         Gradient evaluations: 26\n",
      "Optimization terminated successfully.\n",
      "         Current function value: -45.873650\n",
      "         Iterations: 13\n",
      "         Function evaluations: 28\n",
      "         Gradient evaluations: 28\n",
      "Optimization terminated successfully.\n",
      "         Current function value: -41.479843\n",
      "         Iterations: 12\n",
      "         Function evaluations: 26\n",
      "         Gradient evaluations: 26\n",
      "Optimization terminated successfully.\n",
      "         Current function value: -37.866312\n",
      "         Iterations: 11\n",
      "         Function evaluations: 23\n",
      "         Gradient evaluations: 23\n",
      "Optimization terminated successfully.\n",
      "         Current function value: -34.799007\n",
      "         Iterations: 12\n",
      "         Function evaluations: 26\n",
      "         Gradient evaluations: 26\n",
      "Optimization terminated successfully.\n",
      "         Current function value: -32.132818\n",
      "         Iterations: 13\n",
      "         Function evaluations: 28\n",
      "         Gradient evaluations: 28\n",
      "Optimization terminated successfully.\n",
      "         Current function value: -29.775755\n",
      "         Iterations: 10\n",
      "         Function evaluations: 23\n",
      "         Gradient evaluations: 23\n",
      "Optimization terminated successfully.\n",
      "         Current function value: -27.667415\n",
      "         Iterations: 10\n",
      "         Function evaluations: 23\n",
      "         Gradient evaluations: 23\n",
      "Optimization terminated successfully.\n",
      "         Current function value: -25.766277\n",
      "         Iterations: 9\n",
      "         Function evaluations: 21\n",
      "         Gradient evaluations: 21\n",
      "Optimization terminated successfully.\n",
      "         Current function value: -24.042302\n",
      "         Iterations: 8\n",
      "         Function evaluations: 19\n",
      "         Gradient evaluations: 19\n",
      "Optimization terminated successfully.\n",
      "         Current function value: -22.472637\n",
      "         Iterations: 8\n",
      "         Function evaluations: 19\n",
      "         Gradient evaluations: 19\n",
      "Optimization terminated successfully.\n",
      "         Current function value: -21.039123\n",
      "         Iterations: 9\n",
      "         Function evaluations: 21\n",
      "         Gradient evaluations: 21\n",
      "Optimization terminated successfully.\n",
      "         Current function value: -19.726823\n",
      "         Iterations: 8\n",
      "         Function evaluations: 19\n",
      "         Gradient evaluations: 19\n",
      "Optimization terminated successfully.\n",
      "         Current function value: -18.523131\n",
      "         Iterations: 8\n",
      "         Function evaluations: 19\n",
      "         Gradient evaluations: 19\n",
      "Optimization terminated successfully.\n",
      "         Current function value: -17.417215\n",
      "         Iterations: 8\n",
      "         Function evaluations: 19\n",
      "         Gradient evaluations: 19\n",
      "Optimization terminated successfully.\n",
      "         Current function value: -16.399643\n",
      "         Iterations: 8\n",
      "         Function evaluations: 19\n",
      "         Gradient evaluations: 19\n",
      "Optimization terminated successfully.\n",
      "         Current function value: -15.462128\n",
      "         Iterations: 8\n",
      "         Function evaluations: 19\n",
      "         Gradient evaluations: 19\n",
      "Optimization terminated successfully.\n",
      "         Current function value: -14.597331\n",
      "         Iterations: 8\n",
      "         Function evaluations: 19\n",
      "         Gradient evaluations: 19\n",
      "Optimization terminated successfully.\n",
      "         Current function value: -13.798723\n",
      "         Iterations: 8\n",
      "         Function evaluations: 19\n",
      "         Gradient evaluations: 19\n",
      "Закончили CG\n",
      "Закончили LBFGS\n",
      "Закончили FGM\n",
      "iter = 0\n"
     ]
    },
    {
     "name": "stderr",
     "output_type": "stream",
     "text": [
      "/usr/local/lib64/python3.7/site-packages/sklearn/svm/base.py:922: ConvergenceWarning: Liblinear failed to converge, increase the number of iterations.\n",
      "  \"the number of iterations.\", ConvergenceWarning)\n"
     ]
    },
    {
     "name": "stdout",
     "output_type": "stream",
     "text": [
      "iter = 1\n"
     ]
    },
    {
     "name": "stderr",
     "output_type": "stream",
     "text": [
      "/usr/local/lib64/python3.7/site-packages/sklearn/svm/base.py:922: ConvergenceWarning: Liblinear failed to converge, increase the number of iterations.\n",
      "  \"the number of iterations.\", ConvergenceWarning)\n"
     ]
    },
    {
     "name": "stdout",
     "output_type": "stream",
     "text": [
      "iter = 2\n"
     ]
    },
    {
     "name": "stderr",
     "output_type": "stream",
     "text": [
      "/usr/local/lib64/python3.7/site-packages/sklearn/svm/base.py:922: ConvergenceWarning: Liblinear failed to converge, increase the number of iterations.\n",
      "  \"the number of iterations.\", ConvergenceWarning)\n"
     ]
    },
    {
     "name": "stdout",
     "output_type": "stream",
     "text": [
      "iter = 3\n"
     ]
    },
    {
     "name": "stderr",
     "output_type": "stream",
     "text": [
      "/usr/local/lib64/python3.7/site-packages/sklearn/svm/base.py:922: ConvergenceWarning: Liblinear failed to converge, increase the number of iterations.\n",
      "  \"the number of iterations.\", ConvergenceWarning)\n"
     ]
    },
    {
     "name": "stdout",
     "output_type": "stream",
     "text": [
      "iter = 4\n"
     ]
    },
    {
     "name": "stderr",
     "output_type": "stream",
     "text": [
      "/usr/local/lib64/python3.7/site-packages/sklearn/svm/base.py:922: ConvergenceWarning: Liblinear failed to converge, increase the number of iterations.\n",
      "  \"the number of iterations.\", ConvergenceWarning)\n"
     ]
    },
    {
     "name": "stdout",
     "output_type": "stream",
     "text": [
      "iter = 5\n"
     ]
    },
    {
     "name": "stderr",
     "output_type": "stream",
     "text": [
      "/usr/local/lib64/python3.7/site-packages/sklearn/svm/base.py:922: ConvergenceWarning: Liblinear failed to converge, increase the number of iterations.\n",
      "  \"the number of iterations.\", ConvergenceWarning)\n"
     ]
    },
    {
     "name": "stdout",
     "output_type": "stream",
     "text": [
      "iter = 6\n"
     ]
    },
    {
     "name": "stderr",
     "output_type": "stream",
     "text": [
      "/usr/local/lib64/python3.7/site-packages/sklearn/svm/base.py:922: ConvergenceWarning: Liblinear failed to converge, increase the number of iterations.\n",
      "  \"the number of iterations.\", ConvergenceWarning)\n"
     ]
    },
    {
     "name": "stdout",
     "output_type": "stream",
     "text": [
      "iter = 7\n"
     ]
    },
    {
     "name": "stderr",
     "output_type": "stream",
     "text": [
      "/usr/local/lib64/python3.7/site-packages/sklearn/svm/base.py:922: ConvergenceWarning: Liblinear failed to converge, increase the number of iterations.\n",
      "  \"the number of iterations.\", ConvergenceWarning)\n"
     ]
    },
    {
     "name": "stdout",
     "output_type": "stream",
     "text": [
      "iter = 8\n"
     ]
    },
    {
     "name": "stderr",
     "output_type": "stream",
     "text": [
      "/usr/local/lib64/python3.7/site-packages/sklearn/svm/base.py:922: ConvergenceWarning: Liblinear failed to converge, increase the number of iterations.\n",
      "  \"the number of iterations.\", ConvergenceWarning)\n"
     ]
    },
    {
     "name": "stdout",
     "output_type": "stream",
     "text": [
      "iter = 9\n"
     ]
    },
    {
     "name": "stderr",
     "output_type": "stream",
     "text": [
      "/usr/local/lib64/python3.7/site-packages/sklearn/svm/base.py:922: ConvergenceWarning: Liblinear failed to converge, increase the number of iterations.\n",
      "  \"the number of iterations.\", ConvergenceWarning)\n"
     ]
    },
    {
     "name": "stdout",
     "output_type": "stream",
     "text": [
      "iter = 10\n"
     ]
    },
    {
     "name": "stderr",
     "output_type": "stream",
     "text": [
      "/usr/local/lib64/python3.7/site-packages/sklearn/svm/base.py:922: ConvergenceWarning: Liblinear failed to converge, increase the number of iterations.\n",
      "  \"the number of iterations.\", ConvergenceWarning)\n"
     ]
    },
    {
     "name": "stdout",
     "output_type": "stream",
     "text": [
      "iter = 11\n"
     ]
    },
    {
     "name": "stderr",
     "output_type": "stream",
     "text": [
      "/usr/local/lib64/python3.7/site-packages/sklearn/svm/base.py:922: ConvergenceWarning: Liblinear failed to converge, increase the number of iterations.\n",
      "  \"the number of iterations.\", ConvergenceWarning)\n"
     ]
    },
    {
     "name": "stdout",
     "output_type": "stream",
     "text": [
      "iter = 12\n"
     ]
    },
    {
     "name": "stderr",
     "output_type": "stream",
     "text": [
      "/usr/local/lib64/python3.7/site-packages/sklearn/svm/base.py:922: ConvergenceWarning: Liblinear failed to converge, increase the number of iterations.\n",
      "  \"the number of iterations.\", ConvergenceWarning)\n"
     ]
    },
    {
     "name": "stdout",
     "output_type": "stream",
     "text": [
      "iter = 13\n"
     ]
    },
    {
     "name": "stderr",
     "output_type": "stream",
     "text": [
      "/usr/local/lib64/python3.7/site-packages/sklearn/svm/base.py:922: ConvergenceWarning: Liblinear failed to converge, increase the number of iterations.\n",
      "  \"the number of iterations.\", ConvergenceWarning)\n"
     ]
    },
    {
     "name": "stdout",
     "output_type": "stream",
     "text": [
      "iter = 14\n"
     ]
    },
    {
     "name": "stderr",
     "output_type": "stream",
     "text": [
      "/usr/local/lib64/python3.7/site-packages/sklearn/svm/base.py:922: ConvergenceWarning: Liblinear failed to converge, increase the number of iterations.\n",
      "  \"the number of iterations.\", ConvergenceWarning)\n"
     ]
    },
    {
     "name": "stdout",
     "output_type": "stream",
     "text": [
      "iter = 15\n"
     ]
    },
    {
     "name": "stderr",
     "output_type": "stream",
     "text": [
      "/usr/local/lib64/python3.7/site-packages/sklearn/svm/base.py:922: ConvergenceWarning: Liblinear failed to converge, increase the number of iterations.\n",
      "  \"the number of iterations.\", ConvergenceWarning)\n"
     ]
    },
    {
     "name": "stdout",
     "output_type": "stream",
     "text": [
      "iter = 16\n"
     ]
    },
    {
     "name": "stderr",
     "output_type": "stream",
     "text": [
      "/usr/local/lib64/python3.7/site-packages/sklearn/svm/base.py:922: ConvergenceWarning: Liblinear failed to converge, increase the number of iterations.\n",
      "  \"the number of iterations.\", ConvergenceWarning)\n"
     ]
    },
    {
     "name": "stdout",
     "output_type": "stream",
     "text": [
      "iter = 17\n"
     ]
    },
    {
     "name": "stderr",
     "output_type": "stream",
     "text": [
      "/usr/local/lib64/python3.7/site-packages/sklearn/svm/base.py:922: ConvergenceWarning: Liblinear failed to converge, increase the number of iterations.\n",
      "  \"the number of iterations.\", ConvergenceWarning)\n"
     ]
    },
    {
     "name": "stdout",
     "output_type": "stream",
     "text": [
      "iter = 18\n"
     ]
    },
    {
     "name": "stderr",
     "output_type": "stream",
     "text": [
      "/usr/local/lib64/python3.7/site-packages/sklearn/svm/base.py:922: ConvergenceWarning: Liblinear failed to converge, increase the number of iterations.\n",
      "  \"the number of iterations.\", ConvergenceWarning)\n"
     ]
    },
    {
     "name": "stdout",
     "output_type": "stream",
     "text": [
      "iter = 19\n"
     ]
    },
    {
     "name": "stderr",
     "output_type": "stream",
     "text": [
      "/usr/local/lib64/python3.7/site-packages/sklearn/svm/base.py:922: ConvergenceWarning: Liblinear failed to converge, increase the number of iterations.\n",
      "  \"the number of iterations.\", ConvergenceWarning)\n"
     ]
    },
    {
     "name": "stdout",
     "output_type": "stream",
     "text": [
      "iter = 20\n"
     ]
    },
    {
     "name": "stderr",
     "output_type": "stream",
     "text": [
      "/usr/local/lib64/python3.7/site-packages/sklearn/svm/base.py:922: ConvergenceWarning: Liblinear failed to converge, increase the number of iterations.\n",
      "  \"the number of iterations.\", ConvergenceWarning)\n"
     ]
    },
    {
     "name": "stdout",
     "output_type": "stream",
     "text": [
      "iter = 21\n"
     ]
    },
    {
     "name": "stderr",
     "output_type": "stream",
     "text": [
      "/usr/local/lib64/python3.7/site-packages/sklearn/svm/base.py:922: ConvergenceWarning: Liblinear failed to converge, increase the number of iterations.\n",
      "  \"the number of iterations.\", ConvergenceWarning)\n"
     ]
    },
    {
     "name": "stdout",
     "output_type": "stream",
     "text": [
      "iter = 22\n"
     ]
    },
    {
     "name": "stderr",
     "output_type": "stream",
     "text": [
      "/usr/local/lib64/python3.7/site-packages/sklearn/svm/base.py:922: ConvergenceWarning: Liblinear failed to converge, increase the number of iterations.\n",
      "  \"the number of iterations.\", ConvergenceWarning)\n"
     ]
    },
    {
     "name": "stdout",
     "output_type": "stream",
     "text": [
      "iter = 23\n"
     ]
    },
    {
     "name": "stderr",
     "output_type": "stream",
     "text": [
      "/usr/local/lib64/python3.7/site-packages/sklearn/svm/base.py:922: ConvergenceWarning: Liblinear failed to converge, increase the number of iterations.\n",
      "  \"the number of iterations.\", ConvergenceWarning)\n"
     ]
    },
    {
     "name": "stdout",
     "output_type": "stream",
     "text": [
      "iter = 24\n",
      "iter = 25\n",
      "iter = 26\n",
      "iter = 27\n",
      "iter = 28\n",
      "iter = 29\n",
      "iter = 30\n",
      "Закончили LogRegr\n"
     ]
    },
    {
     "data": {
      "image/png": "[encoded data removed]",
      "text/plain": [
       "<Figure size 432x288 with 1 Axes>"
      ]
     },
     "metadata": {
      "needs_background": "light"
     },
     "output_type": "display_data"
    },
    {
     "data": {
      "image/png": "[encoded data removed]",
      "text/plain": [
       "<Figure size 432x288 with 1 Axes>"
      ]
     },
     "metadata": {
      "needs_background": "light"
     },
     "output_type": "display_data"
    }
   ],
   "source": [
    "def CG_Nesterov_tensor_2_solver(x0, NumIter, NumIterCG, f, grad_f, hessian_f, L, *args):\n",
    "    X, y = args\n",
    "    k = 0\n",
    "    x_k = copy.deepcopy(x0)\n",
    "    farr = np.zeros(NumIter + 1)\n",
    "    fgradarr = np.zeros(NumIter + 1)\n",
    "    farr[0] = f(x_k, *(X, y))\n",
    "    fgradarr[0] = linalg.norm(grad_f(x_k, *(X, y)))\n",
    "    while (k < NumIter):\n",
    "        x_k = Nesterov_tensor_2_step_cg(x_k, NumIterCG, *(grad_f, hessian_f, (X, y), L))\n",
    "        gradf_xk = grad_f(x_k, *(X, y))\n",
    "        k += 1\n",
    "        farr[k] = f(x_k, *(X, y))\n",
    "        fgradarr[k] = linalg.norm(gradf_xk)\n",
    "    return x_k, farr, fgradarr\n",
    "\n",
    "def LBFGS_Nesterov_tensor_2_solver(x0, NumIter, NumIterLBFGS, f, grad_f, hessian_f, L, *args):\n",
    "    X, y = args\n",
    "    k = 0\n",
    "    x_k = copy.deepcopy(x0)\n",
    "    farr = np.zeros(NumIter + 1)\n",
    "    fgradarr = np.zeros(NumIter + 1)\n",
    "    farr[0] = f(x_k, *(X, y))\n",
    "    fgradarr[0] = linalg.norm(grad_f(x_k, *(X, y)))\n",
    "    while (k < NumIter):\n",
    "        x_k = Nesterov_tensor_2_step_lbfgs(x_k, NumIterLBFGS, *(grad_f, hessian_f, (X, y), L))\n",
    "        gradf_xk = grad_f(x_k, *(X, y))\n",
    "        k += 1\n",
    "        farr[k] = f(x_k, *(X, y))\n",
    "        fgradarr[k] = linalg.norm(gradf_xk)\n",
    "    return x_k, farr, fgradarr\n",
    "\n",
    "def FGM_iter(NumIter, x0, f, gradf, *args):\n",
    "    X, y, L = args\n",
    "    k = 0\n",
    "    v_k = copy.deepcopy(x0)\n",
    "    x_k = copy.deepcopy(x0)\n",
    "    A_k = 0\n",
    "    farr = np.zeros(NumIter + 1)\n",
    "    fgradarr = np.zeros(NumIter + 1)\n",
    "    farr[0] = f(x_k, *(X, y))\n",
    "    fgradarr[0] = linalg.norm(gradf(x_k, *(X, y)))\n",
    "    while (k < NumIter):\n",
    "        a_k = (1 + (1 + 2 * L * A_k)**0.5) / L \n",
    "        y_k = (A_k*x_k + a_k*v_k)/(A_k + a_k)\n",
    "        x_k = y_k - 1/L*gradf(y_k, *(X, y))\n",
    "        gradf_xk = gradf(x_k, *(X, y))\n",
    "        v_k = v_k - a_k * gradf_xk\n",
    "        A_k = A_k + a_k\n",
    "        k += 1\n",
    "        farr[k] = f(x_k, *(X, y))\n",
    "        fgradarr[k] = linalg.norm(gradf_xk)\n",
    "    return x_k, farr, fgradarr\n",
    "\n",
    "\n",
    "\n",
    "train_const_feature = np.array([np.array([1]) for i in range(train_object_size)]) #добавим фиктивный признак\n",
    "train_extended_object = copy.deepcopy(train_object)\n",
    "train_extended_object = np.column_stack((train_extended_object, train_const_feature[:, 0]))\n",
    "\n",
    "features_num = features + 1\n",
    "w0 = np.zeros(features_num)\n",
    "NumIter = 30\n",
    "NumIterCG = 100\n",
    "NumIterLBFGS\n",
    "L = L3_upper_bound(train_extended_object)\n",
    "\n",
    "args = (train_extended_object, train_ans)\n",
    "xans_cg, farr_cg, fgradarr_cg = CG_Nesterov_tensor_2_solver(w0, NumIter, NumIterCG, \n",
    "                                        logistic_loss, grad_logistic_loss, hessian_logistic_loss,  L, *args)\n",
    "\n",
    "print(\"Закончили CG\")\n",
    "\n",
    "xans_lbfgs, farr_lbfgs, fgradarr_lbfgs = LBFGS_Nesterov_tensor_2_solver(w0, NumIter, NumIterLBFGS, \n",
    "                                        logistic_loss, grad_logistic_loss, hessian_logistic_loss,  L, *args)\n",
    "\n",
    "print(\"Закончили LBFGS\")\n",
    "\n",
    "L = L2_upper_bound(train_extended_object)\n",
    "\n",
    "args = (train_extended_object, train_ans, L)\n",
    "xans_fgm, farr_fgm, fgradarr_fgm = FGM_iter(NumIter, w0, logistic_loss, grad_logistic_loss, *args)\n",
    "\n",
    "print(\"Закончили FGM\")\n",
    "\n",
    "accuracy_array_train = np.zeros(NumIter + 1)\n",
    "accuracy_array_test = np.zeros(NumIter + 1)\n",
    "logistic_loss_train = np.zeros(NumIter + 1)\n",
    "norm_grad_loss_train = np.zeros(NumIter + 1)\n",
    "\n",
    "for i in range(NumIter + 1):\n",
    "    print(\"iter = {0}\".format(i))\n",
    "    log_reg = LogisticRegression(solver = 'liblinear', tol = 1e-10, C = 100000000, max_iter = i)\n",
    "    log_reg.fit(train_object, train_ans)\n",
    "    \n",
    "    coef = log_reg.coef_\n",
    "    bias = log_reg.intercept_\n",
    "    coef = np.append(coef, bias)\n",
    "\n",
    "    train_args = (train_extended_object, train_ans)\n",
    "    logistic_loss_train[i] = logistic_loss(coef, *train_args)\n",
    "    norm_grad_loss_train[i] = linalg.norm(grad_logistic_loss(coef, *train_args))\n",
    "    \n",
    "    train_ans_predict = log_reg.predict(train_object)\n",
    "    accuracy_train = accuracy_score(train_ans, train_ans_predict)\n",
    "    accuracy_array_train[i] = accuracy_train\n",
    "\n",
    "    test_ans_predict = log_reg.predict(test_object)\n",
    "    accuracy_test = accuracy_score(test_ans, test_ans_predict)\n",
    "    accuracy_array_test[i] = accuracy_test\n",
    "\n",
    "print(\"Закончили LogRegr\")\n",
    "\n",
    "fig = plt.figure()\n",
    "plt.xlabel(r'$Iter$') \n",
    "plt.ylabel(r'$Logistic \\; loss$') \n",
    "plt.title(r'$Logistic \\; loss$') \n",
    "plt.plot([i for i in range(NumIter + 1)], farr_cg, label = 'Nesterov tensor 2 + CG')\n",
    "plt.plot([i for i in range(NumIter + 1)], farr_lbfgs, label = 'Nesterov tensor 2 + LBFGS')\n",
    "plt.plot([i for i in range(NumIter + 1)], farr_fgm, label = 'FGM')\n",
    "plt.plot([i for i in range(NumIter + 1)], logistic_loss_train, label = 'LogRegr')\n",
    "plt.legend()\n",
    "plt.grid(True) \n",
    "fig.savefig('all_f_iter.pdf')\n",
    "plt.show()\n",
    "\n",
    "fig = plt.figure()\n",
    "plt.xlabel(r'$Iter$') \n",
    "plt.ylabel(r'$||\\nabla f_{loss}||_2$') \n",
    "plt.title(r'$||\\nabla f_{loss}||_2$') \n",
    "plt.plot([i for i in range(NumIter + 1)], fgradarr_cg, label = 'Nesterov tensor 2 + CG')\n",
    "plt.plot([i for i in range(NumIter + 1)], fgradarr_lbfgs, label = 'Nesterov tensor 2 + LBFGS')\n",
    "plt.plot([i for i in range(NumIter + 1)], fgradarr_fgm, label = 'FGM')\n",
    "plt.plot([i for i in range(NumIter + 1)], norm_grad_loss_train, label = 'LogRegr')\n",
    "plt.legend()\n",
    "plt.grid(True) \n",
    "fig.savefig('all_gradf_iter.pdf')\n",
    "plt.show()"
   ]
  },
  {
   "cell_type": "code",
   "execution_count": 296,
   "metadata": {},
   "outputs": [
    {
     "data": {
      "text/plain": [
       "array([13862.9436112 , 11672.89709942, 10627.36108022,  9943.2173093 ,\n",
       "        9457.69900082,  9106.55458729,  8848.53787221,  8654.46435211,\n",
       "        8503.92228927,  8383.00305819,  8282.46831016,  8196.30618549,\n",
       "        8120.64791133,  8052.99963086,  7991.72715847,  7935.72613206,\n",
       "        7884.21802733,  7836.62688554,  7792.5057485 ,  7751.49290347,\n",
       "        7713.28567468,  7677.62443113,  7644.28251631,  7613.05962714,\n",
       "        7583.77723854,  7556.27525527,  7530.40945999,  7506.04948044,\n",
       "        7483.07712706,  7461.38500477,  7440.87533627])"
      ]
     },
     "execution_count": 296,
     "metadata": {},
     "output_type": "execute_result"
    }
   ],
   "source": [
    "farr_cg"
   ]
  },
  {
   "cell_type": "code",
   "execution_count": 297,
   "metadata": {},
   "outputs": [
    {
     "data": {
      "text/plain": [
       "array([13862.9436112 , 11672.89706404, 10627.36091105,  9943.2162968 ,\n",
       "        9457.69821564,  9106.55429763,  8848.53787803,  8654.4645924 ,\n",
       "        8503.92255925,  8383.00325115,  8282.46864943,  8196.30654998,\n",
       "        8120.64827616,  8052.999994  ,  7991.72760374,  7935.72668196,\n",
       "        7884.21864955,  7836.62751408,  7792.50643009,  7751.49363828,\n",
       "        7713.2864442 ,  7677.62522828,  7644.28333322,  7613.06045881,\n",
       "        7583.77807984,  7556.27610303,  7530.41031153,  7506.05033334,\n",
       "        7483.07797917,  7461.38585415,  7440.87618121])"
      ]
     },
     "execution_count": 297,
     "metadata": {},
     "output_type": "execute_result"
    }
   ],
   "source": [
    "farr_lbfgs"
   ]
  },
  {
   "cell_type": "code",
   "execution_count": 303,
   "metadata": {},
   "outputs": [
    {
     "name": "stdout",
     "output_type": "stream",
     "text": [
      "iter = 0\n",
      "Warning: Desired error not necessarily achieved due to precision loss.\n",
      "         Current function value: -1666.176231\n",
      "         Iterations: 12\n",
      "         Function evaluations: 86\n",
      "         Gradient evaluations: 74\n",
      "iter = 1\n",
      "Optimization terminated successfully.\n",
      "         Current function value: -751.832851\n",
      "         Iterations: 14\n",
      "         Function evaluations: 29\n",
      "         Gradient evaluations: 29\n",
      "iter = 2\n",
      "Optimization terminated successfully.\n",
      "         Current function value: -482.493723\n",
      "         Iterations: 14\n",
      "         Function evaluations: 29\n",
      "         Gradient evaluations: 29\n",
      "iter = 3\n",
      "Optimization terminated successfully.\n",
      "         Current function value: -341.057165\n",
      "         Iterations: 13\n",
      "         Function evaluations: 28\n",
      "         Gradient evaluations: 28\n",
      "iter = 4\n",
      "Optimization terminated successfully.\n",
      "         Current function value: -246.160069\n",
      "         Iterations: 13\n",
      "         Function evaluations: 28\n",
      "         Gradient evaluations: 28\n",
      "iter = 5\n",
      "Optimization terminated successfully.\n",
      "         Current function value: -180.330471\n",
      "         Iterations: 12\n",
      "         Function evaluations: 26\n",
      "         Gradient evaluations: 26\n",
      "iter = 6\n",
      "Optimization terminated successfully.\n",
      "         Current function value: -135.057641\n",
      "         Iterations: 14\n",
      "         Function evaluations: 30\n",
      "         Gradient evaluations: 30\n",
      "iter = 7\n",
      "Optimization terminated successfully.\n",
      "         Current function value: -104.216176\n",
      "         Iterations: 13\n",
      "         Function evaluations: 28\n",
      "         Gradient evaluations: 28\n",
      "iter = 8\n",
      "Optimization terminated successfully.\n",
      "         Current function value: -83.247488\n",
      "         Iterations: 13\n",
      "         Function evaluations: 28\n",
      "         Gradient evaluations: 28\n",
      "iter = 9\n",
      "Optimization terminated successfully.\n",
      "         Current function value: -68.858946\n",
      "         Iterations: 13\n",
      "         Function evaluations: 28\n",
      "         Gradient evaluations: 28\n",
      "iter = 10\n",
      "Optimization terminated successfully.\n",
      "         Current function value: -58.762119\n",
      "         Iterations: 13\n",
      "         Function evaluations: 28\n",
      "         Gradient evaluations: 28\n",
      "iter = 11\n",
      "Optimization terminated successfully.\n",
      "         Current function value: -51.428610\n",
      "         Iterations: 12\n",
      "         Function evaluations: 26\n",
      "         Gradient evaluations: 26\n",
      "iter = 12\n",
      "Optimization terminated successfully.\n",
      "         Current function value: -45.873650\n",
      "         Iterations: 13\n",
      "         Function evaluations: 28\n",
      "         Gradient evaluations: 28\n",
      "iter = 13\n",
      "Optimization terminated successfully.\n",
      "         Current function value: -41.479843\n",
      "         Iterations: 12\n",
      "         Function evaluations: 26\n",
      "         Gradient evaluations: 26\n",
      "iter = 14\n",
      "Optimization terminated successfully.\n",
      "         Current function value: -37.866312\n",
      "         Iterations: 11\n",
      "         Function evaluations: 23\n",
      "         Gradient evaluations: 23\n",
      "iter = 15\n",
      "Optimization terminated successfully.\n",
      "         Current function value: -34.799007\n",
      "         Iterations: 12\n",
      "         Function evaluations: 26\n",
      "         Gradient evaluations: 26\n",
      "iter = 16\n",
      "Optimization terminated successfully.\n",
      "         Current function value: -32.132818\n",
      "         Iterations: 13\n",
      "         Function evaluations: 28\n",
      "         Gradient evaluations: 28\n",
      "iter = 17\n",
      "Optimization terminated successfully.\n",
      "         Current function value: -29.775755\n",
      "         Iterations: 10\n",
      "         Function evaluations: 23\n",
      "         Gradient evaluations: 23\n",
      "iter = 18\n",
      "Optimization terminated successfully.\n",
      "         Current function value: -27.667415\n",
      "         Iterations: 10\n",
      "         Function evaluations: 23\n",
      "         Gradient evaluations: 23\n",
      "iter = 19\n",
      "Optimization terminated successfully.\n",
      "         Current function value: -25.766277\n",
      "         Iterations: 9\n",
      "         Function evaluations: 21\n",
      "         Gradient evaluations: 21\n",
      "iter = 20\n",
      "Optimization terminated successfully.\n",
      "         Current function value: -24.042302\n",
      "         Iterations: 8\n",
      "         Function evaluations: 19\n",
      "         Gradient evaluations: 19\n",
      "iter = 21\n",
      "Optimization terminated successfully.\n",
      "         Current function value: -22.472637\n",
      "         Iterations: 8\n",
      "         Function evaluations: 19\n",
      "         Gradient evaluations: 19\n",
      "iter = 22\n",
      "Optimization terminated successfully.\n",
      "         Current function value: -21.039123\n",
      "         Iterations: 9\n",
      "         Function evaluations: 21\n",
      "         Gradient evaluations: 21\n",
      "iter = 23\n",
      "Optimization terminated successfully.\n",
      "         Current function value: -19.726823\n",
      "         Iterations: 8\n",
      "         Function evaluations: 19\n",
      "         Gradient evaluations: 19\n",
      "iter = 24\n",
      "Optimization terminated successfully.\n",
      "         Current function value: -18.523131\n",
      "         Iterations: 8\n",
      "         Function evaluations: 19\n",
      "         Gradient evaluations: 19\n",
      "iter = 25\n",
      "Optimization terminated successfully.\n",
      "         Current function value: -17.417215\n",
      "         Iterations: 8\n",
      "         Function evaluations: 19\n",
      "         Gradient evaluations: 19\n",
      "iter = 26\n",
      "Optimization terminated successfully.\n",
      "         Current function value: -16.399643\n",
      "         Iterations: 8\n",
      "         Function evaluations: 19\n",
      "         Gradient evaluations: 19\n",
      "iter = 27\n",
      "Optimization terminated successfully.\n",
      "         Current function value: -15.462128\n",
      "         Iterations: 8\n",
      "         Function evaluations: 19\n",
      "         Gradient evaluations: 19\n",
      "iter = 28\n",
      "Optimization terminated successfully.\n",
      "         Current function value: -14.597331\n",
      "         Iterations: 8\n",
      "         Function evaluations: 19\n",
      "         Gradient evaluations: 19\n",
      "iter = 29\n",
      "Optimization terminated successfully.\n",
      "         Current function value: -13.798723\n",
      "         Iterations: 8\n",
      "         Function evaluations: 19\n",
      "         Gradient evaluations: 19\n",
      "Закончили CG\n",
      "iter = 0\n",
      "iter = 1\n",
      "iter = 2\n",
      "iter = 3\n",
      "iter = 4\n",
      "iter = 5\n",
      "iter = 6\n",
      "iter = 7\n",
      "iter = 8\n",
      "iter = 9\n",
      "iter = 10\n",
      "iter = 11\n",
      "iter = 12\n",
      "iter = 13\n",
      "iter = 14\n",
      "iter = 15\n",
      "iter = 16\n",
      "iter = 17\n",
      "iter = 18\n",
      "iter = 19\n",
      "iter = 20\n",
      "iter = 21\n",
      "iter = 22\n",
      "iter = 23\n",
      "iter = 24\n",
      "iter = 25\n",
      "iter = 26\n",
      "iter = 27\n",
      "iter = 28\n",
      "iter = 29\n",
      "Закончили LBFGS\n",
      "iter = 0\n",
      "iter = 1\n",
      "iter = 2\n",
      "iter = 3\n",
      "iter = 4\n",
      "iter = 5\n",
      "iter = 6\n",
      "iter = 7\n",
      "iter = 8\n",
      "iter = 9\n",
      "iter = 10\n",
      "iter = 11\n",
      "iter = 12\n",
      "iter = 13\n",
      "iter = 14\n",
      "iter = 15\n",
      "iter = 16\n",
      "iter = 17\n",
      "iter = 18\n",
      "iter = 19\n",
      "iter = 20\n",
      "iter = 21\n",
      "iter = 22\n",
      "iter = 23\n",
      "iter = 24\n",
      "iter = 25\n",
      "iter = 26\n",
      "iter = 27\n",
      "iter = 28\n",
      "iter = 29\n",
      "Закончили FGM\n"
     ]
    }
   ],
   "source": [
    "def hist_LBFGS_Nesterov_tensor_2_solver(x0, NumIter, NumIterLBFGS, f, grad_f, hessian_f, L, *args):\n",
    "    X, y = args\n",
    "    k = 0\n",
    "    x_k = copy.deepcopy(x0)\n",
    "    history = []\n",
    "    history.append(x_k)\n",
    "    while (k < NumIter):\n",
    "        print(\"iter = {0}\".format(k))\n",
    "        x_k = Nesterov_tensor_2_step_lbfgs(x_k, NumIterLBFGS, *(grad_f, hessian_f, (X, y), L))\n",
    "        k += 1\n",
    "        history.append(x_k)\n",
    "    return history\n",
    "\n",
    "def hist_CG_Nesterov_tensor_2_solver(x0, NumIter, NumIterCG, f, grad_f, hessian_f, L, *args):\n",
    "    X, y = args\n",
    "    k = 0\n",
    "    x_k = copy.deepcopy(x0)\n",
    "    history = []\n",
    "    history.append(x_k)\n",
    "    while (k < NumIter):\n",
    "        print(\"iter = {0}\".format(k))\n",
    "        x_k = Nesterov_tensor_2_step_cg(x_k, NumIterCG, *(grad_f, hessian_f, (X, y), L))\n",
    "        k += 1\n",
    "        history.append(x_k)\n",
    "    return history\n",
    "\n",
    "def history_FGM_iter(NumIter, x0, f, gradf, *args):\n",
    "    X, y, L = args\n",
    "    k = 0\n",
    "    v_k = copy.deepcopy(x0)\n",
    "    x_k = copy.deepcopy(x0)\n",
    "    A_k = 0\n",
    "    history = np.zeros((NumIter + 1, x0.shape[0]))\n",
    "    history[0] = x0\n",
    "    while (k < NumIter):\n",
    "        print(\"iter = {0}\".format(k))\n",
    "        a_k = (1 + (1 + 2 * L * A_k)**0.5) / L \n",
    "        y_k = (A_k*x_k + a_k*v_k)/(A_k + a_k)\n",
    "        x_k = y_k - 1/L*gradf(y_k, *(X, y))\n",
    "        gradf_xk = gradf(x_k, *(X, y))\n",
    "        v_k = v_k - a_k * gradf_xk\n",
    "        A_k = A_k + a_k\n",
    "        k += 1\n",
    "        history[k] = x_k\n",
    "    return history\n",
    "\n",
    "features_extended = features + 1\n",
    "w0 = np.zeros(features_extended)\n",
    "NumIter = 30\n",
    "NumIterCG = 100\n",
    "NumIterLBFGS = 100\n",
    "accuracy_array_train = np.zeros(NumIter + 1)\n",
    "accuracy_array_test = np.zeros(NumIter + 1)\n",
    "\n",
    "train_const_feature = np.array([np.array([1]) for i in range(train_object_size)]) #добавим фиктивный признак\n",
    "train_extended_object = copy.deepcopy(train_object)\n",
    "train_extended_object = np.column_stack((train_extended_object, train_const_feature[:, 0]))\n",
    "L = L3_upper_bound(train_extended_object)    \n",
    "\n",
    "args = (train_extended_object, train_ans)\n",
    "history_CG_Nesterov_tensor_2 = hist_CG_Nesterov_tensor_2_solver(w0, NumIter, NumIterCG, \n",
    "                                        logistic_loss, grad_logistic_loss, hessian_logistic_loss,  L, *args)\n",
    "\n",
    "print(\"Закончили CG\")\n",
    "\n",
    "history_LBFGS_Nesterov_tensor_2 = hist_LBFGS_Nesterov_tensor_2_solver(w0, NumIter, NumIterLBFGS, \n",
    "                                        logistic_loss, grad_logistic_loss, hessian_logistic_loss,  L, *args)\n",
    "\n",
    "\n",
    "print(\"Закончили LBFGS\")\n",
    "\n",
    "L = L2_upper_bound(train_extended_object)\n",
    "args = (train_extended_object, train_ans, L)\n",
    "history_fgm = history_FGM_iter(NumIter, w0, logistic_loss, grad_logistic_loss, *args)\n",
    "\n",
    "print(\"Закончили FGM\")\n",
    "\n",
    "accuracy_array_train_cg = np.zeros(NumIter + 1)\n",
    "accuracy_array_test_cg = np.zeros(NumIter + 1)\n",
    "\n",
    "for i in range(NumIter + 1):\n",
    "    train_ans_predict = linear_predict(train_extended_object, history_CG_Nesterov_tensor_2[i])\n",
    "    accuracy_train = accuracy_score(train_ans, train_ans_predict)\n",
    "    accuracy_array_train_cg[i] = accuracy_train\n",
    "\n",
    "    test_ans_predict = linear_predict(test_extended_object, history_CG_Nesterov_tensor_2[i])\n",
    "    accuracy_test = accuracy_score(test_ans, test_ans_predict)\n",
    "    accuracy_array_test_cg[i] = accuracy_test\n",
    "    \n",
    "accuracy_array_train_lbfgs = np.zeros(NumIter + 1)\n",
    "accuracy_array_test_lbfgs = np.zeros(NumIter + 1)\n",
    "\n",
    "for i in range(NumIter + 1):\n",
    "    train_ans_predict = linear_predict(train_extended_object, history_CG_Nesterov_tensor_2[i])\n",
    "    accuracy_train = accuracy_score(train_ans, train_ans_predict)\n",
    "    accuracy_array_train_lbfgs[i] = accuracy_train\n",
    "\n",
    "    test_ans_predict = linear_predict(test_extended_object, history_CG_Nesterov_tensor_2[i])\n",
    "    accuracy_test = accuracy_score(test_ans, test_ans_predict)\n",
    "    accuracy_array_test_lbfgs[i] = accuracy_test\n",
    "    \n",
    "accuracy_array_train_fgm = np.zeros(NumIter + 1)\n",
    "accuracy_array_test_fgm = np.zeros(NumIter + 1)\n",
    "\n",
    "for i in range(NumIter + 1):\n",
    "    train_ans_predict = linear_predict(train_extended_object, history_fgm[i])\n",
    "    accuracy_train = accuracy_score(train_ans, train_ans_predict)\n",
    "    accuracy_array_train_fgm[i] = accuracy_train\n",
    "\n",
    "    test_ans_predict = linear_predict(test_extended_object, history_fgm[i])\n",
    "    accuracy_test = accuracy_score(test_ans, test_ans_predict)\n",
    "    accuracy_array_test_fgm[i] = accuracy_test"
   ]
  },
  {
   "cell_type": "code",
   "execution_count": 307,
   "metadata": {},
   "outputs": [
    {
     "name": "stdout",
     "output_type": "stream",
     "text": [
      "iter = 0\n",
      "iter = 1\n",
      "iter = 2\n",
      "iter = 3\n"
     ]
    },
    {
     "name": "stderr",
     "output_type": "stream",
     "text": [
      "/usr/local/lib64/python3.7/site-packages/sklearn/svm/base.py:922: ConvergenceWarning: Liblinear failed to converge, increase the number of iterations.\n",
      "  \"the number of iterations.\", ConvergenceWarning)\n",
      "/usr/local/lib64/python3.7/site-packages/sklearn/svm/base.py:922: ConvergenceWarning: Liblinear failed to converge, increase the number of iterations.\n",
      "  \"the number of iterations.\", ConvergenceWarning)\n",
      "/usr/local/lib64/python3.7/site-packages/sklearn/svm/base.py:922: ConvergenceWarning: Liblinear failed to converge, increase the number of iterations.\n",
      "  \"the number of iterations.\", ConvergenceWarning)\n",
      "/usr/local/lib64/python3.7/site-packages/sklearn/svm/base.py:922: ConvergenceWarning: Liblinear failed to converge, increase the number of iterations.\n",
      "  \"the number of iterations.\", ConvergenceWarning)\n"
     ]
    },
    {
     "name": "stdout",
     "output_type": "stream",
     "text": [
      "iter = 4\n",
      "iter = 5\n",
      "iter = 6\n"
     ]
    },
    {
     "name": "stderr",
     "output_type": "stream",
     "text": [
      "/usr/local/lib64/python3.7/site-packages/sklearn/svm/base.py:922: ConvergenceWarning: Liblinear failed to converge, increase the number of iterations.\n",
      "  \"the number of iterations.\", ConvergenceWarning)\n",
      "/usr/local/lib64/python3.7/site-packages/sklearn/svm/base.py:922: ConvergenceWarning: Liblinear failed to converge, increase the number of iterations.\n",
      "  \"the number of iterations.\", ConvergenceWarning)\n",
      "/usr/local/lib64/python3.7/site-packages/sklearn/svm/base.py:922: ConvergenceWarning: Liblinear failed to converge, increase the number of iterations.\n",
      "  \"the number of iterations.\", ConvergenceWarning)\n",
      "/usr/local/lib64/python3.7/site-packages/sklearn/svm/base.py:922: ConvergenceWarning: Liblinear failed to converge, increase the number of iterations.\n",
      "  \"the number of iterations.\", ConvergenceWarning)\n"
     ]
    },
    {
     "name": "stdout",
     "output_type": "stream",
     "text": [
      "iter = 7\n",
      "iter = 8\n"
     ]
    },
    {
     "name": "stderr",
     "output_type": "stream",
     "text": [
      "/usr/local/lib64/python3.7/site-packages/sklearn/svm/base.py:922: ConvergenceWarning: Liblinear failed to converge, increase the number of iterations.\n",
      "  \"the number of iterations.\", ConvergenceWarning)\n"
     ]
    },
    {
     "name": "stdout",
     "output_type": "stream",
     "text": [
      "iter = 9\n"
     ]
    },
    {
     "name": "stderr",
     "output_type": "stream",
     "text": [
      "/usr/local/lib64/python3.7/site-packages/sklearn/svm/base.py:922: ConvergenceWarning: Liblinear failed to converge, increase the number of iterations.\n",
      "  \"the number of iterations.\", ConvergenceWarning)\n"
     ]
    },
    {
     "name": "stdout",
     "output_type": "stream",
     "text": [
      "iter = 10\n"
     ]
    },
    {
     "name": "stderr",
     "output_type": "stream",
     "text": [
      "/usr/local/lib64/python3.7/site-packages/sklearn/svm/base.py:922: ConvergenceWarning: Liblinear failed to converge, increase the number of iterations.\n",
      "  \"the number of iterations.\", ConvergenceWarning)\n"
     ]
    },
    {
     "name": "stdout",
     "output_type": "stream",
     "text": [
      "iter = 11\n"
     ]
    },
    {
     "name": "stderr",
     "output_type": "stream",
     "text": [
      "/usr/local/lib64/python3.7/site-packages/sklearn/svm/base.py:922: ConvergenceWarning: Liblinear failed to converge, increase the number of iterations.\n",
      "  \"the number of iterations.\", ConvergenceWarning)\n"
     ]
    },
    {
     "name": "stdout",
     "output_type": "stream",
     "text": [
      "iter = 12\n"
     ]
    },
    {
     "name": "stderr",
     "output_type": "stream",
     "text": [
      "/usr/local/lib64/python3.7/site-packages/sklearn/svm/base.py:922: ConvergenceWarning: Liblinear failed to converge, increase the number of iterations.\n",
      "  \"the number of iterations.\", ConvergenceWarning)\n"
     ]
    },
    {
     "name": "stdout",
     "output_type": "stream",
     "text": [
      "iter = 13\n"
     ]
    },
    {
     "name": "stderr",
     "output_type": "stream",
     "text": [
      "/usr/local/lib64/python3.7/site-packages/sklearn/svm/base.py:922: ConvergenceWarning: Liblinear failed to converge, increase the number of iterations.\n",
      "  \"the number of iterations.\", ConvergenceWarning)\n"
     ]
    },
    {
     "name": "stdout",
     "output_type": "stream",
     "text": [
      "iter = 14\n"
     ]
    },
    {
     "name": "stderr",
     "output_type": "stream",
     "text": [
      "/usr/local/lib64/python3.7/site-packages/sklearn/svm/base.py:922: ConvergenceWarning: Liblinear failed to converge, increase the number of iterations.\n",
      "  \"the number of iterations.\", ConvergenceWarning)\n"
     ]
    },
    {
     "name": "stdout",
     "output_type": "stream",
     "text": [
      "iter = 15\n"
     ]
    },
    {
     "name": "stderr",
     "output_type": "stream",
     "text": [
      "/usr/local/lib64/python3.7/site-packages/sklearn/svm/base.py:922: ConvergenceWarning: Liblinear failed to converge, increase the number of iterations.\n",
      "  \"the number of iterations.\", ConvergenceWarning)\n"
     ]
    },
    {
     "name": "stdout",
     "output_type": "stream",
     "text": [
      "iter = 16\n"
     ]
    },
    {
     "name": "stderr",
     "output_type": "stream",
     "text": [
      "/usr/local/lib64/python3.7/site-packages/sklearn/svm/base.py:922: ConvergenceWarning: Liblinear failed to converge, increase the number of iterations.\n",
      "  \"the number of iterations.\", ConvergenceWarning)\n"
     ]
    },
    {
     "name": "stdout",
     "output_type": "stream",
     "text": [
      "iter = 17\n"
     ]
    },
    {
     "name": "stderr",
     "output_type": "stream",
     "text": [
      "/usr/local/lib64/python3.7/site-packages/sklearn/svm/base.py:922: ConvergenceWarning: Liblinear failed to converge, increase the number of iterations.\n",
      "  \"the number of iterations.\", ConvergenceWarning)\n"
     ]
    },
    {
     "name": "stdout",
     "output_type": "stream",
     "text": [
      "iter = 18\n"
     ]
    },
    {
     "name": "stderr",
     "output_type": "stream",
     "text": [
      "/usr/local/lib64/python3.7/site-packages/sklearn/svm/base.py:922: ConvergenceWarning: Liblinear failed to converge, increase the number of iterations.\n",
      "  \"the number of iterations.\", ConvergenceWarning)\n"
     ]
    },
    {
     "name": "stdout",
     "output_type": "stream",
     "text": [
      "iter = 19\n"
     ]
    },
    {
     "name": "stderr",
     "output_type": "stream",
     "text": [
      "/usr/local/lib64/python3.7/site-packages/sklearn/svm/base.py:922: ConvergenceWarning: Liblinear failed to converge, increase the number of iterations.\n",
      "  \"the number of iterations.\", ConvergenceWarning)\n"
     ]
    },
    {
     "name": "stdout",
     "output_type": "stream",
     "text": [
      "iter = 20\n"
     ]
    },
    {
     "name": "stderr",
     "output_type": "stream",
     "text": [
      "/usr/local/lib64/python3.7/site-packages/sklearn/svm/base.py:922: ConvergenceWarning: Liblinear failed to converge, increase the number of iterations.\n",
      "  \"the number of iterations.\", ConvergenceWarning)\n"
     ]
    },
    {
     "name": "stdout",
     "output_type": "stream",
     "text": [
      "iter = 21\n"
     ]
    },
    {
     "name": "stderr",
     "output_type": "stream",
     "text": [
      "/usr/local/lib64/python3.7/site-packages/sklearn/svm/base.py:922: ConvergenceWarning: Liblinear failed to converge, increase the number of iterations.\n",
      "  \"the number of iterations.\", ConvergenceWarning)\n"
     ]
    },
    {
     "name": "stdout",
     "output_type": "stream",
     "text": [
      "iter = 22\n"
     ]
    },
    {
     "name": "stderr",
     "output_type": "stream",
     "text": [
      "/usr/local/lib64/python3.7/site-packages/sklearn/svm/base.py:922: ConvergenceWarning: Liblinear failed to converge, increase the number of iterations.\n",
      "  \"the number of iterations.\", ConvergenceWarning)\n"
     ]
    },
    {
     "name": "stdout",
     "output_type": "stream",
     "text": [
      "iter = 23\n"
     ]
    },
    {
     "name": "stderr",
     "output_type": "stream",
     "text": [
      "/usr/local/lib64/python3.7/site-packages/sklearn/svm/base.py:922: ConvergenceWarning: Liblinear failed to converge, increase the number of iterations.\n",
      "  \"the number of iterations.\", ConvergenceWarning)\n"
     ]
    },
    {
     "name": "stdout",
     "output_type": "stream",
     "text": [
      "iter = 24\n",
      "iter = 25\n",
      "iter = 26\n",
      "iter = 27\n",
      "iter = 28\n",
      "iter = 29\n",
      "iter = 30\n",
      "Закончили LogRegr\n"
     ]
    },
    {
     "data": {
      "image/png": "[encoded data removed]",
      "text/plain": [
       "<Figure size 432x288 with 1 Axes>"
      ]
     },
     "metadata": {
      "needs_background": "light"
     },
     "output_type": "display_data"
    },
    {
     "data": {
      "image/png": "[encoded data removed]",
      "text/plain": [
       "<Figure size 432x288 with 1 Axes>"
      ]
     },
     "metadata": {
      "needs_background": "light"
     },
     "output_type": "display_data"
    }
   ],
   "source": [
    "accuracy_array_train_logreg = np.zeros(NumIter + 1)\n",
    "accuracy_array_test_logreg = np.zeros(NumIter + 1)\n",
    "\n",
    "for i in range(NumIter + 1):\n",
    "    print(\"iter = {0}\".format(i))\n",
    "    log_reg = LogisticRegression(solver = 'liblinear', tol = 1e-10, C = 100000000, max_iter = i)\n",
    "    log_reg.fit(train_object, train_ans)\n",
    "\n",
    "    train_ans_predict = log_reg.predict(train_object)\n",
    "    accuracy_train = accuracy_score(train_ans, train_ans_predict)\n",
    "    accuracy_array_train_logreg[i] = accuracy_train\n",
    "\n",
    "    test_ans_predict = log_reg.predict(test_object)\n",
    "    accuracy_test = accuracy_score(test_ans, test_ans_predict)\n",
    "    accuracy_array_test_logreg[i] = accuracy_test\n",
    "\n",
    "print(\"Закончили LogRegr\")\n",
    "\n",
    "fig = plt.figure()\n",
    "plt.xlabel(r'$Iter$') \n",
    "plt.ylabel(r'$Accuracy$') \n",
    "plt.title(r'$Accuracy \\; on \\; train$') \n",
    "plt.plot([i for i in range(NumIter + 1)], accuracy_array_train_cg, label = 'Nesterov tensor 2 + CG')\n",
    "plt.plot([i for i in range(NumIter + 1)], accuracy_array_train_lbfgs, label = 'Nesterov tensor 2 + LBFGS')\n",
    "plt.plot([i for i in range(NumIter + 1)], accuracy_array_train_fgm, label = 'FGM')\n",
    "plt.plot([i for i in range(NumIter + 1)], accuracy_array_train_logreg, label = 'LogRegr')\n",
    "plt.legend()\n",
    "plt.grid(True) \n",
    "fig.savefig('accuracy_all_train.pdf')\n",
    "\n",
    "fig = plt.figure()\n",
    "plt.xlabel(r'$Iter$') \n",
    "plt.ylabel(r'$Accuracy$') \n",
    "plt.title(r'$Accuracy \\; on \\; test$') \n",
    "plt.plot([i for i in range(NumIter + 1)], accuracy_array_test_cg, label = 'Nesterov tensor 2 + CG')\n",
    "plt.plot([i for i in range(NumIter + 1)], accuracy_array_test_lbfgs, label = 'Nesterov tensor 2 + LBFGS')\n",
    "plt.plot([i for i in range(NumIter + 1)], accuracy_array_test_fgm, label = 'FGM')\n",
    "plt.plot([i for i in range(NumIter + 1)], accuracy_array_test_logreg, label = 'LogRegr')\n",
    "plt.legend()\n",
    "plt.grid(True) \n",
    "fig.savefig('accuracy_all_test.pdf')"
   ]
  },
  {
   "cell_type": "code",
   "execution_count": null,
   "metadata": {},
   "outputs": [],
   "source": []
  }
 ],
 "metadata": {
  "kernelspec": {
   "display_name": "Python 3",
   "language": "python",
   "name": "python3"
  },
  "language_info": {
   "codemirror_mode": {
    "name": "ipython",
    "version": 3
   },
   "file_extension": ".py",
   "mimetype": "text/x-python",
   "name": "python",
   "nbconvert_exporter": "python",
   "pygments_lexer": "ipython3",
   "version": "3.7.1"
  }
 },
 "nbformat": 4,
 "nbformat_minor": 2
}
